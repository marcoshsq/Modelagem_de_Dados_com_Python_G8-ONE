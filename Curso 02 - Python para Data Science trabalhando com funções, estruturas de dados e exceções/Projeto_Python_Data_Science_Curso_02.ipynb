{
  "nbformat": 4,
  "nbformat_minor": 0,
  "metadata": {
    "colab": {
      "provenance": [],
      "toc_visible": true
    },
    "kernelspec": {
      "name": "python3",
      "display_name": "Python 3"
    },
    "language_info": {
      "name": "python"
    }
  },
  "cells": [
    {
      "cell_type": "markdown",
      "source": [
        "# <font color=green> PYTHON PARA DATA SCIENCE\n",
        "---"
      ],
      "metadata": {
        "id": "AGc2Cf4cBwd7"
      }
    },
    {
      "cell_type": "markdown",
      "source": [
        "## <font color=green> 1. BIBLIOTECAS\n",
        "---"
      ],
      "metadata": {
        "id": "fH2br9y9CYZ8"
      }
    },
    {
      "cell_type": "markdown",
      "source": [
        "## 1.1 Instalação e importação de bibliotecas\n",
        "\n",
        "Na linguagem Python utiliza-se bastante o conceito de bibliotecas como um conjunto de módulos e funções úteis para o usuário. Elas facilitam em reduzir o uso de códigos no projeto, mantendo apenas o necessário para a tarefa que desejamos realizar."
      ],
      "metadata": {
        "id": "jjEKgfiuFzHz"
      }
    },
    {
      "cell_type": "markdown",
      "source": [
        "### Instalando uma biblioteca"
      ],
      "metadata": {
        "id": "JjpazCgqDRfZ"
      }
    },
    {
      "cell_type": "markdown",
      "source": [
        "Para instalar ou atualizar uma biblioteca no Python, podemos recorrer ao `pip` que é um gerenciador de bibliotecas no Python."
      ],
      "metadata": {
        "id": "_qnuIo7oIQYx"
      }
    },
    {
      "cell_type": "code",
      "source": [
        "# Instalando a biblioteca matplotlib pelo pip\n",
        "!pip install matplotlib"
      ],
      "metadata": {
        "id": "rsxrF2fEDWcc",
        "colab": {
          "base_uri": "https://localhost:8080/"
        },
        "outputId": "6c03fde2-4123-4fb9-efc8-00575efbdd3a"
      },
      "execution_count": null,
      "outputs": [
        {
          "output_type": "stream",
          "name": "stdout",
          "text": [
            "Looking in indexes: https://pypi.org/simple, https://us-python.pkg.dev/colab-wheels/public/simple/\n",
            "Requirement already satisfied: matplotlib in /usr/local/lib/python3.9/dist-packages (3.5.3)\n",
            "Requirement already satisfied: packaging>=20.0 in /usr/local/lib/python3.9/dist-packages (from matplotlib) (23.0)\n",
            "Requirement already satisfied: pyparsing>=2.2.1 in /usr/local/lib/python3.9/dist-packages (from matplotlib) (3.0.9)\n",
            "Requirement already satisfied: numpy>=1.17 in /usr/local/lib/python3.9/dist-packages (from matplotlib) (1.22.4)\n",
            "Requirement already satisfied: pillow>=6.2.0 in /usr/local/lib/python3.9/dist-packages (from matplotlib) (8.4.0)\n",
            "Requirement already satisfied: kiwisolver>=1.0.1 in /usr/local/lib/python3.9/dist-packages (from matplotlib) (1.4.4)\n",
            "Requirement already satisfied: python-dateutil>=2.7 in /usr/local/lib/python3.9/dist-packages (from matplotlib) (2.8.2)\n",
            "Requirement already satisfied: cycler>=0.10 in /usr/local/lib/python3.9/dist-packages (from matplotlib) (0.11.0)\n",
            "Requirement already satisfied: fonttools>=4.22.0 in /usr/local/lib/python3.9/dist-packages (from matplotlib) (4.39.0)\n",
            "Requirement already satisfied: six>=1.5 in /usr/local/lib/python3.9/dist-packages (from python-dateutil>=2.7->matplotlib) (1.15.0)\n"
          ]
        }
      ]
    },
    {
      "cell_type": "code",
      "source": [
        "# Instalando uma versão específica do matplotlib\n",
        "!pip install matplotlib==3.6.2"
      ],
      "metadata": {
        "id": "s7JtnISoNHjf",
        "colab": {
          "base_uri": "https://localhost:8080/"
        },
        "outputId": "e7bb62a4-64ca-4cbe-8e09-dc1bdfeb5a83"
      },
      "execution_count": null,
      "outputs": [
        {
          "output_type": "stream",
          "name": "stdout",
          "text": [
            "Looking in indexes: https://pypi.org/simple, https://us-python.pkg.dev/colab-wheels/public/simple/\n",
            "Requirement already satisfied: matplotlib==3.6.2 in /usr/local/lib/python3.9/dist-packages (3.6.2)\n",
            "Requirement already satisfied: kiwisolver>=1.0.1 in /usr/local/lib/python3.9/dist-packages (from matplotlib==3.6.2) (1.4.4)\n",
            "Requirement already satisfied: pyparsing>=2.2.1 in /usr/local/lib/python3.9/dist-packages (from matplotlib==3.6.2) (3.0.9)\n",
            "Requirement already satisfied: fonttools>=4.22.0 in /usr/local/lib/python3.9/dist-packages (from matplotlib==3.6.2) (4.39.0)\n",
            "Requirement already satisfied: cycler>=0.10 in /usr/local/lib/python3.9/dist-packages (from matplotlib==3.6.2) (0.11.0)\n",
            "Requirement already satisfied: packaging>=20.0 in /usr/local/lib/python3.9/dist-packages (from matplotlib==3.6.2) (23.0)\n",
            "Requirement already satisfied: python-dateutil>=2.7 in /usr/local/lib/python3.9/dist-packages (from matplotlib==3.6.2) (2.8.2)\n",
            "Requirement already satisfied: pillow>=6.2.0 in /usr/local/lib/python3.9/dist-packages (from matplotlib==3.6.2) (8.4.0)\n",
            "Requirement already satisfied: contourpy>=1.0.1 in /usr/local/lib/python3.9/dist-packages (from matplotlib==3.6.2) (1.0.7)\n",
            "Requirement already satisfied: numpy>=1.19 in /usr/local/lib/python3.9/dist-packages (from matplotlib==3.6.2) (1.22.4)\n",
            "Requirement already satisfied: six>=1.5 in /usr/local/lib/python3.9/dist-packages (from python-dateutil>=2.7->matplotlib==3.6.2) (1.15.0)\n"
          ]
        }
      ]
    },
    {
      "cell_type": "markdown",
      "source": [
        "Existe também o PYPI que é um repositório de bibliotecas Python que traz as bibliotecas mais utilizadas pela comunidade junto a informações de como usar e acesso as documentações de cada uma delas.\n",
        "\n",
        "- PYPI ([https://pypi.org/](https://pypi.org/))"
      ],
      "metadata": {
        "id": "IHTmQnlXInD1"
      }
    },
    {
      "cell_type": "markdown",
      "source": [
        "### Importando uma biblioteca"
      ],
      "metadata": {
        "id": "A76TbnDbDehe"
      }
    },
    {
      "cell_type": "code",
      "source": [
        "# Importando uma biblioteca sem alias\n",
        "import matplotlib"
      ],
      "metadata": {
        "id": "IOP3GEKUDNaS"
      },
      "execution_count": null,
      "outputs": []
    },
    {
      "cell_type": "code",
      "source": [
        "matplotlib.__version__"
      ],
      "metadata": {
        "id": "xciT3_H0DNUS",
        "colab": {
          "base_uri": "https://localhost:8080/",
          "height": 35
        },
        "outputId": "d4d667de-754e-4cb4-9843-bdf54d41bbc1"
      },
      "execution_count": null,
      "outputs": [
        {
          "output_type": "execute_result",
          "data": {
            "text/plain": [
              "'3.6.2'"
            ],
            "application/vnd.google.colaboratory.intrinsic+json": {
              "type": "string"
            }
          },
          "metadata": {},
          "execution_count": 3
        }
      ]
    },
    {
      "cell_type": "code",
      "source": [
        "# Importando uma biblioteca com alias\n",
        "import matplotlib.pyplot as plt"
      ],
      "metadata": {
        "id": "I8x0l_5uDNXE"
      },
      "execution_count": null,
      "outputs": []
    },
    {
      "cell_type": "code",
      "source": [
        "plt.show()"
      ],
      "metadata": {
        "id": "MjQYbxA-DWWT"
      },
      "execution_count": null,
      "outputs": []
    },
    {
      "cell_type": "markdown",
      "source": [
        "## 1.2 Utilizando pacotes/bibliotecas\n",
        "\n",
        "- Documentação do Python (https://docs.python.org/pt-br/3/)"
      ],
      "metadata": {
        "id": "oMxkV9-6GXwH"
      }
    },
    {
      "cell_type": "markdown",
      "source": [
        "#### Exemplo 1: Vamos testar a biblioteca Matplotlib para um exemplo de médias de estudantes de uma classe.\n",
        "\n",
        "(https://matplotlib.org/stable/tutorials/introductory/pyplot.html)"
      ],
      "metadata": {
        "id": "W1MHaXB2Q7tT"
      }
    },
    {
      "cell_type": "code",
      "source": [
        "import matplotlib.pyplot as plt"
      ],
      "metadata": {
        "id": "jKBw5ho2DWTa"
      },
      "execution_count": null,
      "outputs": []
    },
    {
      "cell_type": "code",
      "source": [
        "estudantes = [\"João\", \"Maria\", \"José\"]\n",
        "notas = [8.5, 9, 6.5]"
      ],
      "metadata": {
        "id": "3Q8p9LonGo63"
      },
      "execution_count": null,
      "outputs": []
    },
    {
      "cell_type": "code",
      "source": [
        "plt.bar(x = estudantes, height = notas)"
      ],
      "metadata": {
        "id": "yhwQqLmBRvIw",
        "colab": {
          "base_uri": "https://localhost:8080/",
          "height": 283
        },
        "outputId": "9e6618cf-bfac-4e9e-9147-3c54d062111d"
      },
      "execution_count": null,
      "outputs": [
        {
          "output_type": "execute_result",
          "data": {
            "text/plain": [
              "<BarContainer object of 3 artists>"
            ]
          },
          "metadata": {},
          "execution_count": 9
        },
        {
          "output_type": "display_data",
          "data": {
            "text/plain": [
              "<Figure size 432x288 with 1 Axes>"
            ],
            "image/png": "[encoded data removed]"
          },
          "metadata": {
            "needs_background": "light"
          }
        }
      ]
    },
    {
      "cell_type": "markdown",
      "source": [
        "#### Exemplo 2: Vamos selecionar aleatoriamente um aluno para apresentar o seu trabalho de ciência de dados usando a biblioteca Random\n",
        "\n",
        "(https://docs.python.org/pt-br/3/library/random.html)"
      ],
      "metadata": {
        "id": "5G6u4ZRYRIFZ"
      }
    },
    {
      "cell_type": "code",
      "source": [
        "estudantes_2 = [\"João\", \"Maria\", \"José\", \"Ana\"]"
      ],
      "metadata": {
        "id": "vnqGBX4DYv17"
      },
      "execution_count": null,
      "outputs": []
    },
    {
      "cell_type": "code",
      "source": [
        "# Importando uma função específica de uma biblioteca\n",
        "from random import choice"
      ],
      "metadata": {
        "id": "5UYHaiWaGoy1"
      },
      "execution_count": null,
      "outputs": []
    },
    {
      "cell_type": "markdown",
      "source": [
        "<font color=green>**Dica:**</font> Você pode notar ao longo de nossa prática a importância de recorrer a documentação para aprender como utilizar um método ou pacote na linguagem Python.\n",
        "\n",
        "O método `help()`, por exemplo, retorna uma descrição sobre uma variável, método ou classe.\n",
        "\n",
        "https://docs.python.org/pt-br/3/library/functions.html?#help"
      ],
      "metadata": {
        "id": "N-XJrnISGpTN"
      }
    },
    {
      "cell_type": "code",
      "source": [
        "help(choice)"
      ],
      "metadata": {
        "id": "fKv4W4PJXNOR",
        "colab": {
          "base_uri": "https://localhost:8080/"
        },
        "outputId": "6189596c-d267-4b08-af06-63f6dcdb0647"
      },
      "execution_count": null,
      "outputs": [
        {
          "output_type": "stream",
          "name": "stdout",
          "text": [
            "Help on method choice in module random:\n",
            "\n",
            "choice(seq) method of random.Random instance\n",
            "    Choose a random element from a non-empty sequence.\n",
            "\n"
          ]
        }
      ]
    },
    {
      "cell_type": "code",
      "source": [
        "estudante = choice(estudantes_2)\n",
        "estudante"
      ],
      "metadata": {
        "id": "Pal_mZsFcV80",
        "colab": {
          "base_uri": "https://localhost:8080/",
          "height": 35
        },
        "outputId": "f3917bca-8e03-4dea-b3c0-39fcf69615df"
      },
      "execution_count": null,
      "outputs": [
        {
          "output_type": "execute_result",
          "data": {
            "text/plain": [
              "'José'"
            ],
            "application/vnd.google.colaboratory.intrinsic+json": {
              "type": "string"
            }
          },
          "metadata": {},
          "execution_count": 16
        }
      ]
    },
    {
      "cell_type": "markdown",
      "source": [
        "#### Atividades - Aula 01\n"
      ],
      "metadata": {
        "id": "wq4U1BiHNlm0"
      }
    },
    {
      "cell_type": "code",
      "source": [
        "# 1. Escreva um código para instalar a versão 3.7.1 da biblioteca matplotlib.\n",
        "!pip install matplotlib==3.7.1"
      ],
      "metadata": {
        "id": "Hz9JgAquGIKU"
      },
      "execution_count": null,
      "outputs": []
    },
    {
      "cell_type": "code",
      "source": [
        "# 2. Escreva um código para importar a biblioteca numpy com o alias np.\n",
        "import numpy as np"
      ],
      "metadata": {
        "id": "gL1SaXzBGIVc"
      },
      "execution_count": null,
      "outputs": []
    },
    {
      "cell_type": "code",
      "source": [
        "# 3. Crie um programa que leia a seguinte lista de números e escolha um número desta aleatoriamente.\n",
        "from random import choice\n",
        "lista = [8, 12, 54, 23, 43, 1, 90, 87, 105, 77]\n",
        "print(f\"O número escolhido foi: {choice(lista)}\")"
      ],
      "metadata": {
        "colab": {
          "base_uri": "https://localhost:8080/"
        },
        "id": "HJdKD1s0GIcQ",
        "outputId": "ddaa1eb5-4d5b-4ed0-ce9f-8907ee31086b"
      },
      "execution_count": null,
      "outputs": [
        {
          "output_type": "stream",
          "name": "stdout",
          "text": [
            "O número escolhido foi: 77\n"
          ]
        }
      ]
    },
    {
      "cell_type": "code",
      "source": [
        "# 4. Crie um programa que sorteia, aleatoriamente, um número inteiro positivo menor que 100.\n",
        "from random import randint\n",
        "numero_sorteado = randint(0, 99)\n",
        "print(\"Número sorteado:\", numero_sorteado)"
      ],
      "metadata": {
        "colab": {
          "base_uri": "https://localhost:8080/"
        },
        "id": "iRd59Q21GInU",
        "outputId": "afae8555-7b88-46b9-bff6-1182d42d10f5"
      },
      "execution_count": null,
      "outputs": [
        {
          "output_type": "stream",
          "name": "stdout",
          "text": [
            "Número sorteado: 84\n"
          ]
        }
      ]
    },
    {
      "cell_type": "code",
      "source": [
        "# 5. Crie um programa que solicite à pessoa usuária digitar dois números inteiros e calcular a potência do 1º número elevado ao 2º.\n",
        "from math import pow\n",
        "base = int(input(\"Digite um número: \"))\n",
        "expoente = int(input(\"Digite outro número: \"))\n",
        "print(f\"O número {base} elevado ao expoente {expoente} resulta em: {pow(base, expoente)}\")"
      ],
      "metadata": {
        "colab": {
          "base_uri": "https://localhost:8080/"
        },
        "id": "SbbqSmWNGIuO",
        "outputId": "ba951a4f-9ccc-4bfe-e356-23ec8bd2efd2"
      },
      "execution_count": null,
      "outputs": [
        {
          "output_type": "stream",
          "name": "stdout",
          "text": [
            "Digite um número: 10\n",
            "Digite outro número: 2\n",
            "O número 10 elevado a o expoente 2 resulta em: 100.0\n"
          ]
        }
      ]
    },
    {
      "cell_type": "code",
      "source": [
        "# 6. Um programa deve ser escrito para sortear uma pessoa seguidora de uma rede social para ganhar um prêmio.\n",
        "# A lista de participantes é numerada e devemos escolher aleatoriamente um número de acordo com a quantidade de participantes.\n",
        "# Peça à pessoa usuária para fornecer o número de participantes do sorteio e devolva para ela o número sorteado.\n",
        "\n",
        "from random import randrange\n",
        "participantes = int(input(\"Digite o número de participantes: \"))\n",
        "print(f\"O número selecionado foi: {randrange(participantes)}\")"
      ],
      "metadata": {
        "colab": {
          "base_uri": "https://localhost:8080/"
        },
        "id": "KOkTe0xKGI1D",
        "outputId": "b0000936-0517-4f6c-e96e-ad6f8a839d63"
      },
      "execution_count": null,
      "outputs": [
        {
          "output_type": "stream",
          "name": "stdout",
          "text": [
            "Digite o número de participantes: 50\n",
            "O número selecionado foi: 32\n"
          ]
        }
      ]
    },
    {
      "cell_type": "code",
      "source": [
        "# 7. Você recebeu uma demanda para gerar números de token para acessar o aplicativo de uma empresa. O token precisa ser par e variar de 1000 até 9998.\n",
        "# Escreva um código que solicita à pessoa usuária o seu nome e exibe uma mensagem junto a esse token gerado aleatoriamente.\n",
        "\n",
        "from random import randint\n",
        "nome = input(\"Qual o seu nome: \")\n",
        "while True:\n",
        "    token = randint(1000, 9998)\n",
        "    if token % 2 == 0:\n",
        "        print(f\"Olá, {nome}, o seu token de acesso é {token}! Seja bem-vindo(a)!\")\n",
        "        break"
      ],
      "metadata": {
        "colab": {
          "base_uri": "https://localhost:8080/"
        },
        "id": "Fg4QDJJLGI-t",
        "outputId": "239955f4-d59b-418b-8137-2da1a796b117"
      },
      "execution_count": null,
      "outputs": [
        {
          "output_type": "stream",
          "name": "stdout",
          "text": [
            "Qual o seu nome: Mario\n",
            "Olá, Mario, o seu token de acesso é 7094! Seja bem-vindo(a)!\n"
          ]
        }
      ]
    },
    {
      "cell_type": "code",
      "source": [
        "# 8. Para diversificar e atrair novos(as) clientes, uma lanchonete criou um item misterioso em seu cardápio chamado \"salada de frutas surpresa\".\n",
        "# Neste item, são escolhidas aleatoriamente 3 frutas de uma lista de 12 para compor a salada de frutas da pessoa cliente.\n",
        "# Crie o código que faça essa seleção aleatória de acordo com a lista abaixo:\n",
        "\n",
        "from random import sample\n",
        "\n",
        "frutas = [\"maçã\", \"banana\", \"uva\", \"pêra\",\n",
        "          \"manga\", \"coco\", \"melancia\", \"mamão\",\n",
        "          \"laranja\", \"abacaxi\", \"kiwi\", \"ameixa\"]\n",
        "\n",
        "salada_frutas = sample(frutas, 3)\n",
        "\n",
        "# Formata a lista como \"banana, manga e kiwi\"\n",
        "salada_formatada = f\"{', '.join(salada_frutas[:-1])} e {salada_frutas[-1]}\"\n",
        "\n",
        "print(f\"🍓 Sua salada de frutas surpresa contém: {salada_formatada}! Aproveite 😋\")"
      ],
      "metadata": {
        "colab": {
          "base_uri": "https://localhost:8080/"
        },
        "id": "2p8HkB1fGJFt",
        "outputId": "d0d5ea4a-a326-4325-dd73-f87daf61bd10"
      },
      "execution_count": null,
      "outputs": [
        {
          "output_type": "stream",
          "name": "stdout",
          "text": [
            "🍓 Sua salada de frutas surpresa contém: melancia, banana e mamão! Aproveite 😋\n"
          ]
        }
      ]
    },
    {
      "cell_type": "code",
      "source": [
        "# 9. Você recebeu um desafio de calcular a raiz quadrada de uma lista de números,\n",
        "# identificando quais resultaram em um número inteiro.\n",
        "# No final, informe quais números possuem raízes inteiras e seus respectivos valores.\n",
        "\n",
        "from math import sqrt\n",
        "\n",
        "numeros = [2, 8, 15, 23, 91, 112, 256, 25, 1955, 23, 16, 4, 2]\n",
        "\n",
        "print(\"Números com raízes quadradas inteiras:\")\n",
        "for numero in numeros:\n",
        "    raiz = sqrt(numero)\n",
        "    if raiz.is_integer():  # verifica se a raiz quadrada é um número inteiro\n",
        "        print(f\"✔️ {numero} tem raiz inteira: {int(raiz)}\")\n"
      ],
      "metadata": {
        "colab": {
          "base_uri": "https://localhost:8080/"
        },
        "id": "OigLd8-0GJNE",
        "outputId": "e20f66ea-2cf2-48b1-b57a-029675a7836f"
      },
      "execution_count": null,
      "outputs": [
        {
          "output_type": "stream",
          "name": "stdout",
          "text": [
            "Números com raízes quadradas inteiras:\n",
            "✔️ 256 tem raiz inteira: 16\n",
            "✔️ 25 tem raiz inteira: 5\n",
            "✔️ 16 tem raiz inteira: 4\n",
            "✔️ 4 tem raiz inteira: 2\n"
          ]
        }
      ]
    },
    {
      "cell_type": "code",
      "source": [
        "# 10. Faça um programa para uma loja que vende grama para jardins. Essa loja trabalha com jardins circulares e o preço do metro quadrado da grama é de R$ 25,00.\n",
        "# Peça à pessoa usuária o raio da área circular e devolva o valor em reais do quanto precisará pagar.\n",
        "\n",
        "from math import pi\n",
        "\n",
        "raio = float(input(\"Informe o raio do jardim (em metros): \"))\n",
        "area = pi * raio ** 2\n",
        "preco_m2 = 25.00\n",
        "custo_total = area * preco_m2\n",
        "\n",
        "print(f\"Área do jardim: {area:.2f} m²\")\n",
        "print(f\"Preço total da grama: R$ {custo_total:.2f}\")\n"
      ],
      "metadata": {
        "colab": {
          "base_uri": "https://localhost:8080/"
        },
        "id": "bynhfWYuGJTz",
        "outputId": "1c60cc1b-5e8c-4ab8-84df-1a2a80fd13cf"
      },
      "execution_count": null,
      "outputs": [
        {
          "output_type": "stream",
          "name": "stdout",
          "text": [
            "Informe o raio do jardim (em metros): 20\n",
            "Área do jardim: 1256.64 m²\n",
            "Preço total da grama: R$ 31415.93\n"
          ]
        }
      ]
    },
    {
      "cell_type": "markdown",
      "source": [
        "## <font color=green> 2. FUNÇÕES\n",
        "---"
      ],
      "metadata": {
        "id": "2hrSPmlcBwWS"
      }
    },
    {
      "cell_type": "markdown",
      "source": [
        "Na linguagem Python, as **funções** são sequências de instruções que executam tarefas específicas, podendo ser reutilizadas em diferentes partes do código. Elas podem receber parâmetros de entrada (que podemos chamar de *inputs*) e também retornar resultados."
      ],
      "metadata": {
        "id": "gC4lHsW-DREY"
      }
    },
    {
      "cell_type": "markdown",
      "source": [
        "## 2.1 Built-in function\n",
        "\n",
        "O interpretador do Python já possui uma série de funções embutidas que podem ser invocadas a qualquer momento. Algumas que vamos utilizar ao longo desse curso são: type(), print(), list(), zip(), sum(), map() etc.\n",
        "\n",
        "***Documentação:***\n",
        "https://docs.python.org/pt-br/3/library/functions.html\n"
      ],
      "metadata": {
        "id": "Qr_h1_UNEzHZ"
      }
    },
    {
      "cell_type": "markdown",
      "source": [
        "#### **Situação 1:**\n",
        "\n",
        "A escola em que estamos construindo o nosso case de dados compartilhou os dados das notas de um estudante para que pudéssemos calcular a média deste em até uma casa decimal.\n",
        "\n",
        "Os dados recebidos correspondem a um dicionário com as chaves indicando o trimestre em questão e os valores das notas de cada trimestre do estudante em uma dada matéria."
      ],
      "metadata": {
        "id": "MMOJIW3TyLIB"
      }
    },
    {
      "cell_type": "code",
      "source": [
        "# Notas do(a) estudante\n",
        "notas = {'1º Trimestre': 8.5, '2º Trimestre': 7.5, '3º Trimestre': 9}\n",
        "notas"
      ],
      "metadata": {
        "colab": {
          "base_uri": "https://localhost:8080/"
        },
        "id": "kRAMC_KbI6U4",
        "outputId": "a5574168-1501-48a8-94ac-02edb7615d2e"
      },
      "execution_count": null,
      "outputs": [
        {
          "output_type": "execute_result",
          "data": {
            "text/plain": [
              "{'1º Trimestre': 8.5, '2º Trimestre': 7.5, '3º Trimestre': 9}"
            ]
          },
          "metadata": {},
          "execution_count": 2
        }
      ]
    },
    {
      "cell_type": "code",
      "source": [
        "# Calculando a soma\n",
        "soma = 0\n",
        "for i in notas.values():\n",
        "    soma += i\n",
        "soma"
      ],
      "metadata": {
        "id": "S7vIqSZJI6P4",
        "colab": {
          "base_uri": "https://localhost:8080/"
        },
        "outputId": "f217da04-3249-4dd8-8984-f4338b219955"
      },
      "execution_count": null,
      "outputs": [
        {
          "output_type": "execute_result",
          "data": {
            "text/plain": [
              "25.0"
            ]
          },
          "metadata": {},
          "execution_count": 6
        }
      ]
    },
    {
      "cell_type": "code",
      "source": [
        "# Usando a função embutida sum()\n",
        "somatorio = sum(notas.values())\n",
        "somatorio"
      ],
      "metadata": {
        "id": "yr9YSRwNPF9S",
        "colab": {
          "base_uri": "https://localhost:8080/"
        },
        "outputId": "94c7da71-b64c-42ab-9c91-35d652dda420"
      },
      "execution_count": null,
      "outputs": [
        {
          "output_type": "execute_result",
          "data": {
            "text/plain": [
              "25.0"
            ]
          },
          "metadata": {},
          "execution_count": 8
        }
      ]
    },
    {
      "cell_type": "code",
      "source": [
        "# Usando a função embutida len()\n",
        "qtd_notas = len(notas)\n",
        "qtd_notas"
      ],
      "metadata": {
        "id": "Zn6XAAdQI6Fw",
        "colab": {
          "base_uri": "https://localhost:8080/"
        },
        "outputId": "dcfd656e-74be-4e49-cfcb-acaff868288e"
      },
      "execution_count": null,
      "outputs": [
        {
          "output_type": "execute_result",
          "data": {
            "text/plain": [
              "3"
            ]
          },
          "metadata": {},
          "execution_count": 10
        }
      ]
    },
    {
      "cell_type": "code",
      "source": [
        "# calculando a média\n",
        "media = somatorio / qtd_notas\n",
        "media"
      ],
      "metadata": {
        "id": "iUx5UixrNsQh",
        "colab": {
          "base_uri": "https://localhost:8080/"
        },
        "outputId": "52a8617e-9353-402d-c8d6-30f5082c7352"
      },
      "execution_count": null,
      "outputs": [
        {
          "output_type": "execute_result",
          "data": {
            "text/plain": [
              "8.333333333333334"
            ]
          },
          "metadata": {},
          "execution_count": 15
        }
      ]
    },
    {
      "cell_type": "markdown",
      "source": [
        "*Arredondar a média usando round():*\n",
        "\n",
        "https://docs.python.org/pt-br/3/library/functions.html#round"
      ],
      "metadata": {
        "id": "JD2z3LW8312E"
      }
    },
    {
      "cell_type": "code",
      "source": [
        "round?"
      ],
      "metadata": {
        "id": "OAZC5RwkSwWh"
      },
      "execution_count": null,
      "outputs": []
    },
    {
      "cell_type": "code",
      "source": [
        "round(media, 2)"
      ],
      "metadata": {
        "id": "cJ1C2Pg-4PNq",
        "colab": {
          "base_uri": "https://localhost:8080/"
        },
        "outputId": "d8778f78-fb00-438f-c509-743bcd683e03"
      },
      "execution_count": null,
      "outputs": [
        {
          "output_type": "execute_result",
          "data": {
            "text/plain": [
              "8.33"
            ]
          },
          "metadata": {},
          "execution_count": 17
        }
      ]
    },
    {
      "cell_type": "markdown",
      "source": [
        "## 2.2 Criando funções"
      ],
      "metadata": {
        "id": "NCUSezOJIdfy"
      }
    },
    {
      "cell_type": "markdown",
      "source": [
        "Depois de explorarmos a built-in functions e aprendermos como utilizar algumas delas, você pode se deparar com a necessidade de resolver um problema específico em que elas não serão o suficiente.\n",
        "\n",
        "Nesse ponto, precisaremos criar as nossas próprias funções, ainda mais se precisarmos utilizá-las em mais partes de nossos códigos."
      ],
      "metadata": {
        "id": "QrTAXwghsg6s"
      }
    },
    {
      "cell_type": "markdown",
      "source": [
        "### Funções sem parâmetros\n",
        "\n",
        "#### Formato padrão:\n",
        "\n",
        "```python\n",
        "def <nome>():\n",
        "  <instruções>\n",
        "```"
      ],
      "metadata": {
        "id": "zxyXiX462A_X"
      }
    },
    {
      "cell_type": "code",
      "source": [
        "def media():\n",
        "    calculo = (10 + 9 + 8) / 3\n",
        "    print(calculo)"
      ],
      "metadata": {
        "id": "zQtsnpyCzHfb"
      },
      "execution_count": null,
      "outputs": []
    },
    {
      "cell_type": "code",
      "source": [
        "media()"
      ],
      "metadata": {
        "id": "Eq4U8TPq0xOv",
        "colab": {
          "base_uri": "https://localhost:8080/"
        },
        "outputId": "b294e291-e6ec-4d71-dbf8-966575ebd091"
      },
      "execution_count": null,
      "outputs": [
        {
          "output_type": "stream",
          "name": "stdout",
          "text": [
            "9.0\n"
          ]
        }
      ]
    },
    {
      "cell_type": "markdown",
      "source": [
        "### Funções com parâmetros\n",
        "\n",
        "#### Formato padrão:\n",
        "\n",
        "```python\n",
        "def <nome>(<param_1>, <param_2>, ..., <param_n>):\n",
        "  <instruções>\n",
        "```"
      ],
      "metadata": {
        "id": "o9AR_DNDFKSD"
      }
    },
    {
      "cell_type": "code",
      "source": [
        "def media(nota_1, nota_2, nota_3):\n",
        "    calculo = (nota_1 + nota_2 + nota_3) / 3\n",
        "    print(calculo)"
      ],
      "metadata": {
        "id": "zVIvbjeRDR24"
      },
      "execution_count": null,
      "outputs": []
    },
    {
      "cell_type": "code",
      "source": [
        "media(10, 9, 8)"
      ],
      "metadata": {
        "id": "c6H9lfBn3FuA",
        "colab": {
          "base_uri": "https://localhost:8080/"
        },
        "outputId": "ad1d07ed-ce2d-41e1-b09c-c88325231012"
      },
      "execution_count": null,
      "outputs": [
        {
          "output_type": "stream",
          "name": "stdout",
          "text": [
            "9.0\n"
          ]
        }
      ]
    },
    {
      "cell_type": "code",
      "source": [
        "nota_1 = 10\n",
        "nota_2 = 9\n",
        "nota_3 = 8\n",
        "\n",
        "media(nota_1, nota_2, nota_3)"
      ],
      "metadata": {
        "id": "38M9GYEVQp_x",
        "colab": {
          "base_uri": "https://localhost:8080/"
        },
        "outputId": "3b8a531f-76e4-4ace-c807-fdd6f4b78b12"
      },
      "execution_count": null,
      "outputs": [
        {
          "output_type": "stream",
          "name": "stdout",
          "text": [
            "9.0\n"
          ]
        }
      ]
    },
    {
      "cell_type": "markdown",
      "source": [
        "#### **Situação 2:**\n",
        "\n",
        "Recebemos uma demanda de calcular a média de um estudante a partir de uma lista, sendo possível alterar a quantidade de notas, sem impedir que o cálculo seja refeito.\n",
        "\n",
        "Os dados recebidos, desta vez, correspondem a uma lista contendo apenas as notas de um estudante em uma dada matéria.\n",
        "\n",
        "**Vamos resolver esse desafio?**\n",
        "\n",
        "Para facilitar o nosso entendimento do processo vamos aplicar às notas de apenas um estudante, mas você pode testar outros casos para treinar."
      ],
      "metadata": {
        "id": "-Umx7n134suz"
      }
    },
    {
      "cell_type": "code",
      "source": [
        "# Notas do(a) estudante\n",
        "notas = [8.5, 9.0, 6.0, 10.0]"
      ],
      "metadata": {
        "id": "9AiWnXLuzc1P"
      },
      "execution_count": null,
      "outputs": []
    },
    {
      "cell_type": "code",
      "source": [
        "def media(lista):\n",
        "    calculo = sum(lista) / len(lista)\n",
        "    print(calculo)"
      ],
      "metadata": {
        "id": "bEf8Evf1DR0I"
      },
      "execution_count": null,
      "outputs": []
    },
    {
      "cell_type": "code",
      "source": [
        "media(notas)"
      ],
      "metadata": {
        "id": "R5ylO_vW6k8C",
        "colab": {
          "base_uri": "https://localhost:8080/"
        },
        "outputId": "4436f4c1-da38-4e35-e495-e9a2a419997f"
      },
      "execution_count": null,
      "outputs": [
        {
          "output_type": "stream",
          "name": "stdout",
          "text": [
            "8.375\n"
          ]
        }
      ]
    },
    {
      "cell_type": "code",
      "source": [
        "resultado = media(notas)"
      ],
      "metadata": {
        "id": "9wNMcPOK_T9F",
        "colab": {
          "base_uri": "https://localhost:8080/"
        },
        "outputId": "497b94de-7bd2-4db1-8aa6-a6f9567c3fd3"
      },
      "execution_count": null,
      "outputs": [
        {
          "output_type": "stream",
          "name": "stdout",
          "text": [
            "8.375\n"
          ]
        }
      ]
    },
    {
      "cell_type": "code",
      "source": [
        "resultado"
      ],
      "metadata": {
        "id": "4xnmTQ9w_ZTi"
      },
      "execution_count": null,
      "outputs": []
    },
    {
      "cell_type": "code",
      "source": [
        "type(resultado)"
      ],
      "metadata": {
        "id": "x6m24TcG_W3w",
        "colab": {
          "base_uri": "https://localhost:8080/"
        },
        "outputId": "c6694dbc-40eb-4872-f020-d918b0a204e2"
      },
      "execution_count": null,
      "outputs": [
        {
          "output_type": "execute_result",
          "data": {
            "text/plain": [
              "NoneType"
            ]
          },
          "metadata": {},
          "execution_count": 33
        }
      ]
    },
    {
      "cell_type": "markdown",
      "source": [
        "<font color=red>**Atenção!**</font>\n",
        "Quando utilizamos funções precisamos prestar atenção a uma propriedade chamada **escopo de uma função**\n",
        "\n",
        "Ela determina onde uma variável pode ser utilizada dentro do código. Por exemplo, uma variável criada dentro de uma função existirá apenas dentro da função. Ou seja, encerrando a execução da função, a variável não estará disponível para o usuário no restante do código."
      ],
      "metadata": {
        "id": "skMq7d0_xHND"
      }
    },
    {
      "cell_type": "code",
      "source": [
        "calculo"
      ],
      "metadata": {
        "id": "5FBWT2_gzIzR",
        "colab": {
          "base_uri": "https://localhost:8080/",
          "height": 141
        },
        "outputId": "b859006c-99f6-4f70-9c9b-e4bec6c00f5d"
      },
      "execution_count": null,
      "outputs": [
        {
          "output_type": "error",
          "ename": "NameError",
          "evalue": "name 'calculo' is not defined",
          "traceback": [
            "\u001b[0;31m---------------------------------------------------------------------------\u001b[0m",
            "\u001b[0;31mNameError\u001b[0m                                 Traceback (most recent call last)",
            "\u001b[0;32m<ipython-input-34-358730cc7909>\u001b[0m in \u001b[0;36m<cell line: 0>\u001b[0;34m()\u001b[0m\n\u001b[0;32m----> 1\u001b[0;31m \u001b[0mcalculo\u001b[0m\u001b[0;34m\u001b[0m\u001b[0;34m\u001b[0m\u001b[0m\n\u001b[0m",
            "\u001b[0;31mNameError\u001b[0m: name 'calculo' is not defined"
          ]
        }
      ]
    },
    {
      "cell_type": "markdown",
      "source": [
        "## 2.3 Funções que retornam valores\n",
        "\n",
        "#### Formato padrão:\n",
        "\n",
        "```python\n",
        "def <nome>(<param_1>, <param_2>, ..., <param_n>):\n",
        "  <instruções>\n",
        "  return resultado\n",
        "```"
      ],
      "metadata": {
        "id": "-oDFGKcA52kG"
      }
    },
    {
      "cell_type": "markdown",
      "source": [
        "Retomando a atividade anterior, podemos retornar e salvar o valor da média da seguinte forma:"
      ],
      "metadata": {
        "id": "DxvT_uItbQ-q"
      }
    },
    {
      "cell_type": "code",
      "source": [
        "# Notas do(a) estudante\n",
        "notas = [8.5, 9.0, 6.0, 10.0]"
      ],
      "metadata": {
        "id": "GlWdnX7Ubgl3"
      },
      "execution_count": null,
      "outputs": []
    },
    {
      "cell_type": "code",
      "source": [
        "def media(lista: list=[0]) -> float:\n",
        "  ''' Função para calcular a média de notas passadas por uma lista\n",
        "\n",
        "  lista: list, default [0]\n",
        "    Lista com as notas para calcular a média\n",
        "  return = calculo: float\n",
        "    Média calculada\n",
        "  '''\n",
        "  calculo = sum(lista) / len(lista)\n",
        "  return calculo"
      ],
      "metadata": {
        "id": "B6yqoM7KAKKK"
      },
      "execution_count": null,
      "outputs": []
    },
    {
      "cell_type": "code",
      "source": [
        "resultado = media(notas)"
      ],
      "metadata": {
        "id": "GlqPKe3_AT0Q"
      },
      "execution_count": null,
      "outputs": []
    },
    {
      "cell_type": "code",
      "source": [
        "resultado"
      ],
      "metadata": {
        "id": "E81HZh8rAYJz",
        "colab": {
          "base_uri": "https://localhost:8080/"
        },
        "outputId": "72565555-712e-46ab-c55b-ae62a7ee5769"
      },
      "execution_count": null,
      "outputs": [
        {
          "output_type": "execute_result",
          "data": {
            "text/plain": [
              "8.375"
            ]
          },
          "metadata": {},
          "execution_count": 40
        }
      ]
    },
    {
      "cell_type": "markdown",
      "source": [
        "#### **Situação 3:**\n",
        "\n",
        "Recebemos uma nova demanda, desta vez, de calcular a média de um estudante a partir de uma lista e retornar tanto a média quanto a situação do estudante (\"Aprovado(a)\" se a nota for maior ou igual a 6.0, caso contrário, será \"Reprovado(a)\").\n",
        "\n",
        "Além disso, precisamos exibir um pequeno texto em que indicamos a média do(a) estudante e qual a situação. Os dados recebidos correspondem a uma lista contendo apenas as notas de um estudante em uma dada matéria.\n",
        "\n",
        "**Vamos resolver esse desafio?**\n",
        "\n",
        "Para facilitar o nosso entendimento do processo vamos aplicar as notas de apenas um estudante, mas você pode testar outros casos para treinar."
      ],
      "metadata": {
        "id": "_awyOKOH8OOi"
      }
    },
    {
      "cell_type": "code",
      "source": [
        "# Notas do(a) estudante\n",
        "notas = [6.0, 7.0, 9.0, 5.0]"
      ],
      "metadata": {
        "id": "8LmWZ2U9-Zv3"
      },
      "execution_count": null,
      "outputs": []
    },
    {
      "cell_type": "code",
      "source": [
        "def boletim(lista):\n",
        "  media = sum(notas) / len(notas)\n",
        "  if media >= 6:\n",
        "    situacao = \"Aprovado(a)\"\n",
        "  else:\n",
        "    situacao = \"Reprovado(a)\"\n",
        "  return (media, situacao)"
      ],
      "metadata": {
        "id": "bJ9KmlHv5o0i"
      },
      "execution_count": null,
      "outputs": []
    },
    {
      "cell_type": "code",
      "source": [
        "boletim(notas)"
      ],
      "metadata": {
        "id": "rIiA2cpB-squ",
        "colab": {
          "base_uri": "https://localhost:8080/"
        },
        "outputId": "25b3b6c2-bee4-48fa-c9ec-27be103bb982"
      },
      "execution_count": null,
      "outputs": [
        {
          "output_type": "execute_result",
          "data": {
            "text/plain": [
              "(6.75, 'Aprovado(a)')"
            ]
          },
          "metadata": {},
          "execution_count": 46
        }
      ]
    },
    {
      "cell_type": "code",
      "source": [
        "media, situacao = boletim(notas)"
      ],
      "metadata": {
        "id": "_xf7bR6JBjD8"
      },
      "execution_count": null,
      "outputs": []
    },
    {
      "cell_type": "code",
      "source": [
        "media"
      ],
      "metadata": {
        "id": "5ixwo3o3CdQ0",
        "colab": {
          "base_uri": "https://localhost:8080/"
        },
        "outputId": "3f609052-646a-426c-a69d-176458722813"
      },
      "execution_count": null,
      "outputs": [
        {
          "output_type": "execute_result",
          "data": {
            "text/plain": [
              "6.75"
            ]
          },
          "metadata": {},
          "execution_count": 48
        }
      ]
    },
    {
      "cell_type": "code",
      "source": [
        "situacao"
      ],
      "metadata": {
        "id": "VFQacFSICeaO",
        "colab": {
          "base_uri": "https://localhost:8080/",
          "height": 35
        },
        "outputId": "22a1741d-dd48-48ab-e267-a3f502eaf1cc"
      },
      "execution_count": null,
      "outputs": [
        {
          "output_type": "execute_result",
          "data": {
            "text/plain": [
              "'Aprovado(a)'"
            ],
            "application/vnd.google.colaboratory.intrinsic+json": {
              "type": "string"
            }
          },
          "metadata": {},
          "execution_count": 49
        }
      ]
    },
    {
      "cell_type": "code",
      "source": [
        "print(f'O(a) estudante atingiu uma média de {media} e foi {situacao}.')"
      ],
      "metadata": {
        "id": "ecFviUvOCgXF",
        "colab": {
          "base_uri": "https://localhost:8080/"
        },
        "outputId": "22e0de4d-13ae-4e1b-ebab-32128c48ecf3"
      },
      "execution_count": null,
      "outputs": [
        {
          "output_type": "stream",
          "name": "stdout",
          "text": [
            "O(a) estudante atingiu uma média de 6.75 e foi Aprovado(a).\n"
          ]
        }
      ]
    },
    {
      "cell_type": "markdown",
      "source": [
        "## 2.4 Funções lambda\n",
        "\n",
        "Também chamadas de funções anônimas, são funções que não precisam ser definidas, ou seja não possuem um nome, e descrevem em uma única linha os comandos que desejamos aplicar.\n",
        "\n",
        "https://docs.python.org/pt-br/3/reference/expressions.html?#lambda\n",
        "\n",
        "#### Formato padrão:\n",
        "\n",
        "```python\n",
        "lambda <variavel>: <expressao>\n",
        "```"
      ],
      "metadata": {
        "id": "hwYYRpkZMft5"
      }
    },
    {
      "cell_type": "markdown",
      "source": [
        "#### **Situação 4:**\n",
        "\n",
        "Nesta nova demanda, precisamos criar uma calculadora simples da média ponderada de notas de uma dada matéria. Vamos requisitar ao usuário a entrada das 3 notas (N1, N2, N3) do estudante e devolver a média ponderada deste estudante. Os pesos das notas são de, respectivamente 3, 2, 5.\n",
        "\n",
        "Precisamos exibir um pequeno texto em que indicamos a média do(a) estudante.\n",
        "\n",
        "**Vamos resolver esse desafio?**"
      ],
      "metadata": {
        "id": "AuRWyNXYgD_b"
      }
    },
    {
      "cell_type": "code",
      "source": [
        "# Comparando uma função de qualitativo no formato de função para função anônima\n",
        "nota = float(input(\"Digite a nota do(a) estudante: \"))\n",
        "def qualitativo(x):\n",
        "    return x + 0.5\n",
        "qualitativo(nota)"
      ],
      "metadata": {
        "id": "4EjJD3w3lbzJ",
        "colab": {
          "base_uri": "https://localhost:8080/"
        },
        "outputId": "3fd33fb3-fd32-4e0a-fd4f-9468be4f9e1f"
      },
      "execution_count": null,
      "outputs": [
        {
          "name": "stdout",
          "output_type": "stream",
          "text": [
            "Digite a nota do(a) estudante: 8\n"
          ]
        },
        {
          "output_type": "execute_result",
          "data": {
            "text/plain": [
              "8.5"
            ]
          },
          "metadata": {},
          "execution_count": 54
        }
      ]
    },
    {
      "cell_type": "code",
      "source": [
        "# Testando a mesma função para uma função lambda\n",
        "nota = float(input(\"Digite a nota do(a) estudante: \"))\n",
        "qualitativo = lambda x: x + 0.5\n",
        "qualitativo(nota)"
      ],
      "metadata": {
        "id": "vZjaUmaJFp3D",
        "colab": {
          "base_uri": "https://localhost:8080/"
        },
        "outputId": "d05dbbcc-f42d-45d0-af1f-0da24194b1e9"
      },
      "execution_count": null,
      "outputs": [
        {
          "name": "stdout",
          "output_type": "stream",
          "text": [
            "Digite a nota do(a) estudante: 8\n"
          ]
        },
        {
          "output_type": "execute_result",
          "data": {
            "text/plain": [
              "8.5"
            ]
          },
          "metadata": {},
          "execution_count": 55
        }
      ]
    },
    {
      "cell_type": "markdown",
      "source": [
        "**Partindo para nosso problema:**"
      ],
      "metadata": {
        "id": "vdKk3DRBmtUE"
      }
    },
    {
      "cell_type": "code",
      "source": [
        "# Recebendo as notas e calculando a média ponderável\n",
        "N1 = float(input(\"Digite a 1ª nota do(a) estudante: \"))\n",
        "N2 = float(input(\"Digite a 2ª nota do(a) estudante: \"))\n",
        "N3 = float(input(\"Digite a 3ª nota do(a) estudante: \"))\n",
        "\n",
        "media_ponderada = lambda x, y, z: (x * 3 + y * 2 + z * 5) / 10\n",
        "media_estudante = media_ponderada(N1, N2, N3)\n",
        "media_estudante"
      ],
      "metadata": {
        "colab": {
          "base_uri": "https://localhost:8080/"
        },
        "id": "azStYQgKnsZn",
        "outputId": "1f0481b9-f42e-476d-b602-127388617a8c"
      },
      "execution_count": null,
      "outputs": [
        {
          "name": "stdout",
          "output_type": "stream",
          "text": [
            "Digite a 1ª nota do(a) estudante: 8\n",
            "Digite a 2ª nota do(a) estudante: 5\n",
            "Digite a 3ª nota do(a) estudante: 9\n"
          ]
        },
        {
          "output_type": "execute_result",
          "data": {
            "text/plain": [
              "7.9"
            ]
          },
          "metadata": {},
          "execution_count": 58
        }
      ]
    },
    {
      "cell_type": "code",
      "source": [
        "# Exibindo a média\n",
        "print(f'O(a) estudante atingiu uma média de {media_estudante}')"
      ],
      "metadata": {
        "id": "Ek1s_FkjkQrW",
        "colab": {
          "base_uri": "https://localhost:8080/"
        },
        "outputId": "22a929f1-fa6d-4381-d335-fe89c2e8e5e8"
      },
      "execution_count": null,
      "outputs": [
        {
          "output_type": "stream",
          "name": "stdout",
          "text": [
            "O(a) estudante atingiu uma média de 7.9\n"
          ]
        }
      ]
    },
    {
      "cell_type": "markdown",
      "source": [
        "### Mapeando valores\n",
        "\n",
        "#### Formato padrão:\n",
        "\n",
        "```python\n",
        "map(<lambda function>, <iterador>)\n",
        "```"
      ],
      "metadata": {
        "id": "SOK4BC4mmKbG"
      }
    },
    {
      "cell_type": "markdown",
      "source": [
        "#### **Situação 5:**\n",
        "\n",
        "Recebemos mais uma demanda, desta vez, para criar uma pequena função que pudesse adicionar qualitativo (pontuação extra) às notas do trimestre dos estudantes da turma que ganhou a gincana de programação promovida pela escola. Cada estudante receberá o qualitativo de 0.5 acrescido à média.\n",
        "\n",
        "Os dados recebidos correspondem a uma lista contendo as notas de alguns estudantes e uma variável com o qualitativo recebido.\n",
        "\n",
        "**Vamos resolver esse desafio?**\n",
        "\n",
        "Para facilitar o nosso entendimento do processo vamos aplicar o qualitativo às notas de 5 estudantes, mas você pode testar outros casos para treinar."
      ],
      "metadata": {
        "id": "1qk0gLdfFcbf"
      }
    },
    {
      "cell_type": "code",
      "source": [
        "# Notas do(a) estudante\n",
        "notas = [6.0, 7.0, 9.0, 5.5, 8.0]\n",
        "qualitativo = 0.5"
      ],
      "metadata": {
        "id": "RdoaWhuVI_OB"
      },
      "execution_count": null,
      "outputs": []
    },
    {
      "cell_type": "code",
      "source": [
        "# Não conseguimos aplicar o lambda em listas direto, é necessário\n",
        "# utilizarmos junto a ela a função map\n",
        "notas_atualizadas = map(lambda x: x + qualitativo, notas)\n",
        "notas_atualizadas"
      ],
      "metadata": {
        "id": "iM2jXtC8m1zc",
        "colab": {
          "base_uri": "https://localhost:8080/"
        },
        "outputId": "fc44858d-f70d-460d-9c7e-291fb52c7351"
      },
      "execution_count": null,
      "outputs": [
        {
          "output_type": "execute_result",
          "data": {
            "text/plain": [
              "<map at 0x7cdb21887a30>"
            ]
          },
          "metadata": {},
          "execution_count": 63
        }
      ]
    },
    {
      "cell_type": "code",
      "source": [
        "notas_atualizadas = map(lambda x: x + qualitativo, notas)\n",
        "notas_atualizadas = list(notas_atualizadas)\n",
        "notas_atualizadas"
      ],
      "metadata": {
        "id": "dAq9-TNTm1wf",
        "colab": {
          "base_uri": "https://localhost:8080/"
        },
        "outputId": "6a052f3b-d349-4530-d30e-cb6b938b08a0"
      },
      "execution_count": null,
      "outputs": [
        {
          "output_type": "execute_result",
          "data": {
            "text/plain": [
              "[6.5, 7.5, 9.5, 6.0, 8.5]"
            ]
          },
          "metadata": {},
          "execution_count": 64
        }
      ]
    },
    {
      "cell_type": "markdown",
      "source": [
        "#### Atividades - Aula 02\n",
        "\n"
      ],
      "metadata": {
        "id": "pLF5PblemUK1"
      }
    },
    {
      "cell_type": "code",
      "source": [
        "# 1. Escreva um código que lê a lista abaixo e faça:\n",
        "\n",
        "lista = [16, 14, 63, 65, 17, 99, 70, 11, 20, 48, 79, 32, 17, 89, 12, 25, 66]\n",
        "\n",
        "# A leitura do tamanho da lista\n",
        "# A leitura do maior e menor valor\n",
        "# A soma dos valores da lista\n",
        "# Ao final exiba uma mensagem dizendo: \"A lista possui [tam] números em que o maior número é [maior] e o menor número é [menor]. A soma dos valores presentes nela é igual a [soma]\"\n",
        "\n",
        "# Lista fornecida\n",
        "lista = [16, 14, 63, 65, 17, 99, 70, 11, 20, 48, 79, 32, 17, 89, 12, 25, 66]\n",
        "\n",
        "# Calcula o tamanho da lista com a função len()\n",
        "tam = len(lista)  # Conta quantos elementos existem na lista\n",
        "\n",
        "# Encontra o maior valor com a função max()\n",
        "maior = max(lista)  # Retorna o maior número da lista\n",
        "\n",
        "# Encontra o menor valor com a função min()\n",
        "menor = min(lista)  # Retorna o menor número da lista\n",
        "\n",
        "# Soma todos os valores da lista com a função sum()\n",
        "soma = sum(lista)  # Soma todos os elementos da lista\n",
        "\n",
        "# Exibe a mensagem formatada com f-string (forma moderna e legível de formatar texto em Python)\n",
        "print(f\"A lista possui {tam} números em que o maior número é {maior} e o menor número é {menor}. A soma dos valores presentes nela é igual a {soma}\")\n"
      ],
      "metadata": {
        "id": "dTAYff6_WVKe"
      },
      "execution_count": null,
      "outputs": []
    },
    {
      "cell_type": "code",
      "source": [
        "# 2. Escreva uma função que gere a tabuada de um número inteiro de 1 a 10, de acordo com a escolha da pessoa usuária.\n",
        "# Como exemplo, para o número 7, a tabuada deve ser mostrada no seguinte formato:\n",
        "\n",
        "# Definimos uma função chamada `tabuada` que recebe um número como argumento\n",
        "def tabuada(numero):\n",
        "    # Verificamos se o número está dentro do intervalo permitido (1 a 10)\n",
        "    if 1 <= numero <= 10:\n",
        "        print(f\"Tabuada do {numero}:\")\n",
        "        # Usamos um laço for para multiplicar o número de 1 até 10\n",
        "        for i in range(1, 11):  # range(1, 11) gera os números de 1 a 10\n",
        "            resultado = numero * i  # Calcula o produto\n",
        "            print(f\"{numero} x {i} = {resultado}\")  # Exibe o formato desejado\n",
        "    else:\n",
        "        print(\"Por favor, digite um número entre 1 e 10.\")\n",
        "\n",
        "# Solicitamos o número da tabuada ao usuário\n",
        "try:\n",
        "    valor = int(input(\"Digite um número inteiro entre 1 e 10 para ver a tabuada: \"))\n",
        "    tabuada(valor)  # Chamamos a função passando o número digitado\n",
        "except ValueError:\n",
        "    print(\"Entrada inválida. Por favor, digite um número inteiro.\")\n"
      ],
      "metadata": {
        "id": "sxzpLevfWVR2"
      },
      "execution_count": null,
      "outputs": []
    },
    {
      "cell_type": "code",
      "source": [
        "# 3. Crie a função que leia a lista abaixo e retorne uma nova lista com os múltiplos de 3:\n",
        "\n",
        "lista = [97, 80, 94, 88, 80, 1, 16, 53, 62, 32, 24, 99]\n",
        "\n",
        "# Utilize o return na função e salve a nova lista na variável mult_3.\n",
        "\n",
        "# Lista original fornecida\n",
        "lista = [97, 80, 94, 88, 80, 1, 16, 53, 62, 32, 24, 99]\n",
        "\n",
        "# Definimos uma função chamada 'filtrar_multiplos_de_3' que recebe uma lista como argumento\n",
        "def filtrar_multiplos_de_3(lista_original):\n",
        "    # Criamos uma lista por compreensão (list comprehension) para filtrar os múltiplos de 3\n",
        "    multiplos = [numero for numero in lista_original if numero % 3 == 0]\n",
        "    return multiplos  # Retornamos a nova lista com os múltiplos de 3\n",
        "\n",
        "# Chamamos a função e salvamos o resultado na variável mult_3\n",
        "mult_3 = filtrar_multiplos_de_3(lista)\n",
        "\n",
        "# Exibimos o resultado para verificar\n",
        "print(\"Múltiplos de 3:\", mult_3)\n"
      ],
      "metadata": {
        "id": "xX1fzXOdWVaF"
      },
      "execution_count": null,
      "outputs": []
    },
    {
      "cell_type": "code",
      "source": [
        "# 4. Crie uma lista dos quadrados dos números da seguinte lista [1, 2, 3, 4, 5, 6, 7, 8, 9, 10].\n",
        "# Lembre-se de utilizar as funções lambda e map() para calcular o quadrado de cada elemento da lista.\n",
        "\n",
        "# Lista de números de 1 a 10\n",
        "numeros = [1, 2, 3, 4, 5, 6, 7, 8, 9, 10]\n",
        "\n",
        "# Usamos a função map() com uma função lambda para calcular o quadrado de cada número\n",
        "# lambda x: x**2 cria uma função anônima que retorna o quadrado de x\n",
        "quadrados = list(map(lambda x: x**2, numeros))\n",
        "\n",
        "# Exibe o resultado\n",
        "print(\"Lista dos quadrados:\", quadrados)\n"
      ],
      "metadata": {
        "id": "sjCq69t4WViT"
      },
      "execution_count": null,
      "outputs": []
    },
    {
      "cell_type": "code",
      "source": [
        "# 5. Você foi contratado(a) como cientista de dados de uma associação de skate.\n",
        "# Para analisar as notas recebidas de skatistas em algumas competições ao longo do ano,\n",
        "# você precisa criar um código que calcula a pontuação dos(as) atletas.\n",
        "# Para isso, o seu código deve receber 5 notas digitadas pelas pessoas juradas.\n",
        "\n",
        "# Para calcular a pontuação de um(a) skatista, você precisa eliminar a maior e a menor pontuação dentre as 5 notas e tirar a média das 3 notas que sobraram.\n",
        "# Retorne a média para apresentar o texto: \"Nota da manobra: [media]\"\n",
        "\n",
        "# Função para calcular a nota da manobra com base nas 5 notas\n",
        "def calcular_nota():\n",
        "    notas = []  # Lista para armazenar as 5 notas digitadas\n",
        "\n",
        "    # Coleta das 5 notas com validação\n",
        "    for i in range(1, 6):\n",
        "        while True:\n",
        "            try:\n",
        "                nota = float(input(f\"Digite a nota {i} (de 0 a 10): \"))\n",
        "                if 0 <= nota <= 10:\n",
        "                    notas.append(nota)  # Adiciona nota válida à lista\n",
        "                    break\n",
        "                else:\n",
        "                    print(\"A nota deve estar entre 0 e 10.\")\n",
        "            except ValueError:\n",
        "                print(\"Entrada inválida. Digite um número.\")\n",
        "\n",
        "    # Remove a maior e a menor nota\n",
        "    maior = max(notas)\n",
        "    menor = min(notas)\n",
        "\n",
        "    notas.remove(maior)\n",
        "    notas.remove(menor)\n",
        "\n",
        "    # Calcula a média das 3 notas restantes\n",
        "    media = sum(notas) / len(notas)\n",
        "\n",
        "    # Exibe a nota formatada\n",
        "    print(f\"Nota da manobra: {media:.2f}\")  # .2f limita a 2 casas decimais\n",
        "\n",
        "# Chamada da função\n",
        "calcular_nota()\n"
      ],
      "metadata": {
        "id": "wwszFKa8WVpd"
      },
      "execution_count": null,
      "outputs": []
    },
    {
      "cell_type": "code",
      "source": [
        "# 6. Para atender a uma demanda de uma instituição de ensino para a análise do desempenho de seus(suas) estudantes,\n",
        "# você precisa criar uma função que receba uma lista de 4 notas e retorne:\n",
        "\n",
        "# maior nota\n",
        "# menor nota\n",
        "# média\n",
        "# situação (Aprovado(a) ou Reprovado(a))\n",
        "\n",
        "# Para testar o comportamento da função, os dados podem ser exibidos em um texto:\n",
        "# \"O(a) estudante obteve uma média de [media], com a sua maior nota de [maior] pontos e a menor nota de [menor] pontos e foi [situacao]\"\n",
        "\n",
        "# Definimos a função que recebe uma lista de 4 notas\n",
        "def analisar_desempenho(notas):\n",
        "    # Verificação básica: a lista deve conter exatamente 4 notas\n",
        "    if len(notas) != 4:\n",
        "        return \"Erro: a lista deve conter exatamente 4 notas.\"\n",
        "\n",
        "    # Calcula a maior e menor nota usando as funções max() e min()\n",
        "    maior = max(notas)\n",
        "    menor = min(notas)\n",
        "\n",
        "    # Calcula a média das 4 notas\n",
        "    media = sum(notas) / len(notas)\n",
        "\n",
        "    # Define a situação com base na média (critério: >= 7 aprovado)\n",
        "    if media >= 7:\n",
        "        situacao = \"Aprovado(a)\"\n",
        "    else:\n",
        "        situacao = \"Reprovado(a)\"\n",
        "\n",
        "    # Retorna o texto formatado com as informações\n",
        "    return f\"O(a) estudante obteve uma média de {media:.2f}, com a sua maior nota de {maior} pontos e a menor nota de {menor} pontos e foi {situacao}\"\n",
        "\n",
        "# Exemplo de uso da função com uma lista de notas\n",
        "notas_estudante = [8.5, 7.0, 9.0, 6.5]\n",
        "resultado = analisar_desempenho(notas_estudante)\n",
        "\n",
        "# Exibimos o resultado\n",
        "print(resultado)\n"
      ],
      "metadata": {
        "id": "l08PUQbfXNJX"
      },
      "execution_count": null,
      "outputs": []
    },
    {
      "cell_type": "code",
      "source": [
        "# 7. Você recebeu uma demanda para tratar 2 listas com os nomes e sobrenomes de cada\n",
        "# estudante concatenando-as para apresentar seus nomes completos na forma Nome Sobrenome.\n",
        "# As listas são:\n",
        "\n",
        "nomes = [\"joão\", \"MaRia\", \"JOSÉ\"]\n",
        "sobrenomes = [\"SILVA\", \"souza\", \"Tavares\"]\n",
        "\n",
        "# O texto exibido ao fim deve ser parecido com: \"Nome completo: Ana Silva\"\n",
        "\n",
        "# Listas fornecidas\n",
        "nomes = [\"joão\", \"MaRia\", \"JOSÉ\"]\n",
        "sobrenomes = [\"SILVA\", \"souza\", \"Tavares\"]\n",
        "\n",
        "# Usamos zip() para percorrer as duas listas ao mesmo tempo\n",
        "for nome, sobrenome in zip(nomes, sobrenomes):\n",
        "    # Padronizamos o nome e sobrenome com title(), que coloca a primeira letra maiúscula\n",
        "    nome_completo = f\"{nome.title()} {sobrenome.title()}\"\n",
        "\n",
        "    # Exibimos o nome completo formatado\n",
        "    print(f\"Nome completo: {nome_completo}\")\n"
      ],
      "metadata": {
        "id": "2kfkkzOCXNUn"
      },
      "execution_count": null,
      "outputs": []
    },
    {
      "cell_type": "code",
      "source": [
        "# 8. Como cientista de dados em um time de futebol, você precisa implementar novas formas de coleta de dados sobre o desempenho de jogadores e do time como um todo.\n",
        "# Sua primeira ação é criar uma forma de calcular a pontuação do time no campeonato nacional a partir dos dados de gols marcados e sofridos em cada jogo.\n",
        "\n",
        "# Escreva uma função chamada calcula_pontos que recebe como parâmetros duas listas de números inteiros, representando os gols marcados e sofridos pelo time em cada partida do campeonato.\n",
        "# A função deve retornar a pontuação do time e o aproveitamento em percentual, levando em consideração que a vitória vale 3 pontos, o empate vale 1 ponto e a derrota 0 pontos.\n",
        "\n",
        "# Observação: se a quantidade de gols marcados numa partida for maior que a de sofridos, o time venceu. Caso seja igual, o time empatou e se for menor, o time perdeu.\n",
        "# Para calcular o aproveitamento devemos fazer a razão entre a pontuação do time pela pontuação máxima que ele poderia receber.\n",
        "\n",
        "# Para teste, utilize as seguintes listas de gols marcados e sofridos:\n",
        "\n",
        "gols_marcados = [2, 1, 3, 1, 0]\n",
        "gols_sofridos = [1, 2, 2, 1, 3]\n",
        "\n",
        "# Provável texto exibido: \"A pontuação do time foi de [pontos] e seu aproveitamento foi de [aprov]%\"\n",
        "\n",
        "# Função que calcula a pontuação e o aproveitamento do time\n",
        "def calcula_pontos(gols_marcados, gols_sofridos):\n",
        "    pontos = 0  # Inicializa a pontuação\n",
        "\n",
        "    total_jogos = len(gols_marcados)  # Total de jogos disputados\n",
        "    pontos_possiveis = total_jogos * 3  # Cada vitória vale 3 pontos\n",
        "\n",
        "    # Percorre as listas de gols marcados e sofridos simultaneamente\n",
        "    for marcados, sofridos in zip(gols_marcados, gols_sofridos):\n",
        "        if marcados > sofridos:\n",
        "            pontos += 3  # Vitória\n",
        "        elif marcados == sofridos:\n",
        "            pontos += 1  # Empate\n",
        "        # Derrota → não soma nada\n",
        "\n",
        "    # Calcula o aproveitamento percentual\n",
        "    aproveitamento = (pontos / pontos_possiveis) * 100\n",
        "\n",
        "    # Retorna os valores formatados\n",
        "    return pontos, round(aproveitamento, 2)\n",
        "\n",
        "# Dados para teste\n",
        "gols_marcados = [2, 1, 3, 1, 0]\n",
        "gols_sofridos = [1, 2, 2, 1, 3]\n",
        "\n",
        "# Chamada da função\n",
        "pontos, aproveitamento = calcula_pontos(gols_marcados, gols_sofridos)\n",
        "\n",
        "# Exibição do resultado\n",
        "print(f\"A pontuação do time foi de {pontos} e seu aproveitamento foi de {aproveitamento}%\")\n"
      ],
      "metadata": {
        "id": "oaLzeROuXNcv"
      },
      "execution_count": null,
      "outputs": []
    },
    {
      "cell_type": "code",
      "source": [
        "# 9. Você recebeu o desafio de criar um código que calcula os gastos de uma viagem para um das quatro cidades partindo de Recife, sendo elas: Salvador, Fortaleza, Natal e Aracaju.\n",
        "\n",
        "# O custo da diária do hotel é de 150 reais em todas elas e o consumo de gasolina na viagem de carro é de 14 km/l, sendo que o valor da gasolina é de 5 reais o litro.\n",
        "# O gastos com passeios e alimentação a se fazer em cada uma delas por dia seria de [200, 400, 250, 300], respectivamente.\n",
        "\n",
        "# Sabendo que as distâncias entre Recife e cada uma das cidades é de aproximadamente [850, 800, 300, 550] km, crie três funções nas quais:\n",
        "\n",
        "# 1ª função calcule os gastos com hotel (gasto_hotel)\n",
        "# 2ª calcule os gastos com a gasolina (gasto_gasolina)\n",
        "# 3ª os gastos com passeio e alimentação (gasto_passeio)\n",
        "\n",
        "# Para testar, simule uma viagem de 3 dias para Salvador partindo de Recife. Considere a viagem de ida e volta de carro.\n",
        "\n",
        "# Listas com dados das cidades\n",
        "cidades = [\"Salvador\", \"Fortaleza\", \"Natal\", \"Aracaju\"]\n",
        "distancias = [850, 800, 300, 550]  # em km (apenas ida)\n",
        "custos_passeios = [200, 400, 250, 300]  # por dia\n",
        "\n",
        "# Constantes\n",
        "diaria_hotel = 150\n",
        "preco_gasolina = 5\n",
        "consumo_carro = 14  # km por litro\n",
        "\n",
        "# 1ª função: gasto com hotel\n",
        "def gasto_hotel(dias):\n",
        "    return dias * diaria_hotel\n",
        "\n",
        "# 2ª função: gasto com gasolina (ida + volta)\n",
        "def gasto_gasolina(distancia):\n",
        "    distancia_total = distancia * 2  # ida e volta\n",
        "    litros_necessarios = distancia_total / consumo_carro\n",
        "    return litros_necessarios * preco_gasolina\n",
        "\n",
        "# 3ª função: gasto com passeio e alimentação\n",
        "def gasto_passeio(dias, custo_diario):\n",
        "    return dias * custo_diario\n",
        "\n",
        "# Simulação para 3 dias em Salvador\n",
        "indice_cidade = cidades.index(\"Salvador\")\n",
        "dias_viagem = 3\n",
        "\n",
        "# Cálculos individuais\n",
        "gasto_h = gasto_hotel(dias_viagem)\n",
        "gasto_g = gasto_gasolina(distancias[indice_cidade])\n",
        "gasto_p = gasto_passeio(dias_viagem, custos_passeios[indice_cidade])\n",
        "\n",
        "# Gasto total\n",
        "gasto_total = gasto_h + gasto_g + gasto_p\n",
        "\n",
        "# Exibição do resultado\n",
        "print(f\"Destino: {cidades[indice_cidade]}\")\n",
        "print(f\"Gasto com hotel: R${gasto_h:.2f}\")\n",
        "print(f\"Gasto com gasolina: R${gasto_g:.2f}\")\n",
        "print(f\"Gasto com passeios e alimentação: R${gasto_p:.2f}\")\n",
        "print(f\"Gasto total estimado da viagem: R${gasto_total:.2f}\")\n"
      ],
      "metadata": {
        "id": "zcc6dZrWXNkf"
      },
      "execution_count": null,
      "outputs": []
    },
    {
      "cell_type": "code",
      "source": [
        "# 10. Você iniciou um estágio em uma empresa que trabalha com processamento de linguagem natural (NLP).\n",
        "# Sua líder requisitou que você criasse um trecho de código que recebe uma frase digitada pela pessoa usuária e filtre apenas as palavras com tamanho maior ou igual a 5,\n",
        "# exibindo-as em uma lista. Essa demanda é voltada para a análise do padrão de comportamento de pessoas na escrita de palavras acima dessa quantidade de caracteres.\n",
        "\n",
        "# Dica: utilize as funções lambda e filter() para filtrar essas palavras.\n",
        "# Use a frase \"Aprender Python aqui na Alura é muito bom\" para testar o código.\n",
        "\n",
        "# Frase de teste\n",
        "frase = \"Aprender Python aqui na Alura é muito bom\"\n",
        "\n",
        "# Quebramos a frase em palavras usando split()\n",
        "palavras = frase.split()\n",
        "\n",
        "# Usamos filter() com lambda para pegar só as palavras com 5 ou mais letras\n",
        "palavras_filtradas = list(filter(lambda p: len(p) >= 5, palavras))\n",
        "\n",
        "# Exibimos o resultado\n",
        "print(\"Palavras com 5 ou mais caracteres:\", palavras_filtradas)\n"
      ],
      "metadata": {
        "id": "DDCq-GrKXNrw"
      },
      "execution_count": null,
      "outputs": []
    },
    {
      "cell_type": "markdown",
      "source": [
        "## <font color=green> 3. ESTRUTURA DE DADOS COMPOSTAS\n",
        "---"
      ],
      "metadata": {
        "id": "DoB6wf2JCYf7"
      }
    },
    {
      "cell_type": "markdown",
      "source": [
        "## 3.1 Estruturas aninhadas\n",
        "\n",
        "Aprendemos anteriormente a manipular listas, tuplas e dicionários para trabalhar com uma sequência ou coleção de valores sejam numéricos, categóricos, etc. Nessa aula, vamos aprofundar em outra situação comum para a pessoa cientista de dados que é trabalhar com esses tipos de estruturas aninhadas, ou seja, quando possuímos por exemplo listas dentro de uma lista."
      ],
      "metadata": {
        "id": "3or6MbnZDW_b"
      }
    },
    {
      "cell_type": "markdown",
      "source": [
        "### Lista de listas\n",
        "\n",
        "#### Formato padrão:\n",
        "\n",
        "```python\n",
        "[[a1, a2,...,an], [b1, b2,...,bn], ..., [n1, n2,...,nn]]\n",
        "```"
      ],
      "metadata": {
        "id": "fddus1G9HqB3"
      }
    },
    {
      "cell_type": "markdown",
      "source": [
        "#### **Situação 6:**\n",
        "\n",
        "Recebemos a demanda de transformar uma lista com o nome e as notas dos três trimestres de estudantes em uma lista simples com os nomes separados das notas e uma lista de listas com as três notas de cada estudante separadas umas das outras. Os dados recebidos correspondem a uma lista com os nomes e as respectivas notas de cada estudante.\n",
        "\n",
        "**Vamos resolver esse desafio?**\n",
        "\n",
        "Para facilitar o nosso entendimento do processo vamos trabalhar com uma turma fictícia de 5 estudantes.\n"
      ],
      "metadata": {
        "id": "32K5LA11tFpz"
      }
    },
    {
      "cell_type": "code",
      "source": [
        "notas_turma = ['João', 8.0, 9.0, 10.0, 'Maria', 9.0, 7.0, 6.0, 'José', 3.4, 7.0, 7.0, 'Cláudia', 5.5, 6.6, 8.0, 'Ana', 6.0, 10.0, 9.5]"
      ],
      "metadata": {
        "id": "jlEP-c2YthpB"
      },
      "execution_count": null,
      "outputs": []
    },
    {
      "cell_type": "code",
      "source": [
        "nomes = []\n",
        "notas_juntas = []\n",
        "\n",
        "for i in range(len(notas_turma)):\n",
        "    if i % 4 == 0:\n",
        "        nomes.append(notas_turma[i])\n",
        "    else:\n",
        "        notas_juntas.append(notas_turma[i])"
      ],
      "metadata": {
        "id": "xP1H4Kw6uJTe"
      },
      "execution_count": null,
      "outputs": []
    },
    {
      "cell_type": "code",
      "source": [
        "nomes"
      ],
      "metadata": {
        "id": "pelnQlo-v4l3",
        "colab": {
          "base_uri": "https://localhost:8080/"
        },
        "outputId": "011f5cea-da42-4111-cf6b-bac7c51ba7ed"
      },
      "execution_count": null,
      "outputs": [
        {
          "output_type": "execute_result",
          "data": {
            "text/plain": [
              "['João', 'Maria', 'José', 'Cláudia', 'Ana']"
            ]
          },
          "metadata": {},
          "execution_count": 68
        }
      ]
    },
    {
      "cell_type": "code",
      "source": [
        "notas_juntas"
      ],
      "metadata": {
        "id": "61NkIzLvxXFa",
        "colab": {
          "base_uri": "https://localhost:8080/"
        },
        "outputId": "70ed2c85-a872-4ad4-b5a7-901102c8564b"
      },
      "execution_count": null,
      "outputs": [
        {
          "output_type": "execute_result",
          "data": {
            "text/plain": [
              "[8.0, 9.0, 10.0, 9.0, 7.0, 6.0, 3.4, 7.0, 7.0, 5.5, 6.6, 8.0, 6.0, 10.0, 9.5]"
            ]
          },
          "metadata": {},
          "execution_count": 71
        }
      ]
    },
    {
      "cell_type": "code",
      "source": [
        "notas = []\n",
        "for i in range(0, len(notas_juntas),3):\n",
        "    notas.append([notas_juntas[i], notas_juntas[i + 1], notas_juntas[i + 2]])\n",
        "notas"
      ],
      "metadata": {
        "id": "eL-y49GmPpjN",
        "colab": {
          "base_uri": "https://localhost:8080/"
        },
        "outputId": "55e6596d-506e-4513-d10a-c193076e4366"
      },
      "execution_count": null,
      "outputs": [
        {
          "output_type": "execute_result",
          "data": {
            "text/plain": [
              "[[8.0, 9.0, 10.0],\n",
              " [9.0, 7.0, 6.0],\n",
              " [3.4, 7.0, 7.0],\n",
              " [5.5, 6.6, 8.0],\n",
              " [6.0, 10.0, 9.5]]"
            ]
          },
          "metadata": {},
          "execution_count": 72
        }
      ]
    },
    {
      "cell_type": "code",
      "source": [
        "notas"
      ],
      "metadata": {
        "id": "awqddIuGFf-k",
        "colab": {
          "base_uri": "https://localhost:8080/"
        },
        "outputId": "383f4425-8a9d-4e11-938b-c6106aebd8de"
      },
      "execution_count": null,
      "outputs": [
        {
          "output_type": "execute_result",
          "data": {
            "text/plain": [
              "[[8.0, 9.0, 10.0],\n",
              " [9.0, 7.0, 6.0],\n",
              " [3.4, 7.0, 7.0],\n",
              " [5.5, 6.6, 8.0],\n",
              " [6.0, 10.0, 9.5]]"
            ]
          },
          "metadata": {},
          "execution_count": 73
        }
      ]
    },
    {
      "cell_type": "code",
      "source": [
        "notas[0][2]"
      ],
      "metadata": {
        "id": "PlDKPeCLDXU7",
        "colab": {
          "base_uri": "https://localhost:8080/"
        },
        "outputId": "3249a3a4-f122-4b9f-a6c2-c404c2d40cf0"
      },
      "execution_count": null,
      "outputs": [
        {
          "output_type": "execute_result",
          "data": {
            "text/plain": [
              "10.0"
            ]
          },
          "metadata": {},
          "execution_count": 74
        }
      ]
    },
    {
      "cell_type": "markdown",
      "source": [
        "### Lista de tuplas\n",
        "\n",
        "#### Formato padrão:\n",
        "\n",
        "```python\n",
        "[(a1, a2,...,an), (b1, b2,...,bn), ..., (n1, n2,...,nn)]\n",
        "```"
      ],
      "metadata": {
        "id": "SW0sVg68sK_z"
      }
    },
    {
      "cell_type": "markdown",
      "source": [
        "#### **Situação 7:**\n",
        "\n",
        "Nesta nova demanda, precisamos gerar uma lista de tuplas com os nomes dos estudantes e o código ID de cada um para a plataforma de análise dos dados. A criação do código consiste em concatenar a primeira letra do nome do estudante a um número aleatório de 0 a 999. Os dados recebidos correspondem a uma lista dos nomes de cada estudante.\n",
        "\n",
        "**Vamos resolver esse desafio?**\n",
        "\n",
        "Para facilitar o nosso entendimento do processo vamos trabalhar com uma turma fictícia de 5 estudantes.\n"
      ],
      "metadata": {
        "id": "OId6jAZz5x2m"
      }
    },
    {
      "cell_type": "code",
      "source": [
        "estudantes = [\"João\", \"Maria\", \"José\", \"Cláudia\", \"Ana\"]\n",
        "estudantes"
      ],
      "metadata": {
        "id": "aRB0zQ2_6aa9",
        "colab": {
          "base_uri": "https://localhost:8080/"
        },
        "outputId": "86d44554-1219-4ada-ba74-2a9505f206f4"
      },
      "execution_count": null,
      "outputs": [
        {
          "output_type": "execute_result",
          "data": {
            "text/plain": [
              "['João', 'Maria', 'José', 'Cláudia', 'Ana']"
            ]
          },
          "metadata": {},
          "execution_count": 75
        }
      ]
    },
    {
      "cell_type": "code",
      "source": [
        "from random import randint\n",
        "\n",
        "def gera_codigo():\n",
        "  return str(randint(0,999))"
      ],
      "metadata": {
        "id": "wFHkckyg6aa-"
      },
      "execution_count": null,
      "outputs": []
    },
    {
      "cell_type": "code",
      "source": [
        "codigo_estudantes = []\n",
        "for i in range(len(estudantes)):\n",
        "    codigo_estudantes.append((estudantes[i],estudantes[i][0] + gera_codigo()))\n",
        "codigo_estudantes"
      ],
      "metadata": {
        "id": "tZItNHeo6aa-",
        "colab": {
          "base_uri": "https://localhost:8080/"
        },
        "outputId": "ac00259c-c6e6-4735-b34e-8778c6599802"
      },
      "execution_count": null,
      "outputs": [
        {
          "output_type": "execute_result",
          "data": {
            "text/plain": [
              "[('João', 'J862'),\n",
              " ('Maria', 'M273'),\n",
              " ('José', 'J875'),\n",
              " ('Cláudia', 'C339'),\n",
              " ('Ana', 'A661')]"
            ]
          },
          "metadata": {},
          "execution_count": 84
        }
      ]
    },
    {
      "cell_type": "markdown",
      "source": [
        "## 3.2 List comprehension\n",
        "\n",
        "É uma forma simples e concisa de criar uma lista. Podemos aplicar condicionais e laços para criar diversos tipos de listas a partir de padrões que desejamos para a nossa estrutura de dados.\n",
        "\n",
        "https://docs.python.org/pt-br/3/tutorial/datastructures.html?#list-comprehensions\n",
        "\n",
        "#### Formato padrão:\n",
        "\n",
        "```python\n",
        "[exressão for item in lista]\n",
        "```"
      ],
      "metadata": {
        "id": "srHAov19QCdb"
      }
    },
    {
      "cell_type": "markdown",
      "source": [
        "#### **Situação 8:**\n",
        "\n",
        "Recebemos a demanda de criar uma lista com as médias dos estudantes da lista de listas que criamos na Situação 6. Lembrando que cada lista da lista de listas possui as três notas de cada estudante.\n",
        "\n",
        "**Vamos resolver esse desafio?**\n",
        "\n",
        "**Dica:** Utilize o formato:\n",
        "```python\n",
        "[exressão for item in lista]\n",
        "```"
      ],
      "metadata": {
        "id": "l4HW0gDqecgM"
      }
    },
    {
      "cell_type": "code",
      "source": [
        "notas = [[8.0, 9.0, 10.0], [9.0, 7.0, 6.0], [3.4, 7.0, 7.0], [5.5, 6.6, 8.0], [6.0, 10.0, 9.5]]"
      ],
      "metadata": {
        "id": "RR5D3LvYAOUd"
      },
      "execution_count": null,
      "outputs": []
    },
    {
      "cell_type": "code",
      "source": [
        "def media(lista: list=[0]) -> float:\n",
        "  ''' Função para calcular a média de notas passadas por uma lista\n",
        "\n",
        "  lista: list, default [0]\n",
        "    Lista com as notas para calcular a média\n",
        "  return = calculo: float\n",
        "    Média calculada\n",
        "  '''\n",
        "\n",
        "  calculo = sum(lista) / len(lista)\n",
        "\n",
        "  return calculo"
      ],
      "metadata": {
        "id": "J_atQRQdlpNe"
      },
      "execution_count": null,
      "outputs": []
    },
    {
      "cell_type": "code",
      "source": [
        "medias = [round(media(nota), 1) for nota in notas]\n",
        "medias"
      ],
      "metadata": {
        "id": "G5CQqPkzQWT0",
        "colab": {
          "base_uri": "https://localhost:8080/"
        },
        "outputId": "6b77310e-6750-40c5-c272-a22491867a74"
      },
      "execution_count": null,
      "outputs": [
        {
          "output_type": "execute_result",
          "data": {
            "text/plain": [
              "[9.0, 7.3, 5.8, 6.7, 8.5]"
            ]
          },
          "metadata": {},
          "execution_count": 87
        }
      ]
    },
    {
      "cell_type": "markdown",
      "source": [
        "#### **Situação 9:**\n",
        "\n",
        "Agora, precisamos utilizar as médias calculadas no exemplo anterior, pareando com o nome dos estudantes. Isto será necessário para gerar uma lista que selecione aqueles estudantes que possuam uma média final maior ou igual a 8 para concorrer a uma bolsa para o próximo ano letivo. Os dados recebidos correspondem a uma lista de tuplas com os nomes e códigos dos estudantes e a lista de médias calculadas logo acima.\n",
        "\n",
        "**Vamos resolver esse desafio?**\n",
        "\n",
        "Para facilitar o nosso entendimento do processo vamos trabalhar com uma turma fictícia de 5 estudantes.\n",
        "\n",
        "**Dica:** Utilize o formato:\n",
        "```python\n",
        "[expr for item in lista if cond]\n",
        "```\n"
      ],
      "metadata": {
        "id": "ApLjXlAdhJKd"
      }
    },
    {
      "cell_type": "code",
      "source": [
        "nomes = [('João', 'J720'), ('Maria', 'M205'), ('José', 'J371'), ('Cláudia', 'C546'), ('Ana', 'A347')]\n",
        "medias = [9.0, 7.3, 5.8, 6.7, 8.5]"
      ],
      "metadata": {
        "id": "WhXegkP5DDMW"
      },
      "execution_count": null,
      "outputs": []
    },
    {
      "cell_type": "code",
      "source": [
        "# Gerando a lista de nomes (extraindo da tupla)\n",
        "nomes = [('João', 'J720'), ('Maria', 'M205'), ('José', 'J371'), ('Cláudia', 'C546'), ('Ana', 'A347')]\n",
        "nomes_limpos = [nome[0] for nome in nomes]\n",
        "nomes_limpos"
      ],
      "metadata": {
        "id": "Lvfr10SIDSDN",
        "colab": {
          "base_uri": "https://localhost:8080/"
        },
        "outputId": "2452fcfa-3d10-421d-f547-097e8b2348ef"
      },
      "execution_count": null,
      "outputs": [
        {
          "output_type": "execute_result",
          "data": {
            "text/plain": [
              "['João', 'Maria', 'José', 'Cláudia', 'Ana']"
            ]
          },
          "metadata": {},
          "execution_count": 109
        }
      ]
    },
    {
      "cell_type": "markdown",
      "source": [
        "<font color=green>**Dica:**</font> Para conseguirmos parear as médias e nomes facilmente, podemos recorrer a mais uma built-in function: `zip()`\n",
        "\n",
        "Ela recebe um ou mais iteráveis (lista, string, dict, etc.) e retorna-os como um iterador de tuplas onde cada elemento dos iteráveis são pareados."
      ],
      "metadata": {
        "id": "U6KAABs7Dfpe"
      }
    },
    {
      "cell_type": "code",
      "source": [
        "medias = [9.0, 7.3, 5.8, 6.7, 8.5]\n",
        "\n",
        "estudantes = list(zip(nomes_limpos, medias))\n",
        "estudantes"
      ],
      "metadata": {
        "id": "TRqn0wMUg3s7",
        "colab": {
          "base_uri": "https://localhost:8080/"
        },
        "outputId": "08ba7221-ccf7-4faa-95d2-2c49ea54e49e"
      },
      "execution_count": null,
      "outputs": [
        {
          "output_type": "execute_result",
          "data": {
            "text/plain": [
              "[('João', 9.0), ('Maria', 7.3), ('José', 5.8), ('Cláudia', 6.7), ('Ana', 8.5)]"
            ]
          },
          "metadata": {},
          "execution_count": 110
        }
      ]
    },
    {
      "cell_type": "code",
      "source": [
        "# Gerando a lista de pessoas candidatas a bolsa\n",
        "candidatos = [estudante[0] for estudante in estudantes if estudante[1] >= 8.0]\n",
        "candidatos"
      ],
      "metadata": {
        "id": "T1ocZ1G0g3qC",
        "colab": {
          "base_uri": "https://localhost:8080/"
        },
        "outputId": "61238e9c-d571-49f3-a9ad-4a178f20499a"
      },
      "execution_count": null,
      "outputs": [
        {
          "output_type": "execute_result",
          "data": {
            "text/plain": [
              "['João', 'Ana']"
            ]
          },
          "metadata": {},
          "execution_count": 112
        }
      ]
    },
    {
      "cell_type": "markdown",
      "source": [
        "#### **Situação 10:**\n",
        "\n",
        "Recebemos duas demandas a respeito desse projeto com as notas dos estudantes:\n",
        "- Criar uma lista da situação dos estudantes em que caso se sua média seja maior ou igual a 6 receberá o valor \"Aprovado\" e caso contrário receberá o valor \"Reprovado\".\n",
        "- Gerar uma lista de listas com:\n",
        "  - Lista de tuplas com o nome dos estudantes e seus códigos\n",
        "  - Lista de listas com as notas de cada estudante\n",
        "  - Lista com as médias de cada estudante\n",
        "  - Lista da situação dos estudantes de acordo com as médias\n",
        "\n",
        "Os dados que utilizaremos são os mesmos que geramos nas situações anteriores (`nomes`, `notas`, `medias`).\n",
        "\n",
        "**Vamos resolver esse desafio?**\n",
        "\n",
        "Para seguirmos o processo, vou deixar logo abaixo as estruturas de dados que já produzimos.\n",
        "\n",
        "**Dica:** Para a lista das situações utilize o formato:\n",
        "```python\n",
        "[resultado_if if cond else resultado_else for item in lista]\n",
        "```"
      ],
      "metadata": {
        "id": "9yzRDIB0fkeF"
      }
    },
    {
      "cell_type": "code",
      "source": [
        "nomes = [('João', 'J720'), ('Maria', 'M205'), ('José', 'J371'), ('Cláudia', 'C546'), ('Ana', 'A347')]\n",
        "notas = [[8.0, 9.0, 10.0], [9.0, 7.0, 6.0], [3.4, 7.0, 7.0], [5.5, 6.6, 8.0], [6.0, 10.0, 9.5]]\n",
        "medias = [9.0, 7.3, 5.8, 6.7, 8.5]"
      ],
      "metadata": {
        "id": "-QlKML-tG6FN"
      },
      "execution_count": null,
      "outputs": []
    },
    {
      "cell_type": "code",
      "source": [
        "situacao = [\"Aprovado(a)\" if media >= 6 else \"Reprovado(a)\" for media in medias]\n",
        "situacao"
      ],
      "metadata": {
        "id": "qYgaZthjQWQV",
        "colab": {
          "base_uri": "https://localhost:8080/"
        },
        "outputId": "6c0df8e0-0833-4a3e-887c-fd374f3910b9"
      },
      "execution_count": null,
      "outputs": [
        {
          "output_type": "execute_result",
          "data": {
            "text/plain": [
              "['Aprovado(a)', 'Aprovado(a)', 'Reprovado(a)', 'Aprovado(a)', 'Aprovado(a)']"
            ]
          },
          "metadata": {},
          "execution_count": 2
        }
      ]
    },
    {
      "cell_type": "markdown",
      "source": [
        "**Dica:** Para gerar a lista de listas do enunciado podemos utilizar o formato a seguir\n",
        "```python\n",
        "[expr for item in lista de listas]\n",
        "```"
      ],
      "metadata": {
        "id": "0XsAi49IF9Ta"
      }
    },
    {
      "cell_type": "code",
      "source": [
        "cadastro = [x for x in [nomes, notas, medias]]\n",
        "cadastro"
      ],
      "metadata": {
        "id": "G-AEgh4NGlvH",
        "colab": {
          "base_uri": "https://localhost:8080/"
        },
        "outputId": "6541baea-4a86-4254-a68f-4ef54604880c"
      },
      "execution_count": null,
      "outputs": [
        {
          "output_type": "execute_result",
          "data": {
            "text/plain": [
              "[[('João', 'J720'),\n",
              "  ('Maria', 'M205'),\n",
              "  ('José', 'J371'),\n",
              "  ('Cláudia', 'C546'),\n",
              "  ('Ana', 'A347')],\n",
              " [[8.0, 9.0, 10.0],\n",
              "  [9.0, 7.0, 6.0],\n",
              "  [3.4, 7.0, 7.0],\n",
              "  [5.5, 6.6, 8.0],\n",
              "  [6.0, 10.0, 9.5]],\n",
              " [9.0, 7.3, 5.8, 6.7, 8.5]]"
            ]
          },
          "metadata": {},
          "execution_count": 3
        }
      ]
    },
    {
      "cell_type": "markdown",
      "source": [
        "<font color=green>**Dica:**</font> Podemos recorrer a forma mais simples de geração de listas de lista com o uso direto dos colchetes sem necessitar de utilizar as expressões e o laço for na  abrangência de listas"
      ],
      "metadata": {
        "id": "4hkHEZGbGH7X"
      }
    },
    {
      "cell_type": "code",
      "source": [
        "lista_Listas = [nomes, notas, medias, situacao]\n",
        "lista_Listas"
      ],
      "metadata": {
        "id": "Oz2hU80RF82D",
        "colab": {
          "base_uri": "https://localhost:8080/"
        },
        "outputId": "c81b9635-c7fd-41d3-8ccf-08989d158892"
      },
      "execution_count": null,
      "outputs": [
        {
          "output_type": "execute_result",
          "data": {
            "text/plain": [
              "[[('João', 'J720'),\n",
              "  ('Maria', 'M205'),\n",
              "  ('José', 'J371'),\n",
              "  ('Cláudia', 'C546'),\n",
              "  ('Ana', 'A347')],\n",
              " [[8.0, 9.0, 10.0],\n",
              "  [9.0, 7.0, 6.0],\n",
              "  [3.4, 7.0, 7.0],\n",
              "  [5.5, 6.6, 8.0],\n",
              "  [6.0, 10.0, 9.5]],\n",
              " [9.0, 7.3, 5.8, 6.7, 8.5],\n",
              " ['Aprovado(a)', 'Aprovado(a)', 'Reprovado(a)', 'Aprovado(a)', 'Aprovado(a)']]"
            ]
          },
          "metadata": {},
          "execution_count": 5
        }
      ]
    },
    {
      "cell_type": "markdown",
      "source": [
        "## 3.3 Dict comprehension\n",
        "\n",
        "É uma forma simples e concisa de criar ou modificar um dicionário. Podemos aplicar condicionais e laços para criar diversos tipos de dicionários a partir de padrões que desejamos para a nossa estrutura de dados e com o suporte de iteráveis como listas ou sets.\n",
        "\n",
        "https://peps.python.org/pep-0274/\n",
        "\n",
        "#### Formato padrão:\n",
        "\n",
        "```python\n",
        "{chave: valor for item in lista}\n",
        "```"
      ],
      "metadata": {
        "id": "NmohhDl-QRpx"
      }
    },
    {
      "cell_type": "markdown",
      "source": [
        "#### **Situação 11:**\n",
        "\n",
        "Agora, a nossa demanda consiste em gerar um dicionário a partir da lista de listas que criamos na Situação 10 para passar para a pessoa responsável por construir as tabelas para a análise dos dados.\n",
        "- As chaves do nosso dicionário serão as colunas identificando o tipo de dado\n",
        "- Os valores serão as listas com os dados correspondentes àquela chave.\n",
        "\n",
        "**Vamos resolver esse desafio?**\n",
        "\n",
        "Para facilitar o nosso entendimento do processo vamos trabalhar com uma turma fictícia de 5 estudantes.\n",
        "\n",
        "**Dica:** Utilize o formato\n",
        "\n",
        "```python\n",
        "{chave: valor for item in lista}\n",
        "```"
      ],
      "metadata": {
        "id": "kGt8hQXOKeIt"
      }
    },
    {
      "cell_type": "code",
      "source": [
        "lista_completa = [[('João', 'J720'), ('Maria', 'M205'), ('José', 'J371'), ('Cláudia', 'C546'), ('Ana', 'A347')],\n",
        "                  [[8.0, 9.0, 10.0], [9.0, 7.0, 6.0], [3.4, 7.0, 7.0], [5.5, 6.6, 8.0], [6.0, 10.0, 9.5]],\n",
        "                  [9.0, 7.3, 5.8, 6.7, 8.5],\n",
        "                  ['Aprovado', 'Aprovado', 'Reprovado', 'Aprovado', 'Aprovado']]"
      ],
      "metadata": {
        "id": "fD_TeWtOUQKQ"
      },
      "execution_count": null,
      "outputs": []
    },
    {
      "cell_type": "code",
      "source": [
        "# Colunas com os tipos dos dados (exceto nome)\n",
        "coluna = [\"Notas\", \"Média Final\", \"Situação\"]\n",
        "\n",
        "cadastro = {coluna[i] : lista_completa[i+1] for i in range(len(coluna))}\n",
        "cadastro"
      ],
      "metadata": {
        "id": "xFkmjd4EKG7b",
        "colab": {
          "base_uri": "https://localhost:8080/"
        },
        "outputId": "37e19a02-691d-45a0-9c02-0c2d0930a777"
      },
      "execution_count": null,
      "outputs": [
        {
          "output_type": "execute_result",
          "data": {
            "text/plain": [
              "{'Notas': [[8.0, 9.0, 10.0],\n",
              "  [9.0, 7.0, 6.0],\n",
              "  [3.4, 7.0, 7.0],\n",
              "  [5.5, 6.6, 8.0],\n",
              "  [6.0, 10.0, 9.5]],\n",
              " 'Média Final': [9.0, 7.3, 5.8, 6.7, 8.5],\n",
              " 'Situação': ['Aprovado', 'Aprovado', 'Reprovado', 'Aprovado', 'Aprovado']}"
            ]
          },
          "metadata": {},
          "execution_count": 7
        }
      ]
    },
    {
      "cell_type": "code",
      "source": [
        "# Vamos por fim adicionar o nome dos estudantes, extraindo apenas seus nomes da lista de tuplas\n",
        "cadastro[\"Estudante\"] = [lista_completa[0][i][0] for i in range(len(lista_completa[0]))]\n",
        "cadastro"
      ],
      "metadata": {
        "id": "yDPfgllCKVrt",
        "colab": {
          "base_uri": "https://localhost:8080/"
        },
        "outputId": "14679764-271b-4458-e958-e73947ad0c01"
      },
      "execution_count": null,
      "outputs": [
        {
          "output_type": "execute_result",
          "data": {
            "text/plain": [
              "{'Notas': [[8.0, 9.0, 10.0],\n",
              "  [9.0, 7.0, 6.0],\n",
              "  [3.4, 7.0, 7.0],\n",
              "  [5.5, 6.6, 8.0],\n",
              "  [6.0, 10.0, 9.5]],\n",
              " 'Média Final': [9.0, 7.3, 5.8, 6.7, 8.5],\n",
              " 'Situação': ['Aprovado', 'Aprovado', 'Reprovado', 'Aprovado', 'Aprovado'],\n",
              " 'Estudante': ['João', 'Maria', 'José', 'Cláudia', 'Ana']}"
            ]
          },
          "metadata": {},
          "execution_count": 9
        }
      ]
    },
    {
      "cell_type": "markdown",
      "source": [
        "#### Atividades - Aula 03"
      ],
      "metadata": {
        "id": "bMmLoYdLqUjv"
      }
    },
    {
      "cell_type": "code",
      "source": [
        "# 1. Crie um código para imprimir a soma dos elementos de cada uma das listas contidas na seguinte lista:\n",
        "\n",
        "# lista_de_listas = [[4,6,5,9], [1,0,7,2], [3,4,1,8]]\n",
        "\n",
        "# Lista de listas fornecida\n",
        "lista_de_listas = [[4, 6, 5, 9], [1, 0, 7, 2], [3, 4, 1, 8]]\n",
        "\n",
        "# Percorremos cada sublista dentro da lista principal\n",
        "for i, sublista in enumerate(lista_de_listas):\n",
        "    soma = sum(sublista)  # Calcula a soma dos elementos da sublista\n",
        "    print(f\"Soma da lista {i+1}: {soma}\")\n"
      ],
      "metadata": {
        "id": "8fnIw_gvqZTc"
      },
      "execution_count": null,
      "outputs": []
    },
    {
      "cell_type": "code",
      "source": [
        "# 2. Crie um código para gerar uma lista que armazena o terceiro elemento de cada tupla contida na seguinte lista de tuplas:\n",
        "\n",
        "lista_de_tuplas = [('Pedro', 1.74, 81), ('Júlia', 1.65, 67), ('Otávio', 1.81, 83)]\n",
        "\n",
        "# Usamos list comprehension para extrair o terceiro elemento (índice 2) de cada tupla\n",
        "terceiros_elementos = [tupla[2] for tupla in lista_de_tuplas]\n",
        "\n",
        "# Exibimos o resultado\n",
        "print(\"Terceiro elemento de cada tupla:\", terceiros_elementos)"
      ],
      "metadata": {
        "id": "RfKXT2sNqZuV"
      },
      "execution_count": null,
      "outputs": []
    },
    {
      "cell_type": "code",
      "source": [
        "# 3. A partir da lista:\n",
        "\n",
        "lista = ['Pedro', 'Júlia', 'Otávio', 'Eduardo']\n",
        "\n",
        "# Crie um código para gerar uma lista de tuplas em que cada tupla tenha o primeiro elemento como a posição do nome na lista original e o segundo elemento sendo o próprio nome.\n",
        "\n",
        "# Usamos enumerate() para obter (índice, nome) e montamos uma lista de tuplas\n",
        "lista_de_tuplas = [(i, nome) for i, nome in enumerate(lista)]\n",
        "\n",
        "# Exibimos o resultado\n",
        "print(\"Lista de tuplas (posição, nome):\", lista_de_tuplas)"
      ],
      "metadata": {
        "id": "J3g_2-vSqZ2M"
      },
      "execution_count": null,
      "outputs": []
    },
    {
      "cell_type": "code",
      "source": [
        "# 4. Crie uma lista usando o list comprehension que armazena somente o valor numérico de cada tupla caso o primeiro elemento seja 'Apartamento', a partir da seguinte lista de tuplas:\n",
        "\n",
        "aluguel = [('Apartamento', 1700), ('Apartamento', 1400), ('Casa', 2150), ('Apartamento', 1900), ('Casa', 1100)]\n",
        "\n",
        "# List comprehension que extrai apenas os valores (segundo elemento) das tuplas onde o tipo é 'Apartamento'\n",
        "valores_apartamentos = [valor for tipo, valor in aluguel if tipo == 'Apartamento']\n",
        "\n",
        "# Exibimos o resultado\n",
        "print(\"Valores de aluguéis de apartamentos:\", valores_apartamentos)"
      ],
      "metadata": {
        "id": "OHKr2ExbqaBc"
      },
      "execution_count": null,
      "outputs": []
    },
    {
      "cell_type": "code",
      "source": [
        "# 5. Crie um dicionário usando o dict comprehension em que as chaves estão na lista:\n",
        "\n",
        "meses = ['Jan', 'Fev', 'Mar', 'Abr', 'Mai', 'Jun', 'Jul', 'Ago', 'Set', 'Out', 'Nov', 'Dez']\n",
        "\n",
        "# E os valores estão em:\n",
        "\n",
        "despesa = [860, 490, 1010, 780, 900, 630, 590, 770, 620, 560, 840, 360].\n",
        "\n",
        "# Listas fornecidas\n",
        "meses = ['Jan', 'Fev', 'Mar', 'Abr', 'Mai', 'Jun', 'Jul', 'Ago', 'Set', 'Out', 'Nov', 'Dez']\n",
        "despesa = [860, 490, 1010, 780, 900, 630, 590, 770, 620, 560, 840, 360]\n",
        "\n",
        "# Criamos o dicionário usando dict comprehension e zip() para juntar as listas\n",
        "gastos_mensais = {mes: valor for mes, valor in zip(meses, despesa)}\n",
        "\n",
        "# Exibimos o resultado\n",
        "print(\"Despesas por mês:\", gastos_mensais)\n"
      ],
      "metadata": {
        "id": "6XfM9ifCqaHm"
      },
      "execution_count": null,
      "outputs": []
    },
    {
      "cell_type": "code",
      "source": [
        "# 6. Uma loja possui um banco de dados com a informação de venda de cada representante e de cada ano e precisa filtrar somente os dados do ano 2022 com venda maior do que 6000.\n",
        "# A loja forneceu uma amostra contendo apenas as colunas com os anos e os valores de venda para que você ajude a realizar a filtragem dos dados a partir de um código:\n",
        "\n",
        "vendas = [\n",
        "    ('2023', 4093),\n",
        "    ('2021', 4320),\n",
        "    ('2021', 5959),\n",
        "    ('2022', 8883),\n",
        "    ('2023', 9859),\n",
        "    ('2022', 5141),\n",
        "    ('2022', 7688),\n",
        "    ('2022', 9544),\n",
        "    ('2023', 4794),\n",
        "    ('2021', 7178),\n",
        "    ('2022', 3030),\n",
        "    ('2021', 7471),\n",
        "    ('2022', 4226),\n",
        "    ('2022', 8190),\n",
        "    ('2021', 9680),\n",
        "    ('2022', 5616)\n",
        "    ]\n",
        "\n",
        "# Crie uma lista usando list comprehension para filtrar os valores de 2022 e que sejam maiores que 6000.\n",
        "\n",
        "# List comprehension para filtrar vendas de 2022 com valor > 6000\n",
        "vendas_filtradas = [valor for ano, valor in vendas if ano == '2022' and valor > 6000]\n",
        "\n",
        "# Exibe os resultados filtrados\n",
        "print(\"Vendas de 2022 acima de 6000:\", vendas_filtradas)"
      ],
      "metadata": {
        "id": "FWpgsW2hqaSE"
      },
      "execution_count": null,
      "outputs": []
    },
    {
      "cell_type": "code",
      "source": [
        "# 7. Uma clínica analisa dados de pacientes e armazena o valor numérico da glicose em um banco de dados e gostaria de rotular os dados da seguinte maneira:\n",
        "\n",
        "# - Glicose igual ou inferior a 70: 'Hipoglicemia'\n",
        "# - Glicose entre 70 a 99: 'Normal'\n",
        "# - Glicose entre 100 e 125: 'Alterada'\n",
        "# - Glicose superior a 125: 'Diabetes'\n",
        "\n",
        "# A clínica disponibilizou parte dos valores e sua tarefa é criar uma lista de tuplas usando list comprehension contendo o rótulo e o valor da glicemia em cada tupla.\n",
        "\n",
        "# Lista de valores de glicemia\n",
        "glicemia = [129, 82, 60, 97, 101, 65, 62, 167, 87, 53, 58, 92, 66, 120, 109, 62, 86, 96, 103, 88, 155, 52, 89, 73]\n",
        "\n",
        "# List comprehension que classifica os valores segundo os critérios definidos\n",
        "rotulados = [\n",
        "    ('Hipoglicemia', valor) if valor <= 70\n",
        "    else ('Normal', valor) if valor <= 99\n",
        "    else ('Alterada', valor) if valor <= 125\n",
        "    else ('Diabetes', valor)\n",
        "    for valor in glicemia\n",
        "]\n",
        "\n",
        "# Exibe a lista de tuplas com rótulo e valor\n",
        "print(\"Classificação da glicemia:\")\n",
        "for rotulo in rotulados:\n",
        "    print(rotulo)\n"
      ],
      "metadata": {
        "id": "ZJlAmMxNqaZM"
      },
      "execution_count": null,
      "outputs": []
    },
    {
      "cell_type": "code",
      "source": [
        "# 8. Um e-commerce possui as informações de id de venda, quantidade vendida e preço do produto divididos nas seguintes listas:\n",
        "\n",
        "id = [0, 1, 2, 3, 4, 5, 6, 7, 8, 9]\n",
        "quantidade = [15, 12, 1, 15, 2, 11, 2, 12, 2, 4]\n",
        "preco = [93.0, 102.0, 18.0, 41.0, 122.0, 14.0, 71.0, 48.0, 14.0, 144.0]\n",
        "\n",
        "# O e-commerce precisa estruturar esses dados em uma tabela contendo o valor total da venda, que é obtida multiplicando a quantidade pelo preço unitário.\n",
        "# Além disso, a tabela precisa conter um cabeçalho indicando as colunas: 'id', 'quantidade', 'preco' e 'total'.\n",
        "\n",
        "# Crie uma lista de tuplas em que cada tupla tenha id, quantidade, preço e valor total, na qual a primeira tupla é o cabeçalho da tabela.\n",
        "\n",
        "# Dados fornecidos\n",
        "id = [0, 1, 2, 3, 4, 5, 6, 7, 8, 9]\n",
        "quantidade = [15, 12, 1, 15, 2, 11, 2, 12, 2, 4]\n",
        "preco = [93.0, 102.0, 18.0, 41.0, 122.0, 14.0, 71.0, 48.0, 14.0, 144.0]\n",
        "\n",
        "# Construção da tabela com list comprehension\n",
        "tabela = [('id', 'quantidade', 'preco', 'total')] + [\n",
        "    (i, q, p, round(q * p, 2)) for i, q, p in zip(id, quantidade, preco)\n",
        "]\n",
        "\n",
        "# Exibição da tabela formatada\n",
        "for linha in tabela:\n",
        "    print(linha)\n"
      ],
      "metadata": {
        "id": "Z-xPEVDdqaik"
      },
      "execution_count": null,
      "outputs": []
    },
    {
      "cell_type": "code",
      "source": [
        "# 9. Uma empresa possui filiais espalhadas nos Estados da região Sudeste do Brasil.\n",
        "# Em uma das tabelas de cadastro das filiais há uma coluna contendo a informação de qual é o Estado a que pertence:\n",
        "\n",
        "estados = ['SP', 'ES', 'MG', 'MG', 'SP', 'MG', 'ES', 'ES', 'ES', 'SP', 'SP', 'MG', 'ES', 'SP', 'RJ', 'MG', 'RJ', 'SP', 'MG', 'SP', 'ES', 'SP', 'MG']\n",
        "\n",
        "# A empresa sempre está abrindo novas filiais, de modo que a tabela está constantemente recebendo novos\n",
        "# registros e o gestor gostaria de possuir a informação atualizada da quantidade de filiais em cada Estado.\n",
        "\n",
        "# A partir da coluna com a informação dos Estados, crie um dicionário usando dict comprehension com a\n",
        "# chave sendo o nome de um Estado e o valor sendo a contagem de vezes em que o Estado aparece na lista.\n",
        "\n",
        "# Dica: Você pode fazer um passo intermediário para gerar uma lista de listas em que cada uma das listas possui o nome de apenas um Estado com valores repetidos.\n",
        "\n",
        "# Armazenando os estados sem repetição de valor\n",
        "estados_unicos = list(set(estados))\n",
        "\n",
        "# Criando uma lista de listas com valores repetidos de cada estado\n",
        "lista_de_listas = []\n",
        "for estado in estados_unicos:\n",
        "    lista = [uf for uf in estados if uf == estado]\n",
        "    lista_de_listas.append(lista)\n",
        "print(lista_de_listas)\n",
        "\n",
        "# Criando um dicionário em que a chave é o nome de cada estado único e o valor é a contagem de elementos\n",
        "contagem_valores = {estados_unicos[i]: len(lista_de_listas[i]) for i in range(len(estados_unicos))}\n",
        "print(contagem_valores)"
      ],
      "metadata": {
        "colab": {
          "base_uri": "https://localhost:8080/"
        },
        "id": "s3sepxpRqaqk",
        "outputId": "83f1b992-6a99-4334-ba63-b2fbebf2d638"
      },
      "execution_count": null,
      "outputs": [
        {
          "output_type": "stream",
          "name": "stdout",
          "text": [
            "[['RJ', 'RJ'], ['SP', 'SP', 'SP', 'SP', 'SP', 'SP', 'SP', 'SP'], ['ES', 'ES', 'ES', 'ES', 'ES', 'ES'], ['MG', 'MG', 'MG', 'MG', 'MG', 'MG', 'MG']]\n",
            "{'RJ': 2, 'SP': 8, 'ES': 6, 'MG': 7}\n"
          ]
        }
      ]
    },
    {
      "cell_type": "code",
      "source": [
        "# 10. Nessa mesma tabela de cadastro de filiais, há uma coluna com as informações da quantidade de pessoas\n",
        "# colaboradoras e o(a) gestor(a) gostaria de ter um agrupamento da soma dessas pessoas para cada estado.\n",
        "# As informações contidas na tabela são:\n",
        "\n",
        "funcionarios = [\n",
        "    ('SP', 16),\n",
        "    ('ES', 8),\n",
        "    ('MG', 9),\n",
        "    ('MG', 6),\n",
        "    ('SP', 10),\n",
        "    ('MG', 4),\n",
        "    ('ES',9),\n",
        "    ('ES', 7),\n",
        "    ('ES', 12),\n",
        "    ('SP', 7),\n",
        "    ('SP', 11),\n",
        "    ('MG',8),\n",
        "    ('ES',8),\n",
        "    ('SP',9),\n",
        "    ('RJ', 13),\n",
        "    ('MG', 5),\n",
        "    ('RJ', 9),\n",
        "    ('SP', 12),\n",
        "    ('MG', 10),\n",
        "    ('SP', 7),\n",
        "    ('ES', 14),\n",
        "    ('SP', 10),\n",
        "    ('MG', 12)\n",
        "    ]\n",
        "\n",
        "# A partir da lista de tuplas, crie um dicionário em que as chaves são os nomes dos Estados únicos e os valores\n",
        "# são as listas com o número de colaboradores(as) referentes ao Estado. Crie também um dicionário em que as chaves\n",
        "# são os nomes dos Estados e os valores são a soma de colaboradores(as) por Estado.\n",
        "\n",
        "# Dica: Você pode fazer um passo intermediário para gerar uma lista de listas em que cada uma das listas\n",
        "# possui apenas os valores numéricos de funcionários(as) de cada Estado.\n",
        "\n",
        "# Armazenando os estados sem repetição de valor\n",
        "estados_unicos = list(set([tupla[0] for tupla in funcionarios]))\n",
        "\n",
        "# Criando uma lista de listas com valores de funcionários de cada estado\n",
        "lista_de_listas = []\n",
        "for estado in estados_unicos:\n",
        "    lista = [tupla[1] for tupla in funcionarios if tupla[0] == estado]\n",
        "    lista_de_listas.append(lista)\n",
        "print(lista_de_listas)\n",
        "\n",
        "# Criando um dicionário com dados agrupados de funcionário por estado\n",
        "agrupamento_por_estado = {estados_unicos[i]: lista_de_listas[i] for i in range(len(estados_unicos))}\n",
        "print(agrupamento_por_estado)\n",
        "\n",
        "# Criando um dicionário com a soma de funcionários por estado\n",
        "soma_por_estado = {estados_unicos[i]: sum(lista_de_listas[i]) for i in range(len(estados_unicos))}\n",
        "print(soma_por_estado)"
      ],
      "metadata": {
        "colab": {
          "base_uri": "https://localhost:8080/"
        },
        "id": "F0l8W8RbqayM",
        "outputId": "8e2f6dea-9e87-4b72-a14b-1573c74c45e3"
      },
      "execution_count": null,
      "outputs": [
        {
          "output_type": "stream",
          "name": "stdout",
          "text": [
            "[[13, 9], [16, 10, 7, 11, 9, 12, 7, 10], [8, 9, 7, 12, 8, 14], [9, 6, 4, 8, 5, 10, 12]]\n",
            "{'RJ': [13, 9], 'SP': [16, 10, 7, 11, 9, 12, 7, 10], 'ES': [8, 9, 7, 12, 8, 14], 'MG': [9, 6, 4, 8, 5, 10, 12]}\n",
            "{'RJ': 22, 'SP': 82, 'ES': 58, 'MG': 54}\n"
          ]
        }
      ]
    },
    {
      "cell_type": "markdown",
      "source": [
        "## <font color=green> 4. LIDANDO COM EXCEÇÕES\n",
        "---"
      ],
      "metadata": {
        "id": "RxKC5WVoCYp3"
      }
    },
    {
      "cell_type": "markdown",
      "source": [
        "Podemos notar em nosso caminho até aqui a existência de alguns erros e exceções na execução de algum comando. Como uma pessoa cientista de dados ou programador, você precisará estar atento a essas situações para evitar bugs ou problemas em seus códigos e análises que possam afetar a experiência tanto do usuário quanto a eficiência da sua análise.\n",
        "\n",
        "Existem basicamente duas formas distintas de erros: os **erros de sintaxe** e as **exceções**.\n",
        "\n",
        "Exceções são erros detectados durante a execução e que quebram o fluxo do programa encerrando-o caso não sejam tratadas.  \n",
        "\n",
        "Vamos aprender a identificar e tratar algumas das exceções aqui, mas é sempre importante mergulhar na documentação para pesquisar e verificar quais se enquadram nos seus projetos.\n",
        "\n",
        "**Documentação sobre erros e exceções:** https://docs.python.org/3/tutorial/errors.html"
      ],
      "metadata": {
        "id": "MzOZ_0M3CU1x"
      }
    },
    {
      "cell_type": "markdown",
      "source": [
        "## 4.1 Tratando Exceções\n",
        "\n",
        "O tratamento das exceções contribui estabelecendo um fluxo alternativo para a execução do código evitando a interrupção dos processos inesperadamente.\n",
        "\n",
        "Existe uma série de exceções e a partir do comportamento que queremos e dos erros que queremos tratar é possível construir um caminho para o usuário ou fornecer mais detalhes sobre aquela exceção.\n",
        "\n",
        "- Hierarquia das Exceções (https://docs.python.org/3/library/exceptions.html#exception-hierarchy)"
      ],
      "metadata": {
        "id": "x3E66krBST7K"
      }
    },
    {
      "cell_type": "markdown",
      "source": [
        "### Try ... Except\n",
        "\n",
        "```python\n",
        "try:\n",
        "  # código a ser executado. Caso uma exceção seja lançada, pare imediatamente\n",
        "except <nome_da_excecao as e>:\n",
        "  # Se uma exceção for lançada no try, rode esse código, senão pule esta etapa\n",
        "```"
      ],
      "metadata": {
        "id": "h9lj8Wfk__cl"
      }
    },
    {
      "cell_type": "markdown",
      "source": [
        "#### **Situação 12:**\n",
        "\n",
        "Você criou um código que lê um dicionário com as notas dos estudantes e quis retornar a lista de notas de um estudante.\n",
        "\n",
        "Caso o(a) estudante não esteja matriculado(a) na turma devemos tratar a exceção para aparecer a mensagem \"Estudante não matriculado(a) na turma\".\n",
        "\n",
        "Vamos trabalhar nesse exemplo com a exceção **Key Error** que interromperá o processo desse pedaço do código.\n",
        "\n",
        "**Vamos testar esse primeiro tratamento?**"
      ],
      "metadata": {
        "id": "miwzhPNdD8Ty"
      }
    },
    {
      "cell_type": "code",
      "source": [
        "notas = {\n",
        "    'João': [8.0, 9.0, 10.0],\n",
        "    'Maria': [9.0, 7.0, 6.0],\n",
        "    'José': [3.4, 7.0, 8.0],\n",
        "    'Cláudia': [5.5, 6.6, 8.0],\n",
        "    'Ana Clara': [6.0, 10.0, 9.5],\n",
        "    'Joaquim': [5.5, 7.5, 9.0],\n",
        "    'Júlia': [6.0, 8.0, 7.0],\n",
        "    'Pedro': [3.0, 4.0, 6.0]\n",
        "    }"
      ],
      "metadata": {
        "id": "PkMmeYxaDcIF"
      },
      "execution_count": null,
      "outputs": []
    },
    {
      "cell_type": "code",
      "source": [
        "nome = input(\"Digite o nome do aluno: \")\n",
        "resultado = notas[nome]\n",
        "resultado"
      ],
      "metadata": {
        "id": "AudrLS-BGGEy",
        "colab": {
          "base_uri": "https://localhost:8080/"
        },
        "outputId": "9ac1fca8-4315-4e65-faac-91d34aa3de6d"
      },
      "execution_count": null,
      "outputs": [
        {
          "name": "stdout",
          "output_type": "stream",
          "text": [
            "Digite o nome do aluno: João\n"
          ]
        },
        {
          "output_type": "execute_result",
          "data": {
            "text/plain": [
              "[8.0, 9.0, 10.0]"
            ]
          },
          "metadata": {},
          "execution_count": 17
        }
      ]
    },
    {
      "cell_type": "code",
      "source": [
        "try:\n",
        "    nome = input(\"Digite o nome do aluno: \")\n",
        "    resultado = notas[nome]\n",
        "except Exception as e:\n",
        "    print(type(e), f\"Erro: {e}\")"
      ],
      "metadata": {
        "id": "NEX6RRX7Wb0Y",
        "colab": {
          "base_uri": "https://localhost:8080/"
        },
        "outputId": "f3c3621a-40fc-4cd0-f526-dd57cf2d55e5"
      },
      "execution_count": null,
      "outputs": [
        {
          "output_type": "stream",
          "name": "stdout",
          "text": [
            "Digite o nome do aluno: Marcos\n",
            "<class 'KeyError'> Erro: 'Marcos'\n"
          ]
        }
      ]
    },
    {
      "cell_type": "code",
      "source": [
        "try:\n",
        "    nome = input(\"Digite o nome do aluno: \")\n",
        "    resultado = notas[nome]\n",
        "except KeyError:\n",
        "    print(\"Estudante não matriculado(a) na turma\")"
      ],
      "metadata": {
        "id": "3oV8Bw-NGGiu",
        "colab": {
          "base_uri": "https://localhost:8080/"
        },
        "outputId": "28f9eb60-2b50-402f-cb64-287ff885bab5"
      },
      "execution_count": null,
      "outputs": [
        {
          "output_type": "stream",
          "name": "stdout",
          "text": [
            "Digite o nome do aluno: Jorge\n",
            "Estudante não matriculado(a) na turma\n"
          ]
        }
      ]
    },
    {
      "cell_type": "markdown",
      "source": [
        "### Adicionando o Else\n",
        "\n",
        "```python\n",
        "try:\n",
        "  # código a ser executado. Caso uma exceção seja lançada, pare imediatamente\n",
        "except:\n",
        "  # Se uma exceção for lançada no try, rode esse código, senão pule esta etapa\n",
        "else:\n",
        "  # Se não houver uma exeção lançada pelo try, rode essa parte\n",
        "```"
      ],
      "metadata": {
        "id": "hKhKzgQoBHLb"
      }
    },
    {
      "cell_type": "markdown",
      "source": [
        "#### **Situação 13:**\n",
        "\n",
        "Você criou um código que lê um dicionário com as notas dos estudantes e quis retornar a lista de notas de um estudante.\n",
        "\n",
        "Caso o(a) estudante não esteja matriculado(a) na classe devemos tratar a exceção para aparecer a mensagem \"Estudante não matriculado(a) na turma\" e se a exceção não for lançada devemos exibir a lista com as notas do(a) estudante.\n",
        "\n",
        "Vamos trabalhar nesse exemplo com a exceção **Key Error** que interromperá o processo desse pedaço do código.\n",
        "\n",
        "**Vamos testar esse tratamento?**"
      ],
      "metadata": {
        "id": "USN3SA2tMjL0"
      }
    },
    {
      "cell_type": "code",
      "source": [
        "notas = {\n",
        "    'João': [8.0, 9.0, 10.0],\n",
        "    'Maria': [9.0, 7.0, 6.0],\n",
        "    'José': [3.4, 7.0, 8.0],\n",
        "    'Cláudia': [5.5, 6.6, 8.0],\n",
        "    'Ana Clara': [6.0, 10.0, 9.5],\n",
        "    'Joaquim': [5.5, 7.5, 9.0],\n",
        "    'Júlia': [6.0, 8.0, 7.0],\n",
        "    'Pedro': [3.0, 4.0, 6.0]\n",
        "    }"
      ],
      "metadata": {
        "id": "zCdjBCDFLE_6"
      },
      "execution_count": null,
      "outputs": []
    },
    {
      "cell_type": "code",
      "source": [
        "try:\n",
        "    nome = input(\"Digite o nome do aluno: \")\n",
        "    resultado = notas[nome]\n",
        "except KeyError:\n",
        "    print(\"Estudante não matriculado(a) na turma\")\n",
        "else:\n",
        "    print(resultado)"
      ],
      "metadata": {
        "id": "NS4vABJPDcFN",
        "colab": {
          "base_uri": "https://localhost:8080/"
        },
        "outputId": "1787f787-714c-4cbf-ffbe-acde6780e66e"
      },
      "execution_count": null,
      "outputs": [
        {
          "output_type": "stream",
          "name": "stdout",
          "text": [
            "Digite o nome do aluno: Maria\n",
            "[9.0, 7.0, 6.0]\n"
          ]
        }
      ]
    },
    {
      "cell_type": "markdown",
      "source": [
        "### Adicionando o finally\n",
        "\n",
        "```python\n",
        "try:\n",
        "  # código a ser executado. Caso uma exceção seja lançada, pare imediatamente\n",
        "except:\n",
        "  # Se uma exceção for lançada no try, rode esse código, senão pule esta etapa\n",
        "else:\n",
        "  # Se não houver uma exeção lançada pelo try, rode essa parte\n",
        "finally:\n",
        "  # Rode essa parte (com ou sem exceção)\n",
        "```"
      ],
      "metadata": {
        "id": "Dw_efTlbBhll"
      }
    },
    {
      "cell_type": "markdown",
      "source": [
        "#### **Situação 14:**\n",
        "\n",
        "Você criou um código que lê um dicionário com as notas dos estudantes e quis retornar a lista de notas de um estudante.\n",
        "\n",
        "Caso o(a) estudante não esteja matriculado(a) na classe devemos tratar a exceção para aparecer a mensagem \"Estudante não matriculado(a) na turma\" e se a exceção não for lançada devemos exibir a lista com as notas do(a) estudante. Um texto avisando que \"A consulta foi encerrada!\" deve ser exibido com ou sem a exceção ser lançada.\n",
        "\n",
        "Vamos trabalhar nesse exemplo com a exceção **Key Error** que interromperá o processo desse pedaço do código.\n",
        "\n",
        "**Vamos testar esse tratamento?**"
      ],
      "metadata": {
        "id": "jGtFVx5GdnsS"
      }
    },
    {
      "cell_type": "code",
      "source": [
        "notas = {\n",
        "    'João': [8.0, 9.0, 10.0],\n",
        "    'Maria': [9.0, 7.0, 6.0],\n",
        "    'José': [3.4, 7.0, 8.0],\n",
        "    'Cláudia': [5.5, 6.6, 8.0],\n",
        "    'Ana Clara': [6.0, 10.0, 9.5],\n",
        "    'Joaquim': [5.5, 7.5, 9.0],\n",
        "    'Júlia': [6.0, 8.0, 7.0],\n",
        "    'Pedro': [3.0, 4.0, 6.0]\n",
        "    }"
      ],
      "metadata": {
        "id": "uOLFoYweLN9W"
      },
      "execution_count": null,
      "outputs": []
    },
    {
      "cell_type": "code",
      "source": [
        "try:\n",
        "    nome = input(\"Digite o nome do aluno: \")\n",
        "    resultado = notas[nome]\n",
        "except KeyError:\n",
        "    print(\"Estudante não matriculado(a) na turma\")\n",
        "else:\n",
        "    print(resultado)\n",
        "finally:\n",
        "    print(\"A consulta foi encerrada!\")"
      ],
      "metadata": {
        "id": "U8QCogXhBi8C",
        "colab": {
          "base_uri": "https://localhost:8080/"
        },
        "outputId": "36ec056c-0733-4357-af58-597169470694"
      },
      "execution_count": null,
      "outputs": [
        {
          "output_type": "stream",
          "name": "stdout",
          "text": [
            "Digite o nome do aluno: Maria\n",
            "[9.0, 7.0, 6.0]\n",
            "A consulta foi encerrada!\n"
          ]
        }
      ]
    },
    {
      "cell_type": "markdown",
      "source": [
        "## 4.2 Raise\n",
        "\n",
        "Uma outra forma de trabalhar com as exceções em seu código, é criar as suas próprias exceções para determinados comportamentos que deseja em seu código.\n",
        "\n",
        "Para isso, utilizamos a palavra-chave `raise` junto ao tipo de exceção que deseja lançar e uma mensagem a ser exibida.   "
      ],
      "metadata": {
        "id": "HdjllLBpST_2"
      }
    },
    {
      "cell_type": "markdown",
      "source": [
        "```python\n",
        "raise NomeDoErro(\"mensagem_desejada\")\n",
        "```"
      ],
      "metadata": {
        "id": "_nIOnDQufv6Z"
      }
    },
    {
      "cell_type": "markdown",
      "source": [
        "#### **Situação 15:**\n",
        "\n",
        "Você criou uma função para calcular a média de um estudante em uma dada matéria passando em uma lista as notas deste estudante.\n",
        "\n",
        "Você pretende tratar 2 situações:\n",
        "- Se a lista possuir um valor não numérico o cálculo de média não será executado e uma mensagem de \"Não foi possível calcular a média do(a) estudante. Só são aceitos valores numéricos!\" será exibida.\n",
        "- Caso a lista tenha mais de 4 notas, será lançada uma exceção do tipo **ValueError** informando que \"A lista não pode possuir mais de 4 notas.\"\n",
        "\n",
        "Um texto avisando que \"A consulta foi encerrada!\" deve ser exibido com ou sem a exceção ser lançada.\n",
        "\n",
        "**Vamos resolver esse desafio?**"
      ],
      "metadata": {
        "id": "xapeB2ivgB7R"
      }
    },
    {
      "cell_type": "code",
      "source": [
        "def media(lista: list=[0]) -> float:\n",
        "  ''' Função para calcular a média de notas passadas por uma lista\n",
        "\n",
        "  lista: list, default [0]\n",
        "    Lista com as notas para calcular a média\n",
        "  return = calculo: float\n",
        "    Média calculada\n",
        "  '''\n",
        "\n",
        "  calculo = sum(lista) / len(lista)\n",
        "\n",
        "  if len(lista) > 4:\n",
        "    raise ValueError(\"A lista não pode possuir mais de 4 notas.\")\n",
        "\n",
        "  return calculo"
      ],
      "metadata": {
        "id": "Hf7MQtMjSXS-"
      },
      "execution_count": null,
      "outputs": []
    },
    {
      "cell_type": "code",
      "source": [
        "notas = [4, 5, 6, 7, 8]\n",
        "resultado = media(notas)\n",
        "resultado"
      ],
      "metadata": {
        "id": "gnlcrP93k8f2",
        "colab": {
          "base_uri": "https://localhost:8080/",
          "height": 297
        },
        "outputId": "546788fb-9810-4634-b51d-a426d91042b8"
      },
      "execution_count": null,
      "outputs": [
        {
          "output_type": "error",
          "ename": "ValueError",
          "evalue": "A lista não pode possuir mais de 4 notas.",
          "traceback": [
            "\u001b[0;31m---------------------------------------------------------------------------\u001b[0m",
            "\u001b[0;31mValueError\u001b[0m                                Traceback (most recent call last)",
            "\u001b[0;32m<ipython-input-28-6dcdc2e47f89>\u001b[0m in \u001b[0;36m<cell line: 0>\u001b[0;34m()\u001b[0m\n\u001b[1;32m      1\u001b[0m \u001b[0mnotas\u001b[0m \u001b[0;34m=\u001b[0m \u001b[0;34m[\u001b[0m\u001b[0;36m4\u001b[0m\u001b[0;34m,\u001b[0m \u001b[0;36m5\u001b[0m\u001b[0;34m,\u001b[0m \u001b[0;36m6\u001b[0m\u001b[0;34m,\u001b[0m \u001b[0;36m7\u001b[0m\u001b[0;34m,\u001b[0m \u001b[0;36m8\u001b[0m\u001b[0;34m]\u001b[0m\u001b[0;34m\u001b[0m\u001b[0;34m\u001b[0m\u001b[0m\n\u001b[0;32m----> 2\u001b[0;31m \u001b[0mresultado\u001b[0m \u001b[0;34m=\u001b[0m \u001b[0mmedia\u001b[0m\u001b[0;34m(\u001b[0m\u001b[0mnotas\u001b[0m\u001b[0;34m)\u001b[0m\u001b[0;34m\u001b[0m\u001b[0;34m\u001b[0m\u001b[0m\n\u001b[0m\u001b[1;32m      3\u001b[0m \u001b[0mresultado\u001b[0m\u001b[0;34m\u001b[0m\u001b[0;34m\u001b[0m\u001b[0m\n",
            "\u001b[0;32m<ipython-input-27-e07f4615a907>\u001b[0m in \u001b[0;36mmedia\u001b[0;34m(lista)\u001b[0m\n\u001b[1;32m     11\u001b[0m \u001b[0;34m\u001b[0m\u001b[0m\n\u001b[1;32m     12\u001b[0m   \u001b[0;32mif\u001b[0m \u001b[0mlen\u001b[0m\u001b[0;34m(\u001b[0m\u001b[0mlista\u001b[0m\u001b[0;34m)\u001b[0m \u001b[0;34m>\u001b[0m \u001b[0;36m4\u001b[0m\u001b[0;34m:\u001b[0m\u001b[0;34m\u001b[0m\u001b[0;34m\u001b[0m\u001b[0m\n\u001b[0;32m---> 13\u001b[0;31m     \u001b[0;32mraise\u001b[0m \u001b[0mValueError\u001b[0m\u001b[0;34m(\u001b[0m\u001b[0;34m\"A lista não pode possuir mais de 4 notas.\"\u001b[0m\u001b[0;34m)\u001b[0m\u001b[0;34m\u001b[0m\u001b[0;34m\u001b[0m\u001b[0m\n\u001b[0m\u001b[1;32m     14\u001b[0m \u001b[0;34m\u001b[0m\u001b[0m\n\u001b[1;32m     15\u001b[0m   \u001b[0;32mreturn\u001b[0m \u001b[0mcalculo\u001b[0m\u001b[0;34m\u001b[0m\u001b[0;34m\u001b[0m\u001b[0m\n",
            "\u001b[0;31mValueError\u001b[0m: A lista não pode possuir mais de 4 notas."
          ]
        }
      ]
    },
    {
      "cell_type": "code",
      "source": [
        "notas = [4, 5, 6, 7, \"8\"]\n",
        "resultado = media(notas)\n",
        "resultado"
      ],
      "metadata": {
        "id": "IprXe3qalX5J",
        "colab": {
          "base_uri": "https://localhost:8080/",
          "height": 297
        },
        "outputId": "9cb02901-cfaa-4362-aba4-0200caa06043"
      },
      "execution_count": null,
      "outputs": [
        {
          "output_type": "error",
          "ename": "TypeError",
          "evalue": "unsupported operand type(s) for +: 'int' and 'str'",
          "traceback": [
            "\u001b[0;31m---------------------------------------------------------------------------\u001b[0m",
            "\u001b[0;31mTypeError\u001b[0m                                 Traceback (most recent call last)",
            "\u001b[0;32m<ipython-input-29-e2d87253c114>\u001b[0m in \u001b[0;36m<cell line: 0>\u001b[0;34m()\u001b[0m\n\u001b[1;32m      1\u001b[0m \u001b[0mnotas\u001b[0m \u001b[0;34m=\u001b[0m \u001b[0;34m[\u001b[0m\u001b[0;36m4\u001b[0m\u001b[0;34m,\u001b[0m \u001b[0;36m5\u001b[0m\u001b[0;34m,\u001b[0m \u001b[0;36m6\u001b[0m\u001b[0;34m,\u001b[0m \u001b[0;36m7\u001b[0m\u001b[0;34m,\u001b[0m \u001b[0;34m\"8\"\u001b[0m\u001b[0;34m]\u001b[0m\u001b[0;34m\u001b[0m\u001b[0;34m\u001b[0m\u001b[0m\n\u001b[0;32m----> 2\u001b[0;31m \u001b[0mresultado\u001b[0m \u001b[0;34m=\u001b[0m \u001b[0mmedia\u001b[0m\u001b[0;34m(\u001b[0m\u001b[0mnotas\u001b[0m\u001b[0;34m)\u001b[0m\u001b[0;34m\u001b[0m\u001b[0;34m\u001b[0m\u001b[0m\n\u001b[0m\u001b[1;32m      3\u001b[0m \u001b[0mresultado\u001b[0m\u001b[0;34m\u001b[0m\u001b[0;34m\u001b[0m\u001b[0m\n",
            "\u001b[0;32m<ipython-input-27-e07f4615a907>\u001b[0m in \u001b[0;36mmedia\u001b[0;34m(lista)\u001b[0m\n\u001b[1;32m      8\u001b[0m   '''\n\u001b[1;32m      9\u001b[0m \u001b[0;34m\u001b[0m\u001b[0m\n\u001b[0;32m---> 10\u001b[0;31m   \u001b[0mcalculo\u001b[0m \u001b[0;34m=\u001b[0m \u001b[0msum\u001b[0m\u001b[0;34m(\u001b[0m\u001b[0mlista\u001b[0m\u001b[0;34m)\u001b[0m \u001b[0;34m/\u001b[0m \u001b[0mlen\u001b[0m\u001b[0;34m(\u001b[0m\u001b[0mlista\u001b[0m\u001b[0;34m)\u001b[0m\u001b[0;34m\u001b[0m\u001b[0;34m\u001b[0m\u001b[0m\n\u001b[0m\u001b[1;32m     11\u001b[0m \u001b[0;34m\u001b[0m\u001b[0m\n\u001b[1;32m     12\u001b[0m   \u001b[0;32mif\u001b[0m \u001b[0mlen\u001b[0m\u001b[0;34m(\u001b[0m\u001b[0mlista\u001b[0m\u001b[0;34m)\u001b[0m \u001b[0;34m>\u001b[0m \u001b[0;36m4\u001b[0m\u001b[0;34m:\u001b[0m\u001b[0;34m\u001b[0m\u001b[0;34m\u001b[0m\u001b[0m\n",
            "\u001b[0;31mTypeError\u001b[0m: unsupported operand type(s) for +: 'int' and 'str'"
          ]
        }
      ]
    },
    {
      "cell_type": "code",
      "source": [
        "try:\n",
        "    notas = [4, 5, 6, 7, 5]\n",
        "    resultado = media(notas)\n",
        "except TypeError:\n",
        "    print(\"Não foi possível calcular a média do(a) estudante. Só são aceitos valores numéricos!\")\n",
        "except ValueError as e:\n",
        "    print(e)\n",
        "else:\n",
        "    print(\"resultado\")\n",
        "finally:\n",
        "    print(\"A consulta foi encerrada!\")"
      ],
      "metadata": {
        "id": "lO8OCMRzSXQv",
        "colab": {
          "base_uri": "https://localhost:8080/"
        },
        "outputId": "1bbe0725-cf17-4f21-d6c2-a339e8da5454"
      },
      "execution_count": null,
      "outputs": [
        {
          "output_type": "stream",
          "name": "stdout",
          "text": [
            "A lista não pode possuir mais de 4 notas.\n",
            "A consulta foi encerrada!\n"
          ]
        }
      ]
    },
    {
      "cell_type": "code",
      "source": [
        "try:\n",
        "    notas = [4, 5, 6, 7, 5, \"5\"]\n",
        "    resultado = media(notas)\n",
        "except TypeError:\n",
        "    print(\"Não foi possível calcular a média do(a) estudante. Só são aceitos valores numéricos!\")\n",
        "except ValueError as e:\n",
        "    print(e)\n",
        "else:\n",
        "    print(\"resultado\")\n",
        "finally:\n",
        "    print(\"A consulta foi encerrada!\")"
      ],
      "metadata": {
        "id": "A-rA3l4hm4RA",
        "colab": {
          "base_uri": "https://localhost:8080/"
        },
        "outputId": "83db3e44-fafb-4b5f-e0df-2f8f1e39873c"
      },
      "execution_count": null,
      "outputs": [
        {
          "output_type": "stream",
          "name": "stdout",
          "text": [
            "Não foi possível calcular a média do(a) estudante. Só são aceitos valores numéricos!\n",
            "A consulta foi encerrada!\n"
          ]
        }
      ]
    },
    {
      "cell_type": "markdown",
      "source": [
        "#### Atividades - Aula 04"
      ],
      "metadata": {
        "id": "5_9V-B5rzeWc"
      }
    },
    {
      "cell_type": "code",
      "source": [
        "# 1. Faça um programa que solicite à pessoa usuária digitar dois números float e calcular a divisão entre esses números.\n",
        "# O código deve conter um tratamento de erro, indicando o tipo de erro que foi gerado caso a divisão não seja possível de realizar.\n",
        "\n",
        "# Teste o programa com o segundo valor numérico do input igual a 0. Também teste utilizando caracteres textuais no input para checar os tipos de erro que ocorrem.\n",
        "\n",
        "# Programa para divisão com tratamento de erro\n",
        "try:\n",
        "    # Solicita os dois números\n",
        "    num1 = float(input(\"Digite o primeiro número: \"))\n",
        "    num2 = float(input(\"Digite o segundo número: \"))\n",
        "\n",
        "    # Realiza a divisão\n",
        "    resultado = num1 / num2\n",
        "\n",
        "except ValueError:\n",
        "    print(\"Erro: você deve digitar apenas números válidos (ex: 3.14, 7, etc).\")\n",
        "\n",
        "except ZeroDivisionError:\n",
        "    print(\"Erro: divisão por zero não é permitida.\")\n",
        "\n",
        "else:\n",
        "    # Só será executado se não ocorrer nenhuma exceção\n",
        "    print(f\"Resultado da divisão: {resultado:.2f}\")\n"
      ],
      "metadata": {
        "id": "Jf3Sg5H-m4Za"
      },
      "execution_count": null,
      "outputs": []
    },
    {
      "cell_type": "code",
      "source": [
        "# 2. Faça um programa que solicite à pessoa usuária digitar um texto que será uma chave a ser pesquisada no seguinte dicionário:\n",
        "\n",
        "idades = {'Júlia': 16, 'Carol': 23, 'Alberto': 19, 'Roberta': 17}\n",
        "\n",
        "# Armazenando o resultado do valor em uma variável.\n",
        "# O código deve conter um tratamento de erro KeyError, imprimindo a informação 'Nome não encontrado', caso ocorra o erro; e imprimir o valor caso não ocorra nenhum.\n",
        "\n",
        "# Teste o programa com um nome presente em uma das chaves do dicionário e com um que não esteja no dicionário para verificar a mensagem de erro.\n",
        "# Dicionário fornecido\n",
        "idades = {'Júlia': 16, 'Carol': 23, 'Alberto': 19, 'Roberta': 17}\n",
        "\n",
        "# Solicita ao usuário o nome a ser buscado\n",
        "nome = input(\"Digite o nome para buscar a idade: \")\n",
        "\n",
        "# Tenta acessar a chave no dicionário\n",
        "try:\n",
        "    idade = idades[nome]\n",
        "except KeyError:\n",
        "    print(\"Nome não encontrado.\")\n",
        "else:\n",
        "    print(f\"{nome} tem {idade} anos.\")\n",
        "\n"
      ],
      "metadata": {
        "id": "kicFtqR9zyNE"
      },
      "execution_count": null,
      "outputs": []
    },
    {
      "cell_type": "code",
      "source": [
        "# 3. Crie uma função que recebe uma lista como parâmetro e converta todos os valores da lista para float.\n",
        "# A função deve conter um tratamento de erro indicando o tipo de erro gerado e retornar a lista caso não tenha ocorrido nenhum erro.\n",
        "# Por fim, deve ter a cláusula finally para imprimir o texto: 'Fim da execução da função'.\n",
        "# Função que tenta converter todos os elementos de uma lista para float\n",
        "def converter_para_float(lista):\n",
        "    try:\n",
        "        # Tentamos converter cada item da lista para float usando list comprehension\n",
        "        nova_lista = [float(item) for item in lista]\n",
        "        return nova_lista\n",
        "\n",
        "    # Captura qualquer erro que ocorrer na conversão\n",
        "    except ValueError as ve:\n",
        "        print(\"Erro: Valor inválido encontrado na lista.\")\n",
        "        print(f\"Tipo de erro: {ve.__class__.__name__}\")\n",
        "\n",
        "    except TypeError as te:\n",
        "        print(\"Erro: Tipo de dado inválido para conversão.\")\n",
        "        print(f\"Tipo de erro: {te.__class__.__name__}\")\n",
        "\n",
        "    # Bloco que sempre será executado, independentemente do resultado\n",
        "    finally:\n",
        "        print(\"Fim da execução da função.\")\n",
        "\n",
        "# Exemplos de teste\n",
        "lista_ok = ['3.14', '2', 8, 10.5]\n",
        "lista_ruim = ['3.14', 'abc', 7]\n",
        "\n",
        "print(\"Resultado com lista válida:\", converter_para_float(lista_ok))\n",
        "print(\"---\")\n",
        "print(\"Resultado com lista inválida:\", converter_para_float(lista_ruim))\n",
        "\n"
      ],
      "metadata": {
        "id": "5iy43xfczyUE"
      },
      "execution_count": null,
      "outputs": []
    },
    {
      "cell_type": "code",
      "source": [
        "# 4. Crie uma função que recebe duas listas como parâmetros e agrupe os elementos um a um das listas,\n",
        "# formando uma lista de tuplas de 3 elementos, no qual o primeiro e segundo elemento da tupla são os\n",
        "# valores na posição i das listas e o terceiro elemento é a soma dos valores na posição i das listas.\n",
        "\n",
        "# A função deve conter um tratamento de erro indicando o tipo de erro gerado e retornar como resultado a lista de tuplas.\n",
        "# Caso as listas enviadas como parâmetro tenham tamanhos diferentes, a função deve retornar um IndexError com a frase:\n",
        "# 'A quantidade de elementos em cada lista é diferente.' Dados para testar a função:\n",
        "\n",
        "# Valores sem erro:\n",
        "lista1 = [4,6,7,9,10]\n",
        "lista2 = [-4,6,8,7,9]\n",
        "\n",
        "# Listas com tamanhos diferentes:\n",
        "lista1 = [4,6,7,9,10,4]\n",
        "lista2 = [-4,6,8,7,9]\n",
        "\n",
        "# Listas com valores incoerentes:\n",
        "lista1 = [4,6,7,9,'A']\n",
        "lista2 = [-4,'E',8,7,9]\n",
        "\n",
        "# Função que agrupa os elementos de duas listas e inclui a soma\n",
        "def agrupar_somas(lista1, lista2):\n",
        "    try:\n",
        "        # Verifica se as listas têm o mesmo tamanho\n",
        "        if len(lista1) != len(lista2):\n",
        "            raise IndexError(\"A quantidade de elementos em cada lista é diferente.\")\n",
        "\n",
        "        # Cria a lista de tuplas (elemento1, elemento2, soma)\n",
        "        resultado = [(a, b, a + b) for a, b in zip(lista1, lista2)]\n",
        "        return resultado\n",
        "\n",
        "    except IndexError as ie:\n",
        "        print(ie)\n",
        "    except TypeError as te:\n",
        "        print(\"Erro de tipo ao somar os valores. Detalhes:\", te)\n",
        "    except ValueError as ve:\n",
        "        print(\"Erro de valor ao processar os dados. Detalhes:\", ve)\n",
        "\n",
        "# ----- Testes -----\n",
        "\n",
        "print(\"✔️ Teste com listas válidas:\")\n",
        "lista1 = [4, 6, 7, 9, 10]\n",
        "lista2 = [-4, 6, 8, 7, 9]\n",
        "print(agrupar_somas(lista1, lista2))\n",
        "\n",
        "print(\"\\n⚠️ Teste com listas de tamanhos diferentes:\")\n",
        "lista1 = [4, 6, 7, 9, 10, 4]\n",
        "lista2 = [-4, 6, 8, 7, 9]\n",
        "print(agrupar_somas(lista1, lista2))\n",
        "\n",
        "print(\"\\n❌ Teste com valores incoerentes:\")\n",
        "lista1 = [4, 6, 7, 9, 'A']\n",
        "lista2 = [-4, 'E', 8, 7, 9]\n",
        "print(agrupar_somas(lista1, lista2))\n"
      ],
      "metadata": {
        "id": "Zhlt-ygTzyej"
      },
      "execution_count": null,
      "outputs": []
    },
    {
      "cell_type": "code",
      "source": [
        "# 5. Como desafio, você recebeu a tarefa de desenvolver um código que contabiliza as pontuações de estudantes\n",
        "# de uma instituição de ensino de acordo com suas respostas num teste. Este código deve ser testado para um\n",
        "# exemplo de 3 estudantes com uma lista de listas em que cada lista possui as respostas de 5 questões objetivas\n",
        "# de cada estudante. Cada questão vale um ponto e as alternativas possíveis são A, B, C ou D.\n",
        "\n",
        "# Caso alguma alternativa em um dos testes não esteja entre as alternativas possíveis, você deve lançar um ValueError com a mensagem\n",
        "# \"A alternativa [alternativa] não é uma opção de alternativa válida\". O cálculo das 3 notas só será realizado mediante as entradas\n",
        "# com as alternativas A, B, C ou D em todos os testes. Se não for lançada a exceção, será exibida uma lista com as notas em cada teste.\n",
        "\n",
        "# Os dados para o teste do código são:\n",
        "gabarito = ['D', 'A', 'B', 'C', 'A']\n",
        "\n",
        "# Abaixo temos 2 listas de listas que você pode usar como teste\n",
        "\n",
        "# Notas sem exceção:\n",
        "testes_sem_ex = [['D', 'A', 'B', 'C', 'A'], ['C', 'A', 'A', 'C', 'A'], ['D', 'B', 'A', 'C', 'A']]\n",
        "\n",
        "# Notas com exceção:\n",
        "testes_com_ex = [['D', 'A', 'B', 'C', 'A'], ['C', 'A', 'A', 'E', 'A'], ['D', 'B', 'A', 'C', 'A']]\n",
        "\n",
        "# Dica: Para verificar se uma entrada da lista não está entre as alternativas possíveis, use a estrutura lista[i] not in ['A','B','C','D']. Por exemplo, 1 not in [2,3,4]... Saída: True.\n",
        "\n",
        "# Gabarito oficial\n",
        "gabarito = ['D', 'A', 'B', 'C', 'A']\n",
        "\n",
        "# Função para calcular as notas\n",
        "def calcular_notas(respostas_alunos, gabarito):\n",
        "    try:\n",
        "        notas = []  # Lista para armazenar as pontuações\n",
        "\n",
        "        for aluno in respostas_alunos:\n",
        "            for alternativa in aluno:\n",
        "                # Verifica se a alternativa é inválida\n",
        "                if alternativa not in ['A', 'B', 'C', 'D']:\n",
        "                    raise ValueError(f\"A alternativa '{alternativa}' não é uma opção de alternativa válida.\")\n",
        "\n",
        "        # Se todas forem válidas, agora comparamos com o gabarito\n",
        "        for aluno in respostas_alunos:\n",
        "            nota = sum([1 for resp, gab in zip(aluno, gabarito) if resp == gab])\n",
        "            notas.append(nota)\n",
        "\n",
        "        return notas\n",
        "\n",
        "    except ValueError as ve:\n",
        "        print(\"Erro encontrado:\", ve)\n",
        "\n",
        "# ----- Testes -----\n",
        "\n",
        "print(\"✔️ Teste sem exceção:\")\n",
        "testes_sem_ex = [['D', 'A', 'B', 'C', 'A'], ['C', 'A', 'A', 'C', 'A'], ['D', 'B', 'A', 'C', 'A']]\n",
        "print(\"Notas:\", calcular_notas(testes_sem_ex, gabarito))\n",
        "\n",
        "print(\"\\n❌ Teste com exceção:\")\n",
        "testes_com_ex = [['D', 'A', 'B', 'C', 'A'], ['C', 'A', 'A', 'E', 'A'], ['D', 'B', 'A', 'C', 'A']]\n",
        "print(\"Notas:\", calcular_notas(testes_com_ex, gabarito))\n"
      ],
      "metadata": {
        "id": "b7vbY_nmzysc"
      },
      "execution_count": null,
      "outputs": []
    },
    {
      "cell_type": "code",
      "source": [
        "# 6. Você está trabalhando com processamento de linguagem natural (NLP) e, dessa vez, sua líder requisitou que você\n",
        "# criasse um trecho de código que recebe uma lista com as palavras separadas de uma frase gerada pelo ChatGPT.\n",
        "\n",
        "# Você precisa criar uma função que avalia cada palavra desse texto e verificar se o tratamento para retirar os símbolos de pontuação\n",
        "# (',' '.', '!' e '?') foi realizado. Caso contrário, será lançada uma exceção do tipo ValueError apontando o 1º caso em que foi detectado\n",
        "# o uso de uma pontuação por meio da frase \"O texto apresenta pontuações na palavra \"[palavra]\".\".\n",
        "# Essa demanda é voltada para a análise do padrão de frases geradas pela inteligência artificial.\n",
        "\n",
        "# Dica: Para verificar se uma ou mais das pontuações estão presentes em cada palavra, utilize a palavra chave or na condição if.\n",
        "# Por exemplo, 'a' in 'alura' or 'b' in 'alura'… Saída: True\n",
        "\n",
        "# Os dados para o teste do código são:\n",
        "\n",
        "# Lista tratada:\n",
        "\n",
        "lista_tratada = ['Python', 'é', 'uma', 'linguagem', 'de', 'programação', 'poderosa', 'versátil',\n",
        "                  'e', 'fácil', 'de', 'aprender', 'utilizada', 'em', 'diversos', 'campos', 'desde',\n",
        "                  'análise', 'de', 'dados', 'até', 'inteligência', 'artificial']\n",
        "\n",
        "# Lista não tratada:\n",
        "lista_nao_tratada = ['Python', 'é', 'uma', 'linguagem', 'de', 'programação', 'poderosa,', 'versátil',\n",
        "                  'e', 'fácil,', 'de', 'aprender', 'utilizada', 'em', 'diversos', 'campos,', 'desde',\n",
        "                  'análise', 'de', 'dados', 'até', 'inteligência', 'artificial!']\n",
        "\n",
        "# Função que verifica se há pontuação indevida nas palavras\n",
        "def verificar_pontuacao(lista_palavras):\n",
        "    for palavra in lista_palavras:\n",
        "        if ',' in palavra or '.' in palavra or '!' in palavra or '?' in palavra:\n",
        "            raise ValueError(f'O texto apresenta pontuações na palavra \"{palavra}\".')\n",
        "    print(\"✅ Nenhuma pontuação foi encontrada nas palavras.\")\n",
        "\n",
        "# -------- Testes --------\n",
        "\n",
        "# Lista tratada (sem pontuação)\n",
        "lista_tratada = ['Python', 'é', 'uma', 'linguagem', 'de', 'programação', 'poderosa', 'versátil',\n",
        "                 'e', 'fácil', 'de', 'aprender', 'utilizada', 'em', 'diversos', 'campos', 'desde',\n",
        "                 'análise', 'de', 'dados', 'até', 'inteligência', 'artificial']\n",
        "\n",
        "# Lista com pontuação (não tratada)\n",
        "lista_nao_tratada = ['Python', 'é', 'uma', 'linguagem', 'de', 'programação', 'poderosa,', 'versátil',\n",
        "                     'e', 'fácil,', 'de', 'aprender', 'utilizada', 'em', 'diversos', 'campos,', 'desde',\n",
        "                     'análise', 'de', 'dados', 'até', 'inteligência', 'artificial!']\n",
        "\n",
        "print(\"✔️ Testando lista tratada:\")\n",
        "verificar_pontuacao(lista_tratada)\n",
        "\n",
        "print(\"\\n❌ Testando lista com pontuação:\")\n",
        "try:\n",
        "    verificar_pontuacao(lista_nao_tratada)\n",
        "except ValueError as erro:\n",
        "    print(\"Erro detectado:\", erro)\n"
      ],
      "metadata": {
        "id": "Hh50B2Yizyy6"
      },
      "execution_count": null,
      "outputs": []
    },
    {
      "cell_type": "code",
      "source": [
        "# 7. Você foi contratado(a) como uma pessoa cientista de dados para auxiliar um laboratório que faz experimentos sobre\n",
        "# o comportamento de uma cultura de fungos. O laboratório precisa avaliar constantemente a razão (divisão) entre os dados\n",
        "# de pressão e temperatura do ambiente controlado recolhidos durante a experimentação para definir a melhor condição para os testes.\n",
        "\n",
        "# Para cumprir com a demanda, você precisa criar uma função divide_colunas que recebe os dados das colunas de pressão e\n",
        "# temperatura (que vem no formato de listas) e gerar uma nova coluna com o resultado da divisão. Os parâmetros da função\n",
        "# são as duas listas e você deve tratar dentro dela ao menos 2 tipos de exceções:\n",
        "\n",
        "# Verificar se as listas têm o mesmo tamanho (ValueError)\n",
        "# Verificar se existe alguma divisão por zero (ZeroDivisionError)\n",
        "# Para testar a função, vamos realizar a divisão entre duas listas de dados coletados no experimento, com os valores de pressão e temperatura do ambiente controlado.\n",
        "\n",
        "# Como teste, use os seguintes dados:\n",
        "\n",
        "# Dados sem exceção:\n",
        "pressoes = [100, 120, 140, 160, 180]\n",
        "temperaturas = [20, 25, 30, 35, 40]\n",
        "\n",
        "# Dados com exceção:\n",
        "# 1) Exceção de ZeroDivisionError\n",
        "pressoes = [60, 120, 140, 160, 180]\n",
        "temperaturas = [0, 25, 30, 35, 40]\n",
        "\n",
        "# 2) Exceção de ValueError\n",
        "pressoes = [100, 120, 140, 160]\n",
        "temperaturas = [20, 25, 30, 35, 40]\n",
        "\n",
        "# Dica: Você pode usar zip() para parear os dados da lista_1 com a lista_2.\n",
        "# Crie uma estrutura try-except que caso uma das exceções sejam lançadas, podemos ver o tipo de erro na saída.\n",
        "\n",
        "# Função para dividir os valores das listas de pressão e temperatura\n",
        "def divide_colunas(pressao, temperatura):\n",
        "    try:\n",
        "        # Verifica se as listas têm o mesmo tamanho\n",
        "        if len(pressao) != len(temperatura):\n",
        "            raise ValueError(\"As listas de pressão e temperatura devem ter o mesmo tamanho.\")\n",
        "\n",
        "        # Calcula a divisão elemento por elemento, validando divisão por zero\n",
        "        resultado = [p / t for p, t in zip(pressao, temperatura)]\n",
        "\n",
        "        return resultado\n",
        "\n",
        "    except ZeroDivisionError as zde:\n",
        "        print(\"Erro: divisão por zero encontrada.\")\n",
        "        print(\"Detalhes:\", zde)\n",
        "    except ValueError as ve:\n",
        "        print(\"Erro: listas incompatíveis.\")\n",
        "        print(\"Detalhes:\", ve)\n",
        "\n",
        "# ---------- Testes ----------\n",
        "\n",
        "print(\"✔️ Teste sem exceção:\")\n",
        "pressoes = [100, 120, 140, 160, 180]\n",
        "temperaturas = [20, 25, 30, 35, 40]\n",
        "print(divide_colunas(pressoes, temperaturas))  # Esperado: [5.0, 4.8, 4.67, 4.57, 4.5]\n",
        "\n",
        "print(\"\\n❌ Teste com ZeroDivisionError:\")\n",
        "pressoes = [60, 120, 140, 160, 180]\n",
        "temperaturas = [0, 25, 30, 35, 40]\n",
        "print(divide_colunas(pressoes, temperaturas))\n",
        "\n",
        "print(\"\\n❌ Teste com ValueError (listas de tamanhos diferentes):\")\n",
        "pressoes = [100, 120, 140, 160]\n",
        "temperaturas = [20, 25, 30, 35, 40]\n",
        "print(divide_colunas(pressoes, temperaturas))\n"
      ],
      "metadata": {
        "id": "fUYQbytWzy8b"
      },
      "execution_count": null,
      "outputs": []
    }
  ]
}