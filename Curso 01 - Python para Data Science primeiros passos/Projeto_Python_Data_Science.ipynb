{
  "nbformat": 4,
  "nbformat_minor": 0,
  "metadata": {
    "colab": {
      "provenance": [],
      "collapsed_sections": [
        "Yugfb3fCOYY9",
        "aLSFP2V7XTfe",
        "sLNVmnTbag1Z",
        "UqhzuBhBHsps",
        "KFq_8Sxf-OG0",
        "yQy7b0ZWoD-P",
        "qXZqg9aYEhAh",
        "GFIZnRWXGPWO",
        "w7EXG1dhWtja"
      ],
      "toc_visible": true
    },
    "kernelspec": {
      "name": "python3",
      "display_name": "Python 3"
    },
    "language_info": {
      "name": "python"
    }
  },
  "cells": [
    {
      "cell_type": "markdown",
      "source": [
        "# Python para Data Science\n",
        "\n",
        "Notebook para o curso de Python para Data Science publicado na plataforma da [Alura](https://www.alura.com.br/)"
      ],
      "metadata": {
        "id": "lQx6Mmv0OJyT"
      }
    },
    {
      "cell_type": "markdown",
      "source": [
        "# Introdução ao Python\n",
        "\n",
        "Vamos conhecer o Python, nosso ambiente de estudo e também faremos nosso primeiro código nessa linguagem!"
      ],
      "metadata": {
        "id": "7SiB6JIpYKmY"
      }
    },
    {
      "cell_type": "markdown",
      "source": [
        "## Google Colaboratory\n",
        "\n",
        "Já aprendemos o que é o [Python](https://www.python.org/) agora vamos aprender a utilzar o [Google Colaboratory](https://colab.research.google.com/) e programar em um notebook.\n",
        "\n",
        "Vamos testar algumas funções dessa ferramenta."
      ],
      "metadata": {
        "id": "Yugfb3fCOYY9"
      }
    },
    {
      "cell_type": "markdown",
      "source": [
        " **`>>> Use essa célula para mover <<<`**"
      ],
      "metadata": {
        "id": "2iUHQsJasJAk"
      }
    },
    {
      "cell_type": "code",
      "source": [
        "#\n",
        "#⠀⠀⠀⠀⠀⠀⠀⠀⠀⠀⠀⠀⠀⠀⠀⠀⠀⠀⠀⠀⠀⠀⠀⠀⠀⠀⠀⠀⠀⠀⠀⠀⢀⣠⣤⣄⡀⠀⠀⠀⠀⠀⠀⠀⠀⠀\n",
        "#⠀⠀⠀⠀⠀⠀⠀⠀⠀⠀⠀⠀⠀⠀⠀⠀⠀⠀⠀⠀⠀⠀⣠⣶⠿⠛⠿⣦⣄⣠⣶⠿⠟⠉⠉⠙⣿⡄⠀⠀⠀⠀⠀⠀⠀⠀\n",
        "#⠀⠀⠀⠀⠀⠀⣀⣀⠀⠀⠀⠀⠀⠀⠀⠀⠀⠀⠀⣀⣀⣴⡟⠁⠀⠀⠀⠈⢿⣯⠁⠀⠀⠀⠀⠀⠘⣿⡀⠀⠀⠀⠀⠀⠀⠀\n",
        "#⠀⠀⠀⠀⣰⣿⠛⠛⠻⠿⢶⣶⣄⣠⣤⣶⠶⠾⠿⠛⢻⣿⠀⠀⢠⣶⠷⣶⣾⡿⠿⢶⣦⣤⣴⡶⠶⢿⣷⡀⠀⠀⠀⠀⠀⠀\n",
        "#⠀⠀⠀⠀⣿⠃⠀⠀⠀⠀⠀⠈⠙⠋⠉⠀⠀⠀⠀⠀⢸⣿⠀⠀⠸⣧⣰⡿⠃⠀⠀⠀⠙⣿⣇⡀⠀⠀⢹⣷⠀⠀⠀⠀⠀⠀\n",
        "#⠀⠀⠀⠀⣿⠀⠀⠀⠀⠀⠀⠀⠀⠀⠀⠀⠀⠀⠀⠀⠈⣿⣄⡀⠀⠙⣿⣇⠀⠀⠀⠀⢀⣿⠏⣷⠀⠀⢸⡿⠀⠀⠀⠀⠀⠀\n",
        "#⠀⠀⠀⠀⣿⣇⢀⠀⠀⠀⠀⠀⠀⠀⠀⠀⠀⠀⠀⠀⠀⠈⠛⠻⠷⠞⠛⢻⣧⣤⣤⣴⡾⠿⠴⠋⠀⢠⣿⣧⠀⠀⠀⠀⠀⠀\n",
        "#⠀⠀⠀⠀⠘⣿⣿⠃⠀⠀⠀⠀⠀⠀⠀⠀⠀⠀⠀⠀⠀⠀⠀⠀⠀⠀⠀⠀⠈⠉⠉⠹⣷⣄⣀⣠⣼⡿⠁⢿⣧⠀⠀⠀⠀⠀\n",
        "#⠀⠀⠀⠀⢠⣿⠃⠀⠀⠀⠀⠀⠀⠀⠀⠀⠀⠀⠀⠀⠀⠀⠀⠀⠀⠀⠀⠀⠀⠀⠀⠀⠈⠛⠛⠛⠁⠀⠀⠀⣿⣦⠀⣀⣀⣀\n",
        "#⠀⠀⠀⠀⣼⡟⠀⠀⠀⠀⠀⠀⠀⠀⠀⠀⠀⠀⠀⠀⠀⠀⠀⠀⠀⠀⠀⠀⠀⠀⠀⠀⠀⠀⠀⠀⠀⠀⢰⡶⢿⣿⠛⠛⠛⠋\n",
        "#⠀⠀⠀⠀⣿⠇⠀⠀⠀⠀⠀⠀⠀⠀⠀⠀⠀⠀⠀⠀⠀⠀⠀⠀⠀⠀⠀⠀⠀⠀⠀⠀⠀⠀⠀⣀⠀⠀⠀⠀⢠⣿⡀⠀⠀⠀\n",
        "#⠀⠀⠀⠀⣿⠀⠀⠀⠀⠀⠀⢠⣀⣠⣤⡀⠀⠀⠀⠀⠀⠀⠀⠀⠀⠀⠀⠀⠀⠀⣠⣾⠿⠿⣶⠟⠀⣀⣀⠘⢻⣿⠛⠛⠛⠃\n",
        "#⣠⣤⣴⠶⣿⡷⠚⠻⠧⠀⠀⠀⠹⣿⣿⣷⠀⠀⠀⠀⠀⠀⢀⣀⣀⣀⠀⠀⠀⠀⠙⠃⠀⠀⠉⠀⡼⣻⣻⢿⠿⣿⣆⠀⠀⠀\n",
        "#⠙⠉⠀⠀⠘⣿⡀⢀⣀⡀⠀⠀⠀⠘⠿⠋⠀⠀⠀⠀⠀⠀⣿⡉⣉⣿⡆⠀⠀⠀⠀⠀⠀⠀⠀⣸⢣⡏⢹⠛⠓⢒⣿⣤⣄⠀\n",
        "#⠀⠀⠀⣀⣠⣿⣿⡟⠉⠁⠀⠀⠀⠀⠀⠀⢀⣀⣀⡀⠀⠀⠉⠉⠛⠉⠀⠀⠀⠀⠀⠀⠀⠀⢰⣏⡿⠀⢻⣿⠄⣾⠁⠈⠉⠀\n",
        "#⠀⠀⠀⠛⠁⠀⠘⢿⣦⣠⡼⠆⠀⠀⠀⢠⣿⠋⠛⠿⠿⣷⣄⠀⠀⠀⠀⠀⠀⠀⠀⠀⠀⣠⡟⡽⠁⢀⣨⣧⣴⠻⣧⠀⠀⠀\n",
        "#⠀⠀⠀⠀⠀⠀⢀⣤⡿⠛⠿⣶⣤⣄⣠⣾⠟⠀⠀⠀⠀⠈⣿⣀⣀⣀⣀⣀⣀⣤⣴⣶⢿⡿⣸⠃⣰⡿⠋⠉⠁⣾⡟⠀⠀⠀\n",
        "#⠀⠀⠀⠀⠀⠀⠻⠏⠀⠀⠀⠀⠈⢹⡿⠃⠀⠀⠀⠀⠀⣸⡿⠛⠛⠛⢉⡿⠋⠉⢹⣧⣸⣷⡏⢸⡏⠀⠀⠀⠀⣿⠇⠀⠀⠀\n",
        "#⠀⠀⠀⠀⠀⠀⠀⠀⠀⠀⠀⠀⠀⢾⣇⠀⠀⠀⢀⣠⣾⠿⠷⠦⠴⠾⠛⠁⠀⠀⠀⢻⣏⠛⠓⠚⢿⣦⠀⣠⣾⠟⠀⠀⠀⠀\n",
        "#⠀⠀⠀⠀⠀⠀⠀⠀⠀⠀⠀⠀⠀⢈⣿⣿⣿⣟⠛⠋⠁⠀⠀⠀⠀⠀⠀⠀⠀⠀⠀⢀⣿⣷⣶⣤⣤⠾⠟⠛⠁⠀⠀⠀⠀⠀\n",
        "#⠀⠀⠀⠀⠀⠀⠀⠀⠀⠀⠀⢀⣴⡿⠋⠀⠀⠉⣹⡿⠛⠓⠲⠦⠤⠤⠤⠶⠶⢾⣟⠉⠉⠻⣦⡀⠀⠀⠀⠀⠀⠀⠀⠀⠀⠀\n",
        "#⠀⠀⠀⠀⠀⠀⠀⠀⠀⠀⢠⣾⠏⠀⠀⠀⠀⠘⠁⠀⠀⠀⠀⠀⠀⠀⠀⠀⠀⠀⠘⠃⠀⠀⠈⢿⣆⠀⠀⠀⠀⠀⠀⠀⠀⠀\n",
        "#⠀⠀⠀⠀⠀⠀⠀⠀⠀⠀⠘⢿⣶⣤⣀⣀⡀⠀⠀⠀⠀⠀⠀⠀⠀⠀⠀⠀⠀⠀⠀⠀⠀⢀⣀⣼⡿⠀⠀⠀⠀⠀⠀⠀⠀⠀\n",
        "#⠀⠀⠀⠀⠀⠀⠀⠀⠀⠀⠀⠀⠈⢹⣟⠛⠿⠿⠶⠶⣶⣶⣶⣶⣶⣴⣶⣶⣶⠶⠶⠶⠿⠟⢿⡏⠀⠀⠀⠀⠀⠀⠀⠀⠀⠀\n",
        "#⠀⠀⠀⠀⠀⠀⠀⠀⠀⠀⠀⠀⠀⢸⣿⠶⢤⣤⣤⣀⣀⣀⣄⣼⣿⣤⣀⣀⣀⣀⣀⣤⠤⢶⣿⡇⠀⠀⠀⠀⠀⠀⠀⠀⠀⠀\n",
        "#⠀⠀⠀⠀⠀⠀⠀⠀⠀⠀⠀⠀⠀⠈⢿⣆⠀⠀⠀⠀⠈⠀⠀⠀⣿⠀⠀⠀⠀⠀⠀⠀⢀⣼⡟⠀⠀⠀⠀⠀⠀⠀⠀⠀⠀⠀\n",
        "#⠀⠀⠀⠀⠀⠀⠀⠀⠀⠀⠀⠀⠀⠀⠈⠻⣷⣦⣀⣀⣀⣀⣠⣾⣿⣤⣀⣀⣀⣀⣠⠛⠛⠋⠀⠀⠀⠀⠀⠀⠀⠀⠀⠀⠀⠀\n",
        "#⠀⠀⠀⠀⠀⠀⠀⠀⠀⠀⠀⠀⠀⠀⠀⠀⠀⠉⠙⠛⠛⠛⠉⠁⠀⠉⠙⠛⠛⠛⠛⠉⠉⠀⠀⠀⠀⠀⠀⠀⠀⠀⠀⠀⠀⠀⠀⠀\n",
        "#"
      ],
      "metadata": {
        "id": "tWQp3j7S6MTX"
      },
      "execution_count": null,
      "outputs": []
    },
    {
      "cell_type": "markdown",
      "source": [
        "## Olá mundo!\n",
        "\n",
        "Vamso conhecer mais como funciona o ambiente interativo de um notebook. Para isso vamos executar nosso primeiro comando em Python: [`print()`](https://docs.python.org/3/library/functions.html#print)"
      ],
      "metadata": {
        "id": "aLSFP2V7XTfe"
      }
    },
    {
      "cell_type": "code",
      "source": [
        "print(\"Olá mundo!\")"
      ],
      "metadata": {
        "id": "5s5z5TeP6LDU",
        "colab": {
          "base_uri": "https://localhost:8080/"
        },
        "outputId": "9c0f6a96-ec8e-48a5-e650-3a06fa675c18"
      },
      "execution_count": null,
      "outputs": [
        {
          "output_type": "stream",
          "name": "stdout",
          "text": [
            "Olá mundo!\n"
          ]
        }
      ]
    },
    {
      "cell_type": "code",
      "source": [
        "print(10)"
      ],
      "metadata": {
        "id": "tNeEkSW06K8X",
        "colab": {
          "base_uri": "https://localhost:8080/"
        },
        "outputId": "29bc8e66-50c1-4c08-fa5d-c89f653e067f"
      },
      "execution_count": null,
      "outputs": [
        {
          "output_type": "stream",
          "name": "stdout",
          "text": [
            "10\n"
          ]
        }
      ]
    },
    {
      "cell_type": "code",
      "source": [
        "print(\"O tal de Marcos tem\",28,\"anos!\" )"
      ],
      "metadata": {
        "id": "2sKZJ-PO6K0w",
        "colab": {
          "base_uri": "https://localhost:8080/"
        },
        "outputId": "748e1eb0-d79e-4aa9-b3e7-e9db75271bab"
      },
      "execution_count": null,
      "outputs": [
        {
          "output_type": "stream",
          "name": "stdout",
          "text": [
            "O tal de Marcos tem 28 anos!\n"
          ]
        }
      ]
    },
    {
      "cell_type": "markdown",
      "source": [
        "### Lista de desafios - Aula 01"
      ],
      "metadata": {
        "id": "mMsliqEmvI5k"
      }
    },
    {
      "cell_type": "code",
      "source": [
        "# Vamos praticar o uso da função print com algumas atividades. Para isso, solucione os problemas propostos em código:\n",
        "\n",
        "# Imprima a frase Escola de Dados da Alura!.\n",
        "print(\"Escola de Dados da Alura!\")\n",
        "\n",
        "# Imprima seu nome e seu sobrenome seguindo a estrutura abaixo:\n",
        "# Nome: [seu nome]\n",
        "# Sobrenome: [seu sobrenome]\n",
        "print(\"Nome: Marcos \\nSobrenome: Henrique\")"
      ],
      "metadata": {
        "colab": {
          "base_uri": "https://localhost:8080/"
        },
        "id": "0tLw-PVnvQnE",
        "outputId": "188ca3e5-0b5a-4db2-d82a-f380533b3c54"
      },
      "execution_count": null,
      "outputs": [
        {
          "output_type": "stream",
          "name": "stdout",
          "text": [
            "Escola de Dados da Alura!\n",
            "Nome: Marcos \n",
            "Sobrenome: Henrique\n"
          ]
        }
      ]
    },
    {
      "cell_type": "code",
      "source": [
        "# Imprima o seu primeiro nome letra a letra. Por exemplo, meu nome é Mirla, então eu obtenho a seguinte saída:\n",
        "print(\"M\")\n",
        "print(\"a\")\n",
        "print(\"r\")\n",
        "print(\"c\")\n",
        "print(\"o\")\n",
        "print(\"s\")"
      ],
      "metadata": {
        "colab": {
          "base_uri": "https://localhost:8080/"
        },
        "id": "9UeEp-IIvQwz",
        "outputId": "7f95f990-ebe0-468c-a50d-1ce7d2e4a36a"
      },
      "execution_count": null,
      "outputs": [
        {
          "output_type": "stream",
          "name": "stdout",
          "text": [
            "M\n",
            "a\n",
            "r\n",
            "c\n",
            "o\n",
            "s\n"
          ]
        }
      ]
    },
    {
      "cell_type": "code",
      "source": [
        "# Imprima o dia do seu nascimento em formato dia mês ano. Lembrando que os valores de dia e ano não podem estar entre aspas.\n",
        "# Supondo uma data de aniversário dia 28 de fevereiro de 2003, o formato deve estar como no exemplo abaixo:\n",
        "print(\"Dia \",22,\" de algum mês nos anos\", 1990)\n"
      ],
      "metadata": {
        "colab": {
          "base_uri": "https://localhost:8080/"
        },
        "id": "8TdGIQjOwHB-",
        "outputId": "1d750fcd-d0da-4a46-e9f8-c1ce541bdc0e"
      },
      "execution_count": null,
      "outputs": [
        {
          "output_type": "stream",
          "name": "stdout",
          "text": [
            "Dia  22  de algum mês nos anos 1990\n"
          ]
        }
      ]
    },
    {
      "cell_type": "code",
      "source": [
        "# Imprima, em um único print, o atual ano que você está fazendo esse curso.\n",
        "# O valor do ano deve ser um dado numérico e a saída do print deve ser a seguinte:\n",
        "print(\"Ano atual: \",2025)\n"
      ],
      "metadata": {
        "colab": {
          "base_uri": "https://localhost:8080/"
        },
        "id": "5lYcwW4OvQ2M",
        "outputId": "77d3a5aa-b536-4acf-9207-19bea0042e74"
      },
      "execution_count": null,
      "outputs": [
        {
          "output_type": "stream",
          "name": "stdout",
          "text": [
            "Ano atual:  2025\n"
          ]
        }
      ]
    },
    {
      "cell_type": "markdown",
      "source": [
        "# Manipulando dados\n",
        "\n",
        "Vamos aprender sobre as variáveis no python, como elas são declaradas e utilizadas além de conhecer outros comandos dentro do Python. :D"
      ],
      "metadata": {
        "id": "iP8uWQmFYFRs"
      }
    },
    {
      "cell_type": "markdown",
      "source": [
        "## Variáveis\n",
        "\n",
        "Em Data Science nós trabalhamos com vários dados e informações, então é essencial saber trabalhar com variáveis."
      ],
      "metadata": {
        "id": "sLNVmnTbag1Z"
      }
    },
    {
      "cell_type": "markdown",
      "source": [
        "Criamos uma variável no python através da atribuição de um valor a ela.\n",
        "\n",
        "Para fazer isso, colocamos o nome da variável um sinal de igual (`=`) e o valor que queremos atribuir"
      ],
      "metadata": {
        "id": "lsCY0wahAbf6"
      }
    },
    {
      "cell_type": "code",
      "source": [
        "idade = 5"
      ],
      "metadata": {
        "id": "8J3pJghf57ZI"
      },
      "execution_count": null,
      "outputs": []
    },
    {
      "cell_type": "code",
      "source": [
        "print(idade)"
      ],
      "metadata": {
        "id": "Byehj1QR57S1",
        "colab": {
          "base_uri": "https://localhost:8080/"
        },
        "outputId": "a15eb983-83fc-473e-98a1-2d33bc374179"
      },
      "execution_count": null,
      "outputs": [
        {
          "output_type": "stream",
          "name": "stdout",
          "text": [
            "5\n"
          ]
        }
      ]
    },
    {
      "cell_type": "code",
      "source": [
        "idade = 10\n",
        "print(idade)"
      ],
      "metadata": {
        "id": "cMjXA8DO58Uj",
        "colab": {
          "base_uri": "https://localhost:8080/"
        },
        "outputId": "cd2721ab-5fd3-4ef3-a5d2-2bbec8228688"
      },
      "execution_count": null,
      "outputs": [
        {
          "output_type": "stream",
          "name": "stdout",
          "text": [
            "10\n"
          ]
        }
      ]
    },
    {
      "cell_type": "code",
      "source": [
        "idade = 15\n",
        "idade"
      ],
      "metadata": {
        "id": "82qmrXyz58SD",
        "colab": {
          "base_uri": "https://localhost:8080/"
        },
        "outputId": "f5fad784-aea7-491b-a34b-1408ce66b16b"
      },
      "execution_count": null,
      "outputs": [
        {
          "output_type": "execute_result",
          "data": {
            "text/plain": [
              "15"
            ]
          },
          "metadata": {},
          "execution_count": 4
        }
      ]
    },
    {
      "cell_type": "code",
      "source": [
        "nome = \"Jorginho Tunelador\"\n",
        "nome"
      ],
      "metadata": {
        "id": "h0QjCDb15z7-",
        "colab": {
          "base_uri": "https://localhost:8080/",
          "height": 35
        },
        "outputId": "c59889de-1ee9-4a64-903a-9ffb57cb0135"
      },
      "execution_count": null,
      "outputs": [
        {
          "output_type": "execute_result",
          "data": {
            "text/plain": [
              "'Jorginho Tunelador'"
            ],
            "application/vnd.google.colaboratory.intrinsic+json": {
              "type": "string"
            }
          },
          "metadata": {},
          "execution_count": 5
        }
      ]
    },
    {
      "cell_type": "markdown",
      "source": [
        "Nomes que **não** podemos definir para variáveis:\n",
        "\n",
        "- **Nomes que começam com números**\n",
        "  - Exemplos: `10_notas`, `2_nomes_casa`, etc.\n",
        "- **Palavras separada por espaço**\n",
        "  - Exemplos: `Nome escola`, `notas estudantes`, etc.\n",
        "- **Nomes de funções do Python**\n",
        "  - Exemplos: `print`, `type`, etc."
      ],
      "metadata": {
        "id": "om2N0jHKAzwL"
      }
    },
    {
      "cell_type": "markdown",
      "source": [
        "> Letras maiúsculas e minúsculas vão gerar diferentes variáveis. A varíavel `idade` é diferente de `Idade` que por sua vez também é diferente de `IDADE`:\n",
        "``` Python\n",
        "idade = 1\n",
        "Idade = 2\n",
        "IDADE = 3\n",
        "_idade = 4\n",
        "_idade_ = 5\n",
        "print(idade, Idade, IDADE, _idade, _idade_)\n",
        "1 2 3 4 5\n",
        "```"
      ],
      "metadata": {
        "id": "A19vY2GVMujB"
      }
    },
    {
      "cell_type": "markdown",
      "source": [
        "## Tipos de variáveis\n",
        "\n",
        "Cada variável contém uma classe especifica quanto ao tipo de objeto que ela está se referenciando. Essas classes vão ser diferentes a partir do tipo de dado que nós atribuimos a uma variável.\n",
        "\n",
        "Para saber a classe de cada elemento usamos a função [`type()`](https://docs.python.org/3/library/functions.html#type)"
      ],
      "metadata": {
        "id": "UqhzuBhBHsps"
      }
    },
    {
      "cell_type": "code",
      "source": [
        "i = 5\n",
        "type(i)"
      ],
      "metadata": {
        "id": "-tb-XRcq5v9W",
        "colab": {
          "base_uri": "https://localhost:8080/"
        },
        "outputId": "a69c7dbd-56f6-47bc-b0ab-6ad9b242586f"
      },
      "execution_count": null,
      "outputs": [
        {
          "output_type": "execute_result",
          "data": {
            "text/plain": [
              "int"
            ]
          },
          "metadata": {},
          "execution_count": 7
        }
      ]
    },
    {
      "cell_type": "code",
      "source": [
        "f = 9.8\n",
        "type(f)"
      ],
      "metadata": {
        "id": "5ncn48tw5vw2",
        "colab": {
          "base_uri": "https://localhost:8080/"
        },
        "outputId": "c5ec3290-1b9c-43a8-f510-960e0739a6de"
      },
      "execution_count": null,
      "outputs": [
        {
          "output_type": "execute_result",
          "data": {
            "text/plain": [
              "float"
            ]
          },
          "metadata": {},
          "execution_count": 8
        }
      ]
    },
    {
      "cell_type": "code",
      "source": [
        "s = \"Marcos\"\n",
        "type(s)"
      ],
      "metadata": {
        "id": "PURhkDrw5vpB",
        "colab": {
          "base_uri": "https://localhost:8080/"
        },
        "outputId": "7f1214d6-7326-4ff4-8cb7-611ac60fa401"
      },
      "execution_count": null,
      "outputs": [
        {
          "output_type": "execute_result",
          "data": {
            "text/plain": [
              "str"
            ]
          },
          "metadata": {},
          "execution_count": 9
        }
      ]
    },
    {
      "cell_type": "code",
      "source": [
        "b = True\n",
        "type(b)"
      ],
      "metadata": {
        "id": "w0XcF4MC5vhw",
        "colab": {
          "base_uri": "https://localhost:8080/"
        },
        "outputId": "37932bb4-aacf-40b3-a7a0-a223cc243a6e"
      },
      "execution_count": null,
      "outputs": [
        {
          "output_type": "execute_result",
          "data": {
            "text/plain": [
              "bool"
            ]
          },
          "metadata": {},
          "execution_count": 10
        }
      ]
    },
    {
      "cell_type": "markdown",
      "source": [
        "Em um conjunto de dados escolares podemos ter vários tipos de informações. Digamos que tenhamos acesso à ficha de dados do aluno *Frabicio Daniel* como transformamos ela em variáveis no Python?\n",
        "\n",
        "#### Ficha:\n",
        "\n",
        "- Nome: Fabricio Daniel\n",
        "- Idade: 15 anos\n",
        "- Media do semestre: 8,45\n",
        "- Situação de aprovação: Verdadeira (aprovado)"
      ],
      "metadata": {
        "id": "O-FxDumfWu0C"
      }
    },
    {
      "cell_type": "code",
      "source": [
        "nome_aluno = \"Fabricio Daniel\"\n",
        "idade_aluno = 15\n",
        "media_aluno = 8.45\n",
        "situacao_aprovado = True\n",
        "print(f\"Nome: {nome_aluno}\\nIdade: {idade_aluno}\\nMédia: {media_aluno}\\nAprovado: {situacao_aprovado}\")"
      ],
      "metadata": {
        "id": "xZ3Exi2L5ozi",
        "colab": {
          "base_uri": "https://localhost:8080/"
        },
        "outputId": "fe3f4ff9-1d27-43f9-b00a-5d24c203368f"
      },
      "execution_count": null,
      "outputs": [
        {
          "output_type": "stream",
          "name": "stdout",
          "text": [
            "Nome: Fabricio Daniel\n",
            "Idade: 15\n",
            "Média: 8.45\n",
            "Aprovado: True\n"
          ]
        }
      ]
    },
    {
      "cell_type": "markdown",
      "source": [
        "## Variáveis numéricas\n",
        "\n",
        "Entre os tipos de dados numéricos vamos nos focar no tipo `inteiro` e `float`."
      ],
      "metadata": {
        "id": "KFq_8Sxf-OG0"
      }
    },
    {
      "cell_type": "markdown",
      "source": [
        "Temos uma tabela de informação de empregos quanto ao cargo, quantidade de pessoas empregadas e o salário correspondente:\n",
        "\n",
        "|Cargo | Quantidade | Salário|\n",
        "|---|---|---|\n",
        "|Segurança | 5 | 3000 |\n",
        "|Docente | 16| 6000|\n",
        "|Diretoria| 1 |12500|\n",
        "\n",
        "Precisamos trabalhar com esses dados fornecendo:\n",
        "\n",
        "- A quantidade total de empregados;\n",
        "- A diferença entre o salário mais baixo e mais alto; e\n",
        "- A média ponderada da faixa salarial da escola."
      ],
      "metadata": {
        "id": "8_HYUbkVYdQY"
      }
    },
    {
      "cell_type": "code",
      "source": [
        "q_seguranca = 5\n",
        "s_seguranca = 3000\n",
        "\n",
        "q_docente = 16\n",
        "s_docente = 6000\n",
        "\n",
        "q_diretoria = 1\n",
        "s_diretoria = 12500"
      ],
      "metadata": {
        "id": "xJIq5MRRZAlj"
      },
      "execution_count": null,
      "outputs": []
    },
    {
      "cell_type": "code",
      "source": [
        "# Quant. total de empregados\n",
        "total_empregados = q_seguranca + q_docente + q_diretoria\n",
        "total_empregados"
      ],
      "metadata": {
        "id": "pIgt-k6T5WpB",
        "colab": {
          "base_uri": "https://localhost:8080/"
        },
        "outputId": "31d3a4ad-ebf5-44cd-f617-f7d8659ea668"
      },
      "execution_count": null,
      "outputs": [
        {
          "output_type": "execute_result",
          "data": {
            "text/plain": [
              "22"
            ]
          },
          "metadata": {},
          "execution_count": 19
        }
      ]
    },
    {
      "cell_type": "code",
      "source": [
        "# Diferença entre salários\n",
        "dif_salario = s_diretoria - s_seguranca\n",
        "dif_salario"
      ],
      "metadata": {
        "id": "bL9uGHvp5We5",
        "colab": {
          "base_uri": "https://localhost:8080/"
        },
        "outputId": "5fa56074-ed5a-49eb-a46f-e9615e5a176c"
      },
      "execution_count": null,
      "outputs": [
        {
          "output_type": "execute_result",
          "data": {
            "text/plain": [
              "9500"
            ]
          },
          "metadata": {},
          "execution_count": 20
        }
      ]
    },
    {
      "cell_type": "code",
      "source": [
        "# Média ponderada\n",
        "media_salario = (q_seguranca * s_seguranca + q_docente * s_docente + q_diretoria * s_diretoria) / (total_empregados)\n",
        "media_salario"
      ],
      "metadata": {
        "id": "GpTS_c8_5WX_",
        "colab": {
          "base_uri": "https://localhost:8080/"
        },
        "outputId": "7ff7ccbc-c0cf-4c65-c7bf-b112ccfa52ea"
      },
      "execution_count": null,
      "outputs": [
        {
          "output_type": "execute_result",
          "data": {
            "text/plain": [
              "5613.636363636364"
            ]
          },
          "metadata": {},
          "execution_count": 21
        }
      ]
    },
    {
      "cell_type": "markdown",
      "source": [
        "### Outros operadores\n",
        "\n",
        "**Exponenciação (**)**\n",
        "\n",
        "Conseguimos elevar o número à uma potência definida através do operador **. Para ter esse resultado, definimos um valor à esquerda do operador e a potência desejada do número à direita.\n",
        "\n",
        "Por exemplo: sabemos que 2 elevado à 3 é igual a 8 (2*2*2 = 8). Para reproduzir esse cálculo colocamos:"
      ],
      "metadata": {
        "id": "SiN8Tu8L4Yp3"
      }
    },
    {
      "cell_type": "code",
      "source": [
        "# Cálculo direto\n",
        "2**3\n",
        "\n",
        "# Com variáveis\n",
        "operador = 2\n",
        "potencia = 3\n",
        "operador ** potencia"
      ],
      "metadata": {
        "colab": {
          "base_uri": "https://localhost:8080/"
        },
        "id": "sm3hlPYJ4XgZ",
        "outputId": "7cd76a3b-08f0-45bc-ef17-364f88bbf205"
      },
      "execution_count": null,
      "outputs": [
        {
          "output_type": "execute_result",
          "data": {
            "text/plain": [
              "8"
            ]
          },
          "metadata": {},
          "execution_count": 23
        }
      ]
    },
    {
      "cell_type": "markdown",
      "source": [
        "**Módulo (%)**\n",
        "\n",
        "O operador de módulo pode retornar o resto da divisão inteira entre dois números. Lembrando que o resto de uma divisão é o número que sobra quando uma divisão não é exata.\n",
        "\n",
        "Para calcularmos o módulo de uma divisão, colocamos o dividendo à esquerda no operador % e o divisor à direita. Para encontramos o resto da divisão de 7 por 3, por exemplo, podemos executar os seguintes códigos:"
      ],
      "metadata": {
        "id": "fEANYn6w42ZX"
      }
    },
    {
      "cell_type": "code",
      "source": [
        "# Cálculo direto\n",
        "7%3\n",
        "\n",
        "# Com variáveis\n",
        "dividendo = 7\n",
        "divisor = 3\n",
        "dividendo % divisor"
      ],
      "metadata": {
        "colab": {
          "base_uri": "https://localhost:8080/"
        },
        "id": "njUO1gg544kf",
        "outputId": "df0c63cb-ae98-414e-cc5b-31c5a2d280e0"
      },
      "execution_count": null,
      "outputs": [
        {
          "output_type": "execute_result",
          "data": {
            "text/plain": [
              "1"
            ]
          },
          "metadata": {},
          "execution_count": 26
        }
      ]
    },
    {
      "cell_type": "markdown",
      "source": [
        "**Divisão inteira (//)**\n",
        "\n",
        "Essa operação retorna o resultado da divisão inteira entre dois números, ou seja, retorna apenas a parte inteira de uma divisão. Por exemplo, sabemos que a divisão exata de 7 por 3 (7/3) resulta no valor 2.333333…. Caso essa fosse uma divisão inteira, o resultado dela seria apenas 2.\n",
        "\n",
        "Sua sintaxe consiste em colocar o valor do numerador, o operador // e depois o denominador, como consta a seguir:"
      ],
      "metadata": {
        "id": "O01Pu7WR5HBX"
      }
    },
    {
      "cell_type": "code",
      "source": [
        "# Cálculo direto\n",
        "7 // 3\n",
        "\n",
        "# Com variáveis\n",
        "numerador = 7\n",
        "denominador = 3\n",
        "numerador // denominador"
      ],
      "metadata": {
        "colab": {
          "base_uri": "https://localhost:8080/"
        },
        "id": "z-PgdPD05IsP",
        "outputId": "a2e41fff-be71-4cc4-b661-a296adf6ae95"
      },
      "execution_count": null,
      "outputs": [
        {
          "output_type": "execute_result",
          "data": {
            "text/plain": [
              "2"
            ]
          },
          "metadata": {},
          "execution_count": 27
        }
      ]
    },
    {
      "cell_type": "markdown",
      "source": [
        "## Strings"
      ],
      "metadata": {
        "id": "yQy7b0ZWoD-P"
      }
    },
    {
      "cell_type": "markdown",
      "source": [
        "Strings são caracterizada por ter um conjunto de caracteres formando um texto.\n",
        "\n",
        "Strigs podem ser criadas ao atribuirmos a uma variável um dado que esteja entre aspas simples (`'`) ou aspas duplas (`\"`)"
      ],
      "metadata": {
        "id": "vlo2-DXusv3s"
      }
    },
    {
      "cell_type": "code",
      "source": [
        "s1 = 'Alura'\n",
        "s2 = \"Alura\"\n",
        "print(type(s1), type(s2))"
      ],
      "metadata": {
        "id": "SSinaAb15FWn",
        "colab": {
          "base_uri": "https://localhost:8080/"
        },
        "outputId": "ad9a15af-fdc1-454e-e0cb-3edffe0d800a"
      },
      "execution_count": null,
      "outputs": [
        {
          "output_type": "stream",
          "name": "stdout",
          "text": [
            "<class 'str'> <class 'str'>\n"
          ]
        }
      ]
    },
    {
      "cell_type": "markdown",
      "source": [
        "As variáveis textuais contém vários métodos que nos ajudam a formatar strings. Métódos podem ser executados ao definirmos um objeto seguindo a seguinte estrutura:\n",
        "\n",
        "```\n",
        "objeto.metodo()\n",
        "```\n",
        "\n",
        "Existem métodos que não necessitam dos `()`, é preciso verificar a documentação de cada caso."
      ],
      "metadata": {
        "id": "2e9UD_CCxqz_"
      }
    },
    {
      "cell_type": "markdown",
      "source": [
        "---\n",
        "**Situação:**\n",
        "\n",
        "Recebemos uma variável com o nome de uma professora da escola para inserimos no cadastro. No entanto, precisamos tratar esse texto antes de inserirmos no sistema"
      ],
      "metadata": {
        "id": "p6aPmMGP4tf9"
      }
    },
    {
      "cell_type": "code",
      "source": [
        "texto = '  Geovana Alessandra dias Sanyos '"
      ],
      "metadata": {
        "id": "4tkS8Iit1Ccg"
      },
      "execution_count": null,
      "outputs": []
    },
    {
      "cell_type": "markdown",
      "source": [
        "O objetivo final é que o nome esteja da seguinte forma:\n",
        "\n",
        "```\n",
        "'GEOVANA ALESSANDRA DIAS SANTOS'\n",
        "```"
      ],
      "metadata": {
        "id": "Dg2ZXSZOGzjC"
      }
    },
    {
      "cell_type": "markdown",
      "source": [
        "### [`str.upper()` ](https://docs.python.org/3/library/stdtypes.html#str.upper)\n",
        "Converte uma string para maiúsculas"
      ],
      "metadata": {
        "id": "iVTAD8q702eN"
      }
    },
    {
      "cell_type": "code",
      "source": [
        "texto.upper()"
      ],
      "metadata": {
        "id": "sWMt1iWW5LdN",
        "colab": {
          "base_uri": "https://localhost:8080/",
          "height": 35
        },
        "outputId": "f15f48f9-12bc-4996-e1bb-75100f6576ad"
      },
      "execution_count": null,
      "outputs": [
        {
          "output_type": "execute_result",
          "data": {
            "text/plain": [
              "'  GEOVANA ALESSANDRA DIAS SANYOS '"
            ],
            "application/vnd.google.colaboratory.intrinsic+json": {
              "type": "string"
            }
          },
          "metadata": {},
          "execution_count": 30
        }
      ]
    },
    {
      "cell_type": "markdown",
      "source": [
        "### [`str.lower()`](https://docs.python.org/3/library/stdtypes.html#str.lower)\n",
        "Método converte uma string para minúsculas."
      ],
      "metadata": {
        "id": "hbDSBtMV1TpG"
      }
    },
    {
      "cell_type": "code",
      "source": [
        "texto.lower()"
      ],
      "metadata": {
        "id": "ypSOC5WR5MTi",
        "colab": {
          "base_uri": "https://localhost:8080/",
          "height": 35
        },
        "outputId": "b19756fc-04bf-43f1-da06-717ec205a781"
      },
      "execution_count": null,
      "outputs": [
        {
          "output_type": "execute_result",
          "data": {
            "text/plain": [
              "'  geovana alessandra dias sanyos '"
            ],
            "application/vnd.google.colaboratory.intrinsic+json": {
              "type": "string"
            }
          },
          "metadata": {},
          "execution_count": 31
        }
      ]
    },
    {
      "cell_type": "markdown",
      "source": [
        "### [`str.strip()`](https://docs.python.org/3/library/stdtypes.html#str.strip)\n",
        "Método remove os espaços em branco do início e do fim de uma string."
      ],
      "metadata": {
        "id": "kz47eWM11gii"
      }
    },
    {
      "cell_type": "code",
      "source": [
        "texto.strip()"
      ],
      "metadata": {
        "id": "Xys25o1N5NKD",
        "colab": {
          "base_uri": "https://localhost:8080/",
          "height": 35
        },
        "outputId": "854b0cd1-6aa5-4fc4-b7c6-185fac253e2f"
      },
      "execution_count": null,
      "outputs": [
        {
          "output_type": "execute_result",
          "data": {
            "text/plain": [
              "'Geovana Alessandra dias Sanyos'"
            ],
            "application/vnd.google.colaboratory.intrinsic+json": {
              "type": "string"
            }
          },
          "metadata": {},
          "execution_count": 32
        }
      ]
    },
    {
      "cell_type": "markdown",
      "source": [
        "### [`str.replace(antigo, novo)`](https://docs.python.org/3/library/stdtypes.html#str.replace)\n",
        "\n",
        "Método substitui todas as ocorrências do texto \"antigo\" na string por \"novo\""
      ],
      "metadata": {
        "id": "m6notiyS1SCV"
      }
    },
    {
      "cell_type": "code",
      "source": [
        "texto.replace(\"y\",\"t\")"
      ],
      "metadata": {
        "id": "oY2mU2Id5OcO",
        "colab": {
          "base_uri": "https://localhost:8080/",
          "height": 35
        },
        "outputId": "3d22777b-e90f-43de-9eeb-2ae52bca22c3"
      },
      "execution_count": null,
      "outputs": [
        {
          "output_type": "execute_result",
          "data": {
            "text/plain": [
              "'  Geovana Alessandra dias Santos '"
            ],
            "application/vnd.google.colaboratory.intrinsic+json": {
              "type": "string"
            }
          },
          "metadata": {},
          "execution_count": 33
        }
      ]
    },
    {
      "cell_type": "markdown",
      "source": [
        "### Observações\n",
        "\n",
        "1. Os métodos retornam uma **tranformação**, não a executam no texto!\n",
        "\n",
        "2. Além disso, podemos acumular a execução de métodos."
      ],
      "metadata": {
        "id": "zukvEjhG2Rcn"
      }
    },
    {
      "cell_type": "code",
      "source": [
        "texto"
      ],
      "metadata": {
        "id": "Q6O5y20u5PQk",
        "colab": {
          "base_uri": "https://localhost:8080/",
          "height": 35
        },
        "outputId": "4664e232-a1d9-4d40-8e49-7081af4c3765"
      },
      "execution_count": null,
      "outputs": [
        {
          "output_type": "execute_result",
          "data": {
            "text/plain": [
              "'  Geovana Alessandra dias Sanyos '"
            ],
            "application/vnd.google.colaboratory.intrinsic+json": {
              "type": "string"
            }
          },
          "metadata": {},
          "execution_count": 34
        }
      ]
    },
    {
      "cell_type": "markdown",
      "source": [
        "Para que seja executada a transformação nós podemos atribuir às saídas das transformações à variável"
      ],
      "metadata": {
        "id": "1KbwfVut2h6I"
      }
    },
    {
      "cell_type": "code",
      "source": [
        "texto = texto.strip().replace(\"y\",\"t\").upper()\n",
        "texto"
      ],
      "metadata": {
        "id": "W6DiHv2H5Tq-",
        "colab": {
          "base_uri": "https://localhost:8080/",
          "height": 35
        },
        "outputId": "c14f3743-9f22-46bb-ea2f-53083222d8b8"
      },
      "execution_count": null,
      "outputs": [
        {
          "output_type": "execute_result",
          "data": {
            "text/plain": [
              "'GEOVANA ALESSANDRA DIAS SANTOS'"
            ],
            "application/vnd.google.colaboratory.intrinsic+json": {
              "type": "string"
            }
          },
          "metadata": {},
          "execution_count": 37
        }
      ]
    },
    {
      "cell_type": "markdown",
      "source": [
        "### Para saber mais: tabela Unicode\n",
        "\n",
        "Python é uma linguagem de programação caracterizada por usar o padrão unicode de caracteres. Esse padrão permite que pessoas desenvolvedoras de todo o mundo consigam trabalhar com textos e caracteres em diferentes idiomas de forma muito fácil, sem precisar se preocupar com problemas de compatibilidade.\n",
        "\n",
        "Isso só foi possível graças ao desenvolvimento da tabela Unicode, uma tabela de codificação de caracteres, que associa códigos numéricos a caracteres específicos. O objetivo de sua criação foi incluir os caracteres existentes em todas as línguas e sistemas escritos do mundo. Até a versão 15.0, o padrão já agrupa mais de 140 mil caracteres, incluindo letras, números, símbolos e emojis. Podemos ver as estatísticas de cada versão e a quantidade de caracteres por versão nesse link.\n",
        "\n",
        "Além disso, ela veio como uma alternativa às outras tabelas de caracteres criadas como a ASCII, que só suporta caracteres do alfabeto inglês e alguns símbolos. Por conta disso, ela é muito importante, já que permite a representação de caracteres de diferentes idiomas (como o ç no Português, o ñ no Espanhol, ou o П em russo) e scripts de forma consistente e independentemente do dispositivo ou plataforma, o que é fundamental para a globalização e representação correta de textos em diferentes línguas.\n",
        "\n",
        "Vale lembrar que a tabela Unicode é constantemente atualizada e ampliada, incluindo novos caracteres e scripts. Isso garante que ela continue sendo relevante e útil para suportar a representação de todos os idiomas e scripts do mundo. Você pode acompanhar as atualizações no site unicode.org e acessar as codificações de cada caractere desse padrão na wikipedia ou por PDFs oficiais.\n",
        "\n",
        "Podemos imprimir um elemento da tabela Unicode em nosso notebook através da função chr, que é uma função que retorna uma string com o caractere especificado. Sua sintaxe de uso é dada da seguinte forma: chr(numero_do_caractere). Como exemplo, vamos imprimir o caractere “@” com chr(). Segundo a tabela, sabemos que o @ corresponde ao número 64, então reproduzimos:"
      ],
      "metadata": {
        "id": "8J8sq8DT_W3v"
      }
    },
    {
      "cell_type": "code",
      "source": [
        "chr(64)"
      ],
      "metadata": {
        "colab": {
          "base_uri": "https://localhost:8080/",
          "height": 35
        },
        "id": "oUeTAaz8_c9X",
        "outputId": "c2d8184a-e1fd-4532-bdac-36dc6273742e"
      },
      "execution_count": null,
      "outputs": [
        {
          "output_type": "execute_result",
          "data": {
            "text/plain": [
              "'@'"
            ],
            "application/vnd.google.colaboratory.intrinsic+json": {
              "type": "string"
            }
          },
          "metadata": {},
          "execution_count": 38
        }
      ]
    },
    {
      "cell_type": "code",
      "source": [
        "chr(79) + chr(108) + chr(225)"
      ],
      "metadata": {
        "colab": {
          "base_uri": "https://localhost:8080/",
          "height": 35
        },
        "id": "o9wRxup__htv",
        "outputId": "4b6ec4c2-2837-4487-f476-6e1fbe9f8132"
      },
      "execution_count": null,
      "outputs": [
        {
          "output_type": "execute_result",
          "data": {
            "text/plain": [
              "'Olá'"
            ],
            "application/vnd.google.colaboratory.intrinsic+json": {
              "type": "string"
            }
          },
          "metadata": {},
          "execution_count": 39
        }
      ]
    },
    {
      "cell_type": "markdown",
      "source": [
        "## Coletando dados\n",
        "\n",
        "Em algumas aplicações precisamos coletar valores da pessoa usuária do nosso projeto. Em python conseguimos coletar dados de usuário através do comando [`input()`](https://docs.python.org/3/library/functions.html#input).\n",
        "\n",
        "Para fazer essa coleta podemos atribuir essa função à uma variável."
      ],
      "metadata": {
        "id": "0h9Fh5G9kHCa"
      }
    },
    {
      "cell_type": "code",
      "source": [
        "nome = input(\"Escreva seu nome: \")"
      ],
      "metadata": {
        "id": "iEJyxhIj41id",
        "colab": {
          "base_uri": "https://localhost:8080/"
        },
        "outputId": "ee90bcf9-a45b-4f98-845e-5a0cd26443d1"
      },
      "execution_count": null,
      "outputs": [
        {
          "name": "stdout",
          "output_type": "stream",
          "text": [
            "Escreva seu nome: Jorge\n"
          ]
        }
      ]
    },
    {
      "cell_type": "code",
      "source": [
        "nome"
      ],
      "metadata": {
        "id": "MoMXzZkC41Ze",
        "colab": {
          "base_uri": "https://localhost:8080/",
          "height": 35
        },
        "outputId": "33fd5387-dbad-4e0e-8e49-45c4f05d8aee"
      },
      "execution_count": null,
      "outputs": [
        {
          "output_type": "execute_result",
          "data": {
            "text/plain": [
              "'Jorge'"
            ],
            "application/vnd.google.colaboratory.intrinsic+json": {
              "type": "string"
            }
          },
          "metadata": {},
          "execution_count": 42
        }
      ]
    },
    {
      "cell_type": "markdown",
      "source": [
        "O retorno desse comando sempre será uma *string*. Isso quer dizer que mesmo que façamos uma coleta de algo que deva ser numérico, ele será uma string.\n",
        "\n",
        "Então, será preciso **converter o resultado caso não seja desejável obter uma string**."
      ],
      "metadata": {
        "id": "7z7hcLCk_aCY"
      }
    },
    {
      "cell_type": "markdown",
      "source": [
        "Existem funções para conversão de valores:\n",
        "\n",
        "- Inteiros: [`int(dado_para_conversao)`](https://docs.python.org/3/library/functions.html#int)\n",
        "- Float: [`float(dado_para_conversao)`](https://docs.python.org/3/library/functions.html#float)\n",
        "- String: [`str(dado_para_conversao)`](https://docs.python.org/3/library/functions.html#func-str)\n",
        "- Booleano: [`bool(dado_para_conversao)`](https://docs.python.org/3/library/functions.html#bool)"
      ],
      "metadata": {
        "id": "TOlegATj1Jfp"
      }
    },
    {
      "cell_type": "code",
      "source": [
        "ano_entrada = input('Escreva o ano de ingresso do(a) estudante: ')"
      ],
      "metadata": {
        "id": "MQRu7y9646S9",
        "colab": {
          "base_uri": "https://localhost:8080/"
        },
        "outputId": "44776307-af81-4c5d-e410-1f55d536bedb"
      },
      "execution_count": null,
      "outputs": [
        {
          "name": "stdout",
          "output_type": "stream",
          "text": [
            "Escreva o ano de ingresso do(a) estudante: 2025\n"
          ]
        }
      ]
    },
    {
      "cell_type": "code",
      "source": [
        "type(ano_entrada)"
      ],
      "metadata": {
        "id": "FwezgXQA48VF",
        "colab": {
          "base_uri": "https://localhost:8080/"
        },
        "outputId": "7dd9f183-d03c-4bbb-803f-2e923b3cab0d"
      },
      "execution_count": null,
      "outputs": [
        {
          "output_type": "execute_result",
          "data": {
            "text/plain": [
              "str"
            ]
          },
          "metadata": {},
          "execution_count": 44
        }
      ]
    },
    {
      "cell_type": "code",
      "source": [
        "ano_entrada = int(input(\"Escreva o ano de ingresso do(a) estudante: \"))"
      ],
      "metadata": {
        "id": "bbRqzmOJ49Q1",
        "colab": {
          "base_uri": "https://localhost:8080/"
        },
        "outputId": "aa7703a8-68ed-40f9-e38f-a08db5f8dc64"
      },
      "execution_count": null,
      "outputs": [
        {
          "name": "stdout",
          "output_type": "stream",
          "text": [
            "Escreva o ano de ingresso do(a) estudante: 2025\n"
          ]
        }
      ]
    },
    {
      "cell_type": "code",
      "source": [
        "type(ano_entrada)"
      ],
      "metadata": {
        "id": "nu5xycbG4-X1",
        "colab": {
          "base_uri": "https://localhost:8080/"
        },
        "outputId": "73c8f654-7f88-4045-d91f-55e7fa9a7d9b"
      },
      "execution_count": null,
      "outputs": [
        {
          "output_type": "execute_result",
          "data": {
            "text/plain": [
              "int"
            ]
          },
          "metadata": {},
          "execution_count": 48
        }
      ]
    },
    {
      "cell_type": "markdown",
      "source": [
        "Buscaremos apresentar melhor agora o resultado que obtivemos da transformação. Nós conseguimos formatar e apresentar o nosso resultado misturando strings com valores não textuais.\n",
        "\n",
        "Para fazer isso usamos a estrutura de formatação `f` com strings."
      ],
      "metadata": {
        "id": "yNI2-XTbB3aS"
      }
    },
    {
      "cell_type": "code",
      "source": [
        "nota_entrada = float(input('Digite a nota do teste de ingresso: '))\n",
        "print(f\"O resultado do seu teste de ingresso foi {nota_entrada} para a prova de {ano_entrada}\")"
      ],
      "metadata": {
        "id": "b1eYnEX-4wXz",
        "colab": {
          "base_uri": "https://localhost:8080/"
        },
        "outputId": "270a0834-828a-4d7b-8e3c-8d6b4d594360"
      },
      "execution_count": null,
      "outputs": [
        {
          "output_type": "stream",
          "name": "stdout",
          "text": [
            "Digite a nota do teste de ingresso: 9.5\n",
            "O resultado do seu teste de ingresso foi 9.5 para a prova de 2025\n"
          ]
        }
      ]
    },
    {
      "cell_type": "markdown",
      "source": [
        "**Operador de formatação**\n",
        "\n",
        "Esse operador de formatação permite a inserção de variáveis em pontos específicos na string com o operador %.\n",
        "\n",
        "Esse operador funciona como um marcador, informando onde o valor da variável vai ser exposto na string.\n",
        "\n",
        "O % precisa ser acompanhado de uma palavra-chave para cada tipo de variável que se deseja adicionar. Seguindo a tabela abaixo:\n",
        "\n",
        "Tipo de variável | Palavra-chave\n",
        "-- | --\n",
        "string |\t%s\n",
        "inteiro |\t%d\n",
        "float | %f\n",
        "caractere | %c\n",
        "\n",
        "Desse modo, para inserirmos uma variável, podemos adicionar o operador pela string no ponto desejado.\n",
        "\n",
        "Após o fim da string, adicionamos novamente o %, mas agora especificando a variável entre parênteses. Podemos observar essa estrutura no exemplo abaixo:"
      ],
      "metadata": {
        "id": "MvknEYbuD8Ce"
      }
    },
    {
      "cell_type": "code",
      "source": [
        "nome_aluno = 'Fabricio Daniel'\n",
        "print('Nome do aluno: %s' %(nome_aluno))"
      ],
      "metadata": {
        "colab": {
          "base_uri": "https://localhost:8080/"
        },
        "id": "Czf_L1WpEUYe",
        "outputId": "f6c49200-03ad-4c13-a960-43deeba55e74"
      },
      "execution_count": null,
      "outputs": [
        {
          "output_type": "stream",
          "name": "stdout",
          "text": [
            "Nome do aluno: Fabricio Daniel\n"
          ]
        }
      ]
    },
    {
      "cell_type": "code",
      "source": [
        "# Caso tenha mais de uma variável, devemos ordená-las conforme seu surgimento no texto e separá-las por vírgula.\n",
        "\n",
        "nome_aluno = 'Fabricio Daniel'\n",
        "idade_aluno = 15\n",
        "media_aluno = 8.45\n",
        "\n",
        "print('Nome do aluno é %s, ele tem %d anos e sua média é %f.' %(nome_aluno, idade_aluno, media_aluno))"
      ],
      "metadata": {
        "colab": {
          "base_uri": "https://localhost:8080/"
        },
        "id": "IEgKA65pEc7X",
        "outputId": "385fae82-c4af-47d2-d32c-744a52d7f0d6"
      },
      "execution_count": null,
      "outputs": [
        {
          "output_type": "stream",
          "name": "stdout",
          "text": [
            "Nome do aluno é Fabricio Daniel, ele tem 15 anos e sua média é 8.450000.\n"
          ]
        }
      ]
    },
    {
      "cell_type": "markdown",
      "source": [
        "Quando trabalhamos com pontos flutuantes (float), podemos determinar a quantidade de casas decimais após a vírgula usando a sintaxe %.xf, na qual x é o número de casas desejadas.\n",
        "\n",
        "Utilizando as mesmas variáveis do exemplo anterior, o código com %.xf fica da seguinte maneira:\n",
        "\n"
      ],
      "metadata": {
        "id": "U-wHvJNvEq8X"
      }
    },
    {
      "cell_type": "code",
      "source": [
        "print('Nome do aluno é %s, ele tem %d anos e sua média é %.2f.' %(nome_aluno, idade_aluno, media_aluno))"
      ],
      "metadata": {
        "colab": {
          "base_uri": "https://localhost:8080/"
        },
        "id": "DM82e8gAEsh_",
        "outputId": "86e38c19-c534-4ebd-ce14-cb587d471068"
      },
      "execution_count": null,
      "outputs": [
        {
          "output_type": "stream",
          "name": "stdout",
          "text": [
            "Nome do aluno é Fabricio Daniel, ele tem 15 anos e sua média é 8.45.\n"
          ]
        }
      ]
    },
    {
      "cell_type": "markdown",
      "source": [
        "Uma observação: os operadores de formatação de strings com % não funcionam diretamente com valores booleanos.\n",
        "\n",
        "Uma maneira de lidar com isso é convertendo o valor booleano para uma string antes de usá-lo na formatação com a função str(). Por exemplo:"
      ],
      "metadata": {
        "id": "piZAqUu-Eyid"
      }
    },
    {
      "cell_type": "code",
      "source": [
        "x = True\n",
        "print(\"Valor de x: %s\" % str(x))"
      ],
      "metadata": {
        "colab": {
          "base_uri": "https://localhost:8080/"
        },
        "id": "CCjF08WeE1_4",
        "outputId": "d8a11e64-6ec0-4fe1-d27b-59a6781d6456"
      },
      "execution_count": null,
      "outputs": [
        {
          "output_type": "stream",
          "name": "stdout",
          "text": [
            "Valor de x: True\n"
          ]
        }
      ]
    },
    {
      "cell_type": "markdown",
      "source": [
        "É possível também usar o método format() para fazer a formatação de strings.\n",
        "\n",
        "Ele é mais flexível e permite passar as variáveis diretamente dentro da string, sem a necessidade dos operadores %. Seus marcadores são apenas as {}.\n",
        "\n",
        "Note que, com o format, não temos o problema das casas decimais do ponto flutuante. Esse problema também não é presente no formato f-string.\n",
        "\n",
        "Em resumo, cada uma dessas formas tem suas vantagens e desvantagens. Indico utilizar a forma f-string, pois é mais legível e fácil de usar. Mesmo assim, cada pessoa desenvolvedora pode escolher a forma que achar mais apropriada.\n",
        "\n"
      ],
      "metadata": {
        "id": "cQcb8_G8FDR3"
      }
    },
    {
      "cell_type": "code",
      "source": [
        "nome_aluno = 'Fabricio Daniel'\n",
        "print('Nome do aluno: {}'.format(nome_aluno))\n",
        "\n",
        "# Do mesmo modo que é feito com o operador, conseguimos aplicar com mais variáveis:\n",
        "\n",
        "nome_aluno = 'Fabricio Daniel'\n",
        "idade_aluno = 15\n",
        "media_aluno = 8.45\n",
        "\n",
        "print('Nome do aluno é {}, ele tem {} anos e sua média é {}.' .format(nome_aluno, idade_aluno, media_aluno))"
      ],
      "metadata": {
        "colab": {
          "base_uri": "https://localhost:8080/"
        },
        "id": "Bk6BLxFqFGiP",
        "outputId": "a3dc4978-d241-466a-c30a-c4f397640622"
      },
      "execution_count": null,
      "outputs": [
        {
          "output_type": "stream",
          "name": "stdout",
          "text": [
            "Nome do aluno: Fabricio Daniel\n",
            "Nome do aluno é Fabricio Daniel, ele tem 15 anos e sua média é 8.45.\n"
          ]
        }
      ]
    },
    {
      "cell_type": "markdown",
      "source": [
        "**Caracteres especiais**\n",
        "\n",
        "Além da formatação de inserção de variáveis dentro de uma string, também existem os caracteres especiais. Eles são usados para representar ações especiais ou caracteres que não podem ser digitados diretamente, como o Enter e a tabulação. Vamos conhecer alguns deles? Busque reproduzir todos os exemplos e visualizar o resultado final."
      ],
      "metadata": {
        "id": "sgBLFXWZFWtA"
      }
    },
    {
      "cell_type": "code",
      "source": [
        "# \\n é o caractere de nova linha e é usado para pular uma linha no texto (função do Enter). Exemplo:\n",
        "print(\"Estudar é um esforço constante,\\nÉ como cultivar uma planta,\\nPrecisamos de dedicação e paciência,\\nPara ver o fruto amadurecer.\")"
      ],
      "metadata": {
        "colab": {
          "base_uri": "https://localhost:8080/"
        },
        "id": "p14eFs3uFc6m",
        "outputId": "b4e0b10e-edf8-46fc-d6da-d8e0b82e4afc"
      },
      "execution_count": null,
      "outputs": [
        {
          "output_type": "stream",
          "name": "stdout",
          "text": [
            "Estudar é um esforço constante,\n",
            "É como cultivar uma planta,\n",
            "Precisamos de dedicação e paciência,\n",
            "Para ver o fruto amadurecer.\n"
          ]
        }
      ]
    },
    {
      "cell_type": "code",
      "source": [
        "# \\t é o caractere de tabulação usado para adicionar um espaço de tabulação no texto. Exemplo:\n",
        "print('Quantidade\\tQualidade\\n5 amostras\\tAlta\\n3 amostras\\tBaixa')"
      ],
      "metadata": {
        "colab": {
          "base_uri": "https://localhost:8080/"
        },
        "id": "tY4A7yhpFdBH",
        "outputId": "295a051e-8813-4444-b744-cbe1539f3b57"
      },
      "execution_count": null,
      "outputs": [
        {
          "output_type": "stream",
          "name": "stdout",
          "text": [
            "Quantidade\tQualidade\n",
            "5 amostras\tAlta\n",
            "3 amostras\tBaixa\n"
          ]
        }
      ]
    },
    {
      "cell_type": "markdown",
      "source": [
        "\\\\ é usado para imprimir uma única barra invertida. Caso não seja usada a dupla barra invertida, o código poderá resultar em erro ou em um resultado inesperado, pois o Python considera a \\ um chamado para um caractere especial. Usamos esta sintaxe para garantir que não ocorram erros. Exemplo:"
      ],
      "metadata": {
        "id": "6UTzhgYtGB2P"
      }
    },
    {
      "cell_type": "code",
      "source": [
        "print(\"Caminho do arquivo: C:\\\\arquivos\\\\documento.csv\")"
      ],
      "metadata": {
        "colab": {
          "base_uri": "https://localhost:8080/"
        },
        "id": "g0cdJLvKFdHX",
        "outputId": "7710d89c-f612-449c-9abe-094a0e2fc4fa"
      },
      "execution_count": null,
      "outputs": [
        {
          "output_type": "stream",
          "name": "stdout",
          "text": [
            "Caminho do arquivo: C:\\arquivos\\documento.csv\n"
          ]
        }
      ]
    },
    {
      "cell_type": "markdown",
      "source": [
        "(\\\") é usado para imprimir aspas duplas quando estamos trabalhando com uma string criada a partir de aspas duplas \". Porém, isso não é necessário caso seja uma string criada por aspas simples '. Como exemplo, temos:"
      ],
      "metadata": {
        "id": "LSIRhcbJGIDX"
      }
    },
    {
      "cell_type": "code",
      "source": [
        "print(\"Ouvi uma vez \\\"Os frutos do conhecimento são os mais doces e duradouros de todos.\\\"\")"
      ],
      "metadata": {
        "colab": {
          "base_uri": "https://localhost:8080/"
        },
        "id": "h81Dk19eFdO_",
        "outputId": "77614f1f-1266-4dfa-f09e-b7fe59670613"
      },
      "execution_count": null,
      "outputs": [
        {
          "output_type": "stream",
          "name": "stdout",
          "text": [
            "Ouvi uma vez \"Os frutos do conhecimento são os mais doces e duradouros de todos.\"\n"
          ]
        }
      ]
    },
    {
      "cell_type": "markdown",
      "source": [
        "\\' é usado para imprimir aspas simples quando estamos trabalhando com uma string criada a partir de aspas simples '. Caso seja uma string criada por aspas duplas \", isso não é necessário. Exemplo:"
      ],
      "metadata": {
        "id": "-FUmSHD6Gapu"
      }
    },
    {
      "cell_type": "code",
      "source": [
        "print('Minha professora uma vez disse \\'Estudar é a chave do sucesso.\\' ')"
      ],
      "metadata": {
        "colab": {
          "base_uri": "https://localhost:8080/"
        },
        "id": "e0a_KK7rFdWQ",
        "outputId": "48a21eb2-1d52-497e-a220-76d0c4228e19"
      },
      "execution_count": null,
      "outputs": [
        {
          "output_type": "stream",
          "name": "stdout",
          "text": [
            "Minha professora uma vez disse 'Estudar é a chave do sucesso.' \n"
          ]
        }
      ]
    },
    {
      "cell_type": "markdown",
      "source": [
        "### Lista de desafios - Aula 02\n"
      ],
      "metadata": {
        "id": "r3RbGeoCGy5G"
      }
    },
    {
      "cell_type": "code",
      "source": [
        "# Coleta e amostragem de dados\n",
        "# 1 - Crie um programa que solicite à pessoa usuária digitar seu nome, e imprima “Olá, [nome]!”.\n",
        "nome_usuario = input(\"Digite seu nome: \")\n",
        "print(f\"Olá, {nome_usuario}!\")"
      ],
      "metadata": {
        "colab": {
          "base_uri": "https://localhost:8080/"
        },
        "id": "yZWYYbD0G0T3",
        "outputId": "036e14d1-cf4e-4130-da2c-9794175ddbde"
      },
      "execution_count": null,
      "outputs": [
        {
          "output_type": "stream",
          "name": "stdout",
          "text": [
            "Digite seu nome: Jorge e Matheus\n",
            "Olá, Jorge e Matheus!\n"
          ]
        }
      ]
    },
    {
      "cell_type": "code",
      "source": [
        "# 2 - Crie um programa que solicite à pessoa usuária digitar seu nome e idade, e imprima “Olá, [nome], você tem [idade] anos.”.\n",
        "nome_usuario = input(\"Digite seu nome: \")\n",
        "idade_usuario = input(\"Digite sua idade: \")\n",
        "print(f\"Olá, {nome_usuario}, você tem {idade_usuario} anos\")"
      ],
      "metadata": {
        "colab": {
          "base_uri": "https://localhost:8080/"
        },
        "id": "g4M5_Ih5Hate",
        "outputId": "f347fda4-538e-4fff-ef26-903d6ffd4c61"
      },
      "execution_count": null,
      "outputs": [
        {
          "output_type": "stream",
          "name": "stdout",
          "text": [
            "Digite seu nome: Fernando\n",
            "Digite sua idade: 19\n",
            "Olá, Fernando, você tem 19 anos\n"
          ]
        }
      ]
    },
    {
      "cell_type": "code",
      "source": [
        "# 3 - Crie um programa que solicite à pessoa usuária digitar seu nome, idade e altura em metros, e imprima “Olá, [nome], você tem [idade] anos e mede [altura] metros!”.\n",
        "nome = input(\"Digite seu nome: \")\n",
        "idade = input(\"Digite sua idade: \")\n",
        "altura = input(\"Digite sua altura: \")\n",
        "print(\"Olá, {}, você tem {} anos e mede {} metros\".format(nome, idade, altura))"
      ],
      "metadata": {
        "colab": {
          "base_uri": "https://localhost:8080/"
        },
        "id": "mzCHY_TyH6na",
        "outputId": "2f7a0a31-09a1-4993-8e33-296e8caeaacd"
      },
      "execution_count": null,
      "outputs": [
        {
          "output_type": "stream",
          "name": "stdout",
          "text": [
            "Digite seu nome: Bruno\n",
            "Digite sua idade: 26\n",
            "Digite sua altura: 1,85\n",
            "Olá, Bruno, você tem 26 anos e mede 1,85 metros\n"
          ]
        }
      ]
    },
    {
      "cell_type": "code",
      "source": [
        "# Calculadora com operadores\n",
        "# 1 - Crie um programa que solicite dois valores numéricos à pessoa usuária e imprima a soma dos dois valores.\n",
        "num_1 = int(input(\"Digite um número: \"))\n",
        "num_2 = int(input(\"Digite um segundo número: \"))\n",
        "soma = num_1 + num_2\n",
        "print(\"A soma dos valores resulta em {}\".format(soma))"
      ],
      "metadata": {
        "colab": {
          "base_uri": "https://localhost:8080/"
        },
        "id": "2A_2LfgVKyFW",
        "outputId": "66459548-ae4b-48a1-baa3-0e48419eedd8"
      },
      "execution_count": null,
      "outputs": [
        {
          "output_type": "stream",
          "name": "stdout",
          "text": [
            "Digite um número: 5\n",
            "Digite um segundo número: 6\n",
            "A somas dos valores resulta em 11\n"
          ]
        }
      ]
    },
    {
      "cell_type": "code",
      "source": [
        "# 2 - Crie um programa que solicite três valores numéricos à pessoa usuária e imprima a soma dos três valores.\n",
        "num_1 = int(input(\"Digite um número: \"))\n",
        "num_2 = int(input(\"Digite um segundo número: \"))\n",
        "num_3 = int(input(\"Digite um terceiro número: \"))\n",
        "soma = num_1 + num_2 + num_3\n",
        "print(\"A soma dos valores resulta em {}\".format(soma))\n"
      ],
      "metadata": {
        "colab": {
          "base_uri": "https://localhost:8080/"
        },
        "id": "YrHAEgPmLW4-",
        "outputId": "7878c950-1ebb-442a-ec1a-320a34132e48"
      },
      "execution_count": null,
      "outputs": [
        {
          "output_type": "stream",
          "name": "stdout",
          "text": [
            "Digite um número: 5\n",
            "Digite um segundo número: 1\n",
            "Digite um terceiro número: 505\n",
            "A soma dos valores resulta em 511\n"
          ]
        }
      ]
    },
    {
      "cell_type": "code",
      "source": [
        "# 3 - Crie um programa que solicite dois valores numéricos à pessoa usuária e imprima a subtração do primeiro pelo o segundo valor.\n",
        "num_1 = int(input(\"Digite um número: \"))\n",
        "num_2 = int(input(\"Digite um segundo número: \"))\n",
        "diferenca = num_1 - num_2\n",
        "print(\"A diferença dos valores resulta em {}\".format(diferenca))"
      ],
      "metadata": {
        "colab": {
          "base_uri": "https://localhost:8080/"
        },
        "id": "wMmefOMOLXO-",
        "outputId": "205b89e6-dc0e-43b6-e68e-3236e36c0594"
      },
      "execution_count": null,
      "outputs": [
        {
          "output_type": "stream",
          "name": "stdout",
          "text": [
            "Digite um número: 10\n",
            "Digite um segundo número: 11\n",
            "A diferença dos valores resulta em -1\n"
          ]
        }
      ]
    },
    {
      "cell_type": "code",
      "source": [
        "# 4 - Crie um programa que solicite dois valores numéricos à pessoa usuária e imprima a multiplicação dos dois valores.\n",
        "num_1 = int(input(\"Digite um número: \"))\n",
        "num_2 = int(input(\"Digite um segundo número: \"))\n",
        "produto = num_1 * num_2\n",
        "print(\"A diferença dos valores resulta em {}\".format(produto))"
      ],
      "metadata": {
        "colab": {
          "base_uri": "https://localhost:8080/"
        },
        "id": "xuBua8A_LXWG",
        "outputId": "7471dfdb-c5e5-4ee3-9bd0-0a8480a18a1f"
      },
      "execution_count": null,
      "outputs": [
        {
          "output_type": "stream",
          "name": "stdout",
          "text": [
            "Digite um número: 5\n",
            "Digite um segundo número: 25\n",
            "A diferença dos valores resulta em 125\n"
          ]
        }
      ]
    },
    {
      "cell_type": "code",
      "source": [
        "# 5 - Crie um programa que solicite dois valores numéricos, um numerador e um denominador, e realize a divisão entre os dois valores. Deixe claro que o valor do denominador não pode ser 0.\n",
        "num_1 = int(input(\"Digite um número: \"))\n",
        "num_2 = int(input(\"Digite um segundo número (não pode ser 0): \"))\n",
        "quociente = num_1 / num_2\n",
        "print(\"A diferença dos valores resulta em {}\".format(quociente))"
      ],
      "metadata": {
        "colab": {
          "base_uri": "https://localhost:8080/"
        },
        "id": "faZqXMjdLXdp",
        "outputId": "9f984a19-861c-492e-b01f-e8721b393ea1"
      },
      "execution_count": null,
      "outputs": [
        {
          "output_type": "stream",
          "name": "stdout",
          "text": [
            "Digite um número: 10\n",
            "Digite um segundo número (não pode ser 0): 100\n",
            "A diferença dos valores resulta em 0.1\n"
          ]
        }
      ]
    },
    {
      "cell_type": "code",
      "source": [
        "# 6 - Crie um programa que solicite dois valores numéricos, um operador e uma potência, e realize a exponenciação entre esses dois valores.\n",
        "num_1 = int(input(\"Digite um número: \"))\n",
        "num_2 = int(input(\"Digite um segundo número (não pode ser 0): \"))\n",
        "potencia = num_1 ** num_2\n",
        "print(\"A diferença dos valores resulta em {}\".format(potencia))"
      ],
      "metadata": {
        "colab": {
          "base_uri": "https://localhost:8080/"
        },
        "id": "nAGkc1uYLXkx",
        "outputId": "1a0f1a06-bcb3-45ec-ae71-5c98063d59b0"
      },
      "execution_count": null,
      "outputs": [
        {
          "output_type": "stream",
          "name": "stdout",
          "text": [
            "Digite um número: 10\n",
            "Digite um segundo número (não pode ser 0): 2\n",
            "A diferença dos valores resulta em 100\n"
          ]
        }
      ]
    },
    {
      "cell_type": "code",
      "source": [
        "# 7 - Crie um programa que solicite dois valores numéricos, um numerador e um denominador e realize a divisão inteira entre os dois valores. Deixe claro que o valor do denominador não pode ser 0.\n",
        "num_1 = int(input(\"Digite um número: \"))\n",
        "num_2 = int(input(\"Digite um segundo número (não pode ser 0): \"))\n",
        "quociente = num_1 // num_2\n",
        "print(\"A divisão dos valores resulta em {}\".format(quociente))"
      ],
      "metadata": {
        "colab": {
          "base_uri": "https://localhost:8080/"
        },
        "id": "uUkI9Kl5LXsm",
        "outputId": "f7e6604a-9b07-49f9-dccb-8c4f9dfd6caa"
      },
      "execution_count": null,
      "outputs": [
        {
          "output_type": "stream",
          "name": "stdout",
          "text": [
            "Digite um número: 10\n",
            "Digite um segundo número (não pode ser 0): 7\n",
            "A divisão dos valores resulta em 1\n"
          ]
        }
      ]
    },
    {
      "cell_type": "code",
      "source": [
        "# 8 - Crie um programa que solicite dois valores numéricos, um numerador e um denominador, e retorne o resto da divisão entre os dois valores. Deixe claro que o valor do denominador não pode ser 0.\n",
        "num_1 = int(input(\"Digite um número: \"))\n",
        "num_2 = int(input(\"Digite um segundo número (não pode ser 0): \"))\n",
        "quociente = num_1 % num_2\n",
        "print(\"A divisão dos valores resulta em {}\".format(quociente))"
      ],
      "metadata": {
        "colab": {
          "base_uri": "https://localhost:8080/"
        },
        "id": "LcgIaE9dLX03",
        "outputId": "41a760ee-d0fd-4e0c-c508-b613e9ca310d"
      },
      "execution_count": null,
      "outputs": [
        {
          "output_type": "stream",
          "name": "stdout",
          "text": [
            "Digite um número: 10\n",
            "Digite um segundo número (não pode ser 0): 7\n",
            "A divisão dos valores resulta em 3\n"
          ]
        }
      ]
    },
    {
      "cell_type": "code",
      "source": [
        "# 9 - Crie um código que solicita 3 notas de um estudante e imprima a média das notas.\n",
        "nota_1 = float(input(\"Digite a primeira nota: \"))\n",
        "nota_2 = float(input(\"Digite a segunda nota: \"))\n",
        "nota_3 = float(input(\"Digite a terceira nota: \"))\n",
        "media = (nota_1 + nota_2 + nota_3) / 3\n",
        "print(\"A média do aluno é {}\".format(media))"
      ],
      "metadata": {
        "colab": {
          "base_uri": "https://localhost:8080/"
        },
        "id": "a-NJ5sl5LX8v",
        "outputId": "3d589fb6-8129-4694-aaad-d457cd444d43"
      },
      "execution_count": null,
      "outputs": [
        {
          "output_type": "stream",
          "name": "stdout",
          "text": [
            "Digite a primeira nota: 10\n",
            "Digite a segunda nota: 9.4\n",
            "Digite a terceira nota: 3\n",
            "A média do aluno é 7.466666666666666\n"
          ]
        }
      ]
    },
    {
      "cell_type": "code",
      "source": [
        "# 10 - Crie um código que calcule e imprima a média ponderada dos números 5, 12, 20 e 15 com pesos respectivamente iguais a 1, 2, 3 e 4.\n",
        "# Números e seus respectivos pesos\n",
        "num1 = 5\n",
        "peso1 = 1\n",
        "\n",
        "num2 = 12\n",
        "peso2 = 2\n",
        "\n",
        "num3 = 20\n",
        "peso3 = 3\n",
        "\n",
        "num4 = 15\n",
        "peso4 = 4\n",
        "\n",
        "# Cálculo da média ponderada\n",
        "soma_ponderada = (num1 * peso1) + (num2 * peso2) + (num3 * peso3) + (num4 * peso4)\n",
        "soma_dos_pesos = peso1 + peso2 + peso3 + peso4\n",
        "media_ponderada = soma_ponderada / soma_dos_pesos\n",
        "\n",
        "# Impressão do resultado\n",
        "print(\"A média ponderada é:\", media_ponderada)\n"
      ],
      "metadata": {
        "colab": {
          "base_uri": "https://localhost:8080/"
        },
        "id": "qNLESblyLYGG",
        "outputId": "adc60a4d-8814-49b7-8cfd-6d92eb6b024b"
      },
      "execution_count": null,
      "outputs": [
        {
          "output_type": "stream",
          "name": "stdout",
          "text": [
            "A média ponderada é: 14.9\n"
          ]
        }
      ]
    },
    {
      "cell_type": "code",
      "source": [
        "# Editando textos\n",
        "# 1 - Crie uma variável chamada “frase” e atribua a ela uma string de sua escolha. Em seguida, imprima a frase na tela.\n",
        "frase = \"As vezes no silêncio da noite...\"\n",
        "print(frase)"
      ],
      "metadata": {
        "colab": {
          "base_uri": "https://localhost:8080/"
        },
        "id": "YLWBhwazLZO3",
        "outputId": "db741566-6158-4fb3-decf-5198c831960c"
      },
      "execution_count": null,
      "outputs": [
        {
          "output_type": "stream",
          "name": "stdout",
          "text": [
            "As vezes no silêncio da noite...\n"
          ]
        }
      ]
    },
    {
      "cell_type": "code",
      "source": [
        "# 2 - Crie um código que solicite uma frase e depois imprima a frase na tela.\n",
        "frase = input(\"Digite uma frase: \")\n",
        "print(frase)"
      ],
      "metadata": {
        "colab": {
          "base_uri": "https://localhost:8080/"
        },
        "id": "kKOgYREBLZVp",
        "outputId": "7a2118d4-f5bc-455e-ffad-79e4fd2bd2b9"
      },
      "execution_count": null,
      "outputs": [
        {
          "output_type": "stream",
          "name": "stdout",
          "text": [
            "Digite uma frase: Cafunga carequeinha\n",
            "Cafunga carequeinha\n"
          ]
        }
      ]
    },
    {
      "cell_type": "code",
      "source": [
        "# 3 - Crie um código que solicite uma frase à pessoa usuária e imprima a mesma frase digitada mas com todas as letras maiúsculas.\n",
        "frase = input(\"Digite uma frase: \")\n",
        "print(frase.upper())"
      ],
      "metadata": {
        "colab": {
          "base_uri": "https://localhost:8080/"
        },
        "id": "APikooHuLZdP",
        "outputId": "e9a8bbe3-2e6d-4b90-c883-c4c6a6db5be6"
      },
      "execution_count": null,
      "outputs": [
        {
          "output_type": "stream",
          "name": "stdout",
          "text": [
            "Digite uma frase: Bola\n",
            "BOLA\n"
          ]
        }
      ]
    },
    {
      "cell_type": "code",
      "source": [
        "# 4 - Crie um código que solicite uma frase à pessoa usuária e imprima a mesma frase digitada mas com todas as letras minúsculas.\n",
        "frase = input(\"Digite uma frase: \")\n",
        "print(frase.lower())"
      ],
      "metadata": {
        "colab": {
          "base_uri": "https://localhost:8080/"
        },
        "id": "A_ehSWx1LZlf",
        "outputId": "d2629f24-055d-45b3-b488-f7b646579956"
      },
      "execution_count": null,
      "outputs": [
        {
          "output_type": "stream",
          "name": "stdout",
          "text": [
            "Digite uma frase: BOLA\n",
            "bola\n"
          ]
        }
      ]
    },
    {
      "cell_type": "code",
      "source": [
        "# 5 - Crie uma variável chamada “frase” e atribua a ela uma string de sua escolha. Em seguida, imprima a frase sem espaços em branco no início e no fim.\n",
        "frase = input(\"Digite uma frase: \")\n",
        "print(frase.strip())"
      ],
      "metadata": {
        "colab": {
          "base_uri": "https://localhost:8080/"
        },
        "id": "QryMipxyLZtW",
        "outputId": "96a85db1-dba2-47dc-c156-8fe625398066"
      },
      "execution_count": null,
      "outputs": [
        {
          "output_type": "stream",
          "name": "stdout",
          "text": [
            "Digite uma frase:             Traix pra mim marquinn   \n",
            "Traix pra mim marquinn\n"
          ]
        }
      ]
    },
    {
      "cell_type": "code",
      "source": [
        "# 6 - Crie um código que solicite uma frase à pessoa usuária e imprima a mesma frase sem espaços em branco no início e no fim.\n",
        "frase = input(\"Digite uma frase: \")\n",
        "print(frase.strip())"
      ],
      "metadata": {
        "colab": {
          "base_uri": "https://localhost:8080/"
        },
        "id": "H5A4Za6GLZ2f",
        "outputId": "eee356c4-96fa-4555-de86-7596580a9bca"
      },
      "execution_count": null,
      "outputs": [
        {
          "output_type": "stream",
          "name": "stdout",
          "text": [
            "Digite uma frase:    bola de gato\n",
            "bola de gato\n"
          ]
        }
      ]
    },
    {
      "cell_type": "code",
      "source": [
        "# 7 - Crie um código que solicite uma frase à pessoa usuária e imprima a mesma frase sem espaços em branco no início e no fim e em letras minúsculas.\n",
        "frase = input(\"Digite uma frase: \")\n",
        "print(frase.strip().lower())"
      ],
      "metadata": {
        "colab": {
          "base_uri": "https://localhost:8080/"
        },
        "id": "3ef9djiSLZ-H",
        "outputId": "3f21cbba-b1c5-427e-a734-40f975b521ec"
      },
      "execution_count": null,
      "outputs": [
        {
          "output_type": "stream",
          "name": "stdout",
          "text": [
            "Digite uma frase: PEIXE QUE É BOM, NADA\n",
            "peixe que é bom, nada\n"
          ]
        }
      ]
    },
    {
      "cell_type": "code",
      "source": [
        "# 8 - Crie um código que solicite uma frase à pessoa usuária e imprima a mesma frase com todas as vogais “e” trocadas pela letra “f”.\n",
        "frase = input(\"Digite uma frase: \")\n",
        "print(frase.replace(\"e\",\"f\"))"
      ],
      "metadata": {
        "colab": {
          "base_uri": "https://localhost:8080/"
        },
        "id": "xqJtrMpeLaF2",
        "outputId": "a656e96d-9adf-4591-df19-19a7a1927aad"
      },
      "execution_count": null,
      "outputs": [
        {
          "output_type": "stream",
          "name": "stdout",
          "text": [
            "Digite uma frase: Elefantes entusiasmados!\n",
            "Elffantfs fntusiasmados!\n"
          ]
        }
      ]
    },
    {
      "cell_type": "code",
      "source": [
        "# 9 - Crie um código que solicite uma frase à pessoa usuária e imprima a mesma frase com todas as vogais “a” trocadas pela caractere “@”.\n",
        "frase = input(\"Digite uma frase: \")\n",
        "print(frase.replace(\"a\", \"@\"))"
      ],
      "metadata": {
        "colab": {
          "base_uri": "https://localhost:8080/"
        },
        "id": "cDB6j6tRLaN5",
        "outputId": "a03a7627-8c72-42a8-cbc2-06e432dcb5d6"
      },
      "execution_count": null,
      "outputs": [
        {
          "output_type": "stream",
          "name": "stdout",
          "text": [
            "Digite uma frase: Abacaxi\n",
            "Ab@c@xi\n"
          ]
        }
      ]
    },
    {
      "cell_type": "code",
      "source": [
        "# 10 - Crie um código que solicite uma frase à pessoa usuária e imprima a mesma frase com todas as consoantes “s” trocadas pelo caractere “$”.\n",
        "frase = input(\"Digite uma frase: \")\n",
        "print(frase.replace(\"s\", \"$\"))"
      ],
      "metadata": {
        "colab": {
          "base_uri": "https://localhost:8080/"
        },
        "id": "3Wh4nwzALaVW",
        "outputId": "36b48f16-84ce-4d6a-836d-96a73aff7f78"
      },
      "execution_count": null,
      "outputs": [
        {
          "output_type": "stream",
          "name": "stdout",
          "text": [
            "Digite uma frase: sos\n",
            "$o$\n"
          ]
        }
      ]
    },
    {
      "cell_type": "markdown",
      "source": [
        "# Estruturas condicionais"
      ],
      "metadata": {
        "id": "NwRaiHHHhhyl"
      }
    },
    {
      "cell_type": "markdown",
      "source": [
        "## `IF` e `ELSE`\n",
        "\n",
        "O `if` e `else` são duas estruturas condicionais. O `if` executará o bloco de comando caso a condição colocada for **verdadeira**. O `else` é um caso em que a condicional de `if` seja **falsa**."
      ],
      "metadata": {
        "id": "qXZqg9aYEhAh"
      }
    },
    {
      "cell_type": "markdown",
      "source": [
        "O `if` é uma palavra-chave em Python que significa \"se\". Ele é usado para formar uma estrutura condicional, que permite que você verifique se uma determinada condição é verdadeira ou falsa e, em seguida, execute um bloco de código específico dependendo do resultado da verificação. A sintaxe para usar o `if` é:\n",
        "\n",
        "\n",
        "\n",
        "```\n",
        "if condição:\n",
        "    # faça algo\n",
        "```\n",
        "\n"
      ],
      "metadata": {
        "id": "EIhlqHXd2Gil"
      }
    },
    {
      "cell_type": "code",
      "source": [
        "if 2 < 7:\n",
        "    print(\"Condição verdadeira\")"
      ],
      "metadata": {
        "id": "tKtzkTXW4j73",
        "colab": {
          "base_uri": "https://localhost:8080/"
        },
        "outputId": "b3672b3f-0102-4463-9db5-7587cddd253a"
      },
      "execution_count": null,
      "outputs": [
        {
          "output_type": "stream",
          "name": "stdout",
          "text": [
            "Condição verdadeira\n"
          ]
        }
      ]
    },
    {
      "cell_type": "markdown",
      "source": [
        "Já o `else` em Python é usada em conjunto com a palavra-chave `if` para formar uma estrutura condicional. A sintaxe para usar o `else` é:\n",
        "\n",
        "```\n",
        "if condição:\n",
        "  # código caso seja verdade\n",
        "else:\n",
        "  # código caso seja falso\n",
        "```\n",
        "\n",
        "O `else` é executado quando a condição verificada pelo `if` é avaliada como `False`."
      ],
      "metadata": {
        "id": "27RW2v_sIKct"
      }
    },
    {
      "cell_type": "markdown",
      "source": [
        "---\n",
        "**Situação:**\n",
        "\n",
        "Receberemos a média de estudantes e precisamos de um algoritmo que execute a análise e decida se esse estudante está **Aprovado** ou Reprovado, mostrando uma mensagem do resultado. Para ser aprovado, a média precisa ser igual ou superior à 6.0."
      ],
      "metadata": {
        "id": "BqORg85XX-Nl"
      }
    },
    {
      "cell_type": "code",
      "source": [
        "media = float(input(\"Digite a média: \"))\n",
        "if media >= 6.0:\n",
        "    print(\"Aprovado\")\n",
        "else:\n",
        "    print(\"Reprovado\")"
      ],
      "metadata": {
        "id": "yaR8bt1P4iCv",
        "colab": {
          "base_uri": "https://localhost:8080/"
        },
        "outputId": "e6f2a294-7858-4d62-b942-57a3a740197a"
      },
      "execution_count": null,
      "outputs": [
        {
          "output_type": "stream",
          "name": "stdout",
          "text": [
            "Digite a média: 7\n",
            "Aprovado\n"
          ]
        }
      ]
    },
    {
      "cell_type": "markdown",
      "source": [
        "Agora a nossa instituição de ensino lançou uma nota oficial que pessoas que tenham média entre 4.0 e 6.0 podem fazer os cursos de **Recuperação** nas férias para poder recuperar a nota.\n",
        "\n",
        "Então podemos agora fazer um conjunto de `if`s para que possamos estruturar essa nova condição."
      ],
      "metadata": {
        "id": "bD9O17HB6LUo"
      }
    },
    {
      "cell_type": "code",
      "source": [
        "media = float(input(\"Digite a média: \"))\n",
        "if media >= 6.0:\n",
        "    print(\"Aprovado!\")\n",
        "if 6.0 > media >= 4.0:\n",
        "    print(\"Recuperação!\")\n",
        "if media < 4.0:\n",
        "    print(\"Reprovado!\")"
      ],
      "metadata": {
        "id": "Rkde8bai4gvq",
        "colab": {
          "base_uri": "https://localhost:8080/"
        },
        "outputId": "45e1a026-34a1-4c68-af93-d556d757ea2c"
      },
      "execution_count": null,
      "outputs": [
        {
          "output_type": "stream",
          "name": "stdout",
          "text": [
            "Digite a média: 3\n",
            "Reprovado!\n"
          ]
        }
      ]
    },
    {
      "cell_type": "markdown",
      "source": [
        "Notemos que em casos com 3 situações como esse precisamos definir bem nossas condições. Pois foi feita uma construção com `else` no final, ele irá considerar apenas a alguma condicional para ser o caso **falso** podendo resultar em duas (ou mais) execuções.\n",
        "\n",
        "Por exemplo:"
      ],
      "metadata": {
        "id": "D5e2mByjvycO"
      }
    },
    {
      "cell_type": "code",
      "source": [
        "media = float(input('Digite a média: '))\n",
        "if media >= 6.0:\n",
        "    print(\"Aprovado!\")\n",
        "if 6.0 > media >= 4.0:\n",
        "    print(\"Recuperação!\")\n",
        "else:\n",
        "    print(\"Reprovado!\")"
      ],
      "metadata": {
        "id": "tKvjzq414fAN",
        "colab": {
          "base_uri": "https://localhost:8080/"
        },
        "outputId": "ae16a96e-8e8c-4f49-bfc9-eb01981e0eb5"
      },
      "execution_count": null,
      "outputs": [
        {
          "output_type": "stream",
          "name": "stdout",
          "text": [
            "Digite a média: 7\n",
            "Aprovado!\n",
            "Reprovado!\n"
          ]
        }
      ]
    },
    {
      "cell_type": "markdown",
      "source": [
        "## `ELIF`\n",
        "\n",
        "O `elif` é uma palavra-chave em Python que significa \"senão, se\" e pode ser considerado uma união do `else` com um `if`. Ela é usada em conjunto com a palavra-chave `if` para formar uma estrutura condicional encadeada.\n",
        "\n"
      ],
      "metadata": {
        "id": "04T5g-7h4zWx"
      }
    },
    {
      "cell_type": "markdown",
      "source": [
        "A sintaxe para usar o `elif` é:\n",
        "\n",
        "```\n",
        "if condição1:\n",
        "    # faça algo\n",
        "elif condição2:\n",
        "    # faça outra coisa\n",
        "elif condição3:\n",
        "    # faça mais alguma coisa\n",
        "else:\n",
        "    # faça algo diferente\n",
        "```\n",
        "\n",
        "O `elif` permite que você verifique várias condições de forma encadeada, economizando espaço em seu código. Se a primeira condição for avaliada como `False`, o interpretador Python avaliará a próxima condição no `elif`. Isso continuará até que uma condição seja avaliada como `True` ou até que o `else` seja atingido. Se nenhuma das condições forem avaliadas como `True`, a execução do código do `else` será iniciada."
      ],
      "metadata": {
        "id": "rNBHr5mm1Lm6"
      }
    },
    {
      "cell_type": "markdown",
      "source": [
        "Vamos usar o mesmo caso anterior:"
      ],
      "metadata": {
        "id": "MVoykFbB4bd4"
      }
    },
    {
      "cell_type": "code",
      "source": [
        "media = float(input('Digite a média: '))\n",
        "if media >= 6.0:\n",
        "    print(\"Aprovado!\")\n",
        "elif 6.0 > media >= 4.0:\n",
        "    print(\"Recuperação!\")\n",
        "else:\n",
        "    print(\"Reprovado!\")"
      ],
      "metadata": {
        "id": "UJCHKoX54dc2",
        "colab": {
          "base_uri": "https://localhost:8080/"
        },
        "outputId": "343d352c-bf2b-4bb7-ca98-a8d33c098bcb"
      },
      "execution_count": null,
      "outputs": [
        {
          "output_type": "stream",
          "name": "stdout",
          "text": [
            "Digite a média: 3\n",
            "Reprovado!\n"
          ]
        }
      ]
    },
    {
      "cell_type": "markdown",
      "source": [
        "## Operadores\n",
        "\n",
        "Durante a construção de comandos por vezes precisamos de uma elaboração maior de da expressão condicional, necessitando que alguns operadores lógicos estejam integrados."
      ],
      "metadata": {
        "id": "Tf1wSOem6iwZ"
      }
    },
    {
      "cell_type": "markdown",
      "source": [
        "### `AND`, `OR`, `NOT`\n",
        "\n",
        "Os operadores lógicos `and`, `or` e `not` são usados para combinar expressões lógicas em Python. Eles são usados frequentemente em conjunto com o `if` para criar estruturas condicionais mais complexas.\n"
      ],
      "metadata": {
        "id": "GFIZnRWXGPWO"
      }
    },
    {
      "cell_type": "markdown",
      "source": [
        "- `AND` é usado para verificar se duas condições são verdadeiras. A expressão lógica¹ `x and y` é avaliada como `True` apenas se **ambas as condições `x` e `y` forem verdadeiras**, e como `False` caso contrário.\n",
        "\n",
        "- `OR` é usado para verificar se pelo menos uma das condições é verdadeira. A expressão lógica `x or y` é avaliada como `True` **se pelo menos uma das condições `x` ou `y` for verdadeira**, e como `False` se ambas forem falsas.\n",
        "\n",
        "- `NOT` é usado para **negar uma condição**. A expressão lógica not x é avaliada como True se a condição x for falsa, e como False se a condição x for verdadeira.\n",
        "\n",
        "¹ Uma expressão lógica é uma declaração que pode ser avaliada como verdadeira ou falsa. Ela é composta por operandos lógicos² e operadores lógicos³, que são usados ​​para combinar várias expressões lógicas em uma única expressão.\n",
        "\n",
        "² Os operandos lógicos são os elementos que são comparados ou avaliados em uma expressão lógica. Eles são geralmente valores verdadeiros ou falsos, mas também podem ser expressões lógicas mais complexas. Em Python, os operandos lógicos são os valores `True` e `False`.\n",
        "\n",
        "³ Os operadores lógicos são os símbolos ou palavras-chave que são usados ​​para combinar várias expressões lógicas em uma única expressão. Em Python, os operadores lógicos são `and`, `or` e `not`, bem como as palavras-chave `if`, `elif` e `else`."
      ],
      "metadata": {
        "id": "Z_dgAoHXJbzB"
      }
    },
    {
      "cell_type": "code",
      "source": [
        "t1 = t2 = True\n",
        "f1 = f2 = False"
      ],
      "metadata": {
        "id": "Fs_qb0dLOXsj"
      },
      "execution_count": null,
      "outputs": []
    },
    {
      "cell_type": "code",
      "source": [
        "if t1 and t2:\n",
        "  print('expressão verdadeira')\n",
        "else:\n",
        "  print('expressão falsa')"
      ],
      "metadata": {
        "id": "kL4QVdlZ4O43",
        "colab": {
          "base_uri": "https://localhost:8080/"
        },
        "outputId": "b89208f9-672c-4187-f34d-773428d3a73c"
      },
      "execution_count": null,
      "outputs": [
        {
          "output_type": "stream",
          "name": "stdout",
          "text": [
            "expressão verdadeira\n"
          ]
        }
      ]
    },
    {
      "cell_type": "code",
      "source": [
        "if f1 or t2:\n",
        "  print('expressão verdadeira')\n",
        "else:\n",
        "  print('expressão falsa')"
      ],
      "metadata": {
        "id": "JmQYjvsz4Pw5",
        "colab": {
          "base_uri": "https://localhost:8080/"
        },
        "outputId": "e87bbc48-7240-4e35-af3b-982a596655af"
      },
      "execution_count": null,
      "outputs": [
        {
          "output_type": "stream",
          "name": "stdout",
          "text": [
            "expressão verdadeira\n"
          ]
        }
      ]
    },
    {
      "cell_type": "code",
      "source": [
        "if not t1:\n",
        "  print('expressão verdadeira')\n",
        "else:\n",
        "  print('expressão falsa')"
      ],
      "metadata": {
        "id": "WHfJ-ZLM4Q3k",
        "colab": {
          "base_uri": "https://localhost:8080/"
        },
        "outputId": "ec5ab040-b437-467f-9988-745f1cea8d02"
      },
      "execution_count": null,
      "outputs": [
        {
          "output_type": "stream",
          "name": "stdout",
          "text": [
            "expressão falsa\n"
          ]
        }
      ]
    },
    {
      "cell_type": "markdown",
      "source": [
        "### `IN`\n",
        "\n",
        "É usado para verificar se um elemento está presente em uma lista, tupla ou outra variável de conjunto. A expressão `x in y` é avaliada como `True` se o elemento `x` estiver presente na variável de conjunto `y`, e como `False` caso contrário."
      ],
      "metadata": {
        "id": "w7EXG1dhWtja"
      }
    },
    {
      "cell_type": "markdown",
      "source": [
        "Podemos verificar isso com variáveis de texto.\n",
        "\n",
        "---\n",
        "\n",
        "**Situação:**\n",
        "\n",
        "Na escola foi passada uma lista com nomes de estudantes que foram aprovados por média no semestre, mas é preciso verificar se alguns nomes estão nessa lista para verificar se os dados estão corretos.\n",
        "\n",
        "A lista distribuida pode ser observada abaixo:\n",
        "\n",
        "```\n",
        "lista = 'José da Silva, Maria Oliveira, Pedro Martins, Ana Souza, Carlos Rodrigues, Juliana Santos, Bruno Gomes, Beatriz Costa, Felipe Almeida, Mariana Fernandes, João Pinto, Luísa Nascimento, Gabriel Souza, Manuela Santos, Thiago Oliveira, Sofia Ferreira, Rafael Albuquerque, Isabella Gomes, Bruno Costa, Maria Martins, Rafaela Souza, Matheus Fernandes, Luísa Almeida, Beatriz Pinto, Mariana Rodrigues, Gabriel Nascimento, João Ferreira, Maria Albuquerque, Felipe Oliveira\n",
        "'\n",
        "```\n",
        "\n",
        "Os nomes que precisam ser verificados são os seguintes:\n",
        "\n",
        "```\n",
        "nome_1 = 'Mariana Rodrigues'\n",
        "nome_2 = 'Marcelo Nogueira'\n",
        "```"
      ],
      "metadata": {
        "id": "enJNp6JenQbq"
      }
    },
    {
      "cell_type": "code",
      "source": [
        "lista = 'José da Silva, Maria Oliveira, Pedro Martins, Ana Souza, Carlos Rodrigues, Juliana Santos, Bruno Gomes, Beatriz Costa, Felipe Almeida, Mariana Fernandes, João Pinto, Luísa Nascimento, Gabriel Souza, Manuela Santos, Thiago Oliveira, Sofia Ferreira, Rafael Albuquerque, Isabella Gomes, Bruno Costa, Maria Martins, Rafaela Souza, Matheus Fernandes, Luísa Almeida, Beatriz Pinto, Mariana Rodrigues, Gabriel Nascimento, João Ferreira, Maria Albuquerque, Felipe Oliveira'\n",
        "lista"
      ],
      "metadata": {
        "id": "kU25ABUQ5NBe",
        "colab": {
          "base_uri": "https://localhost:8080/",
          "height": 70
        },
        "outputId": "91ec18ee-ae59-4ab9-e456-fa7c5343dfd4"
      },
      "execution_count": null,
      "outputs": [
        {
          "output_type": "execute_result",
          "data": {
            "text/plain": [
              "'José da Silva, Maria Oliveira, Pedro Martins, Ana Souza, Carlos Rodrigues, Juliana Santos, Bruno Gomes, Beatriz Costa, Felipe Almeida, Mariana Fernandes, João Pinto, Luísa Nascimento, Gabriel Souza, Manuela Santos, Thiago Oliveira, Sofia Ferreira, Rafael Albuquerque, Isabella Gomes, Bruno Costa, Maria Martins, Rafaela Souza, Matheus Fernandes, Luísa Almeida, Beatriz Pinto, Mariana Rodrigues, Gabriel Nascimento, João Ferreira, Maria Albuquerque, Felipe Oliveira'"
            ],
            "application/vnd.google.colaboratory.intrinsic+json": {
              "type": "string"
            }
          },
          "metadata": {},
          "execution_count": 20
        }
      ]
    },
    {
      "cell_type": "code",
      "source": [
        "nome_1 = 'Mariana Rodrigues'\n",
        "nome_2 = 'Marcelo Nogueira'"
      ],
      "metadata": {
        "id": "GY82qLpivC6Y"
      },
      "execution_count": null,
      "outputs": []
    },
    {
      "cell_type": "code",
      "source": [
        "if nome_1 in lista:\n",
        "    print(f'{nome_1} está na lista!')\n",
        "else:\n",
        "    print(f'{nome_1} não está na lista!')"
      ],
      "metadata": {
        "id": "ipyXfbpb37b0",
        "colab": {
          "base_uri": "https://localhost:8080/"
        },
        "outputId": "4f321dbc-ec40-4e0b-ea76-2bad0f9a072d"
      },
      "execution_count": null,
      "outputs": [
        {
          "output_type": "stream",
          "name": "stdout",
          "text": [
            "Mariana Rodrigues está na lista!\n"
          ]
        }
      ]
    },
    {
      "cell_type": "code",
      "source": [
        "if nome_2 in lista:\n",
        "    print(f'{nome_2} está na lista!')\n",
        "else:\n",
        "    print(f'{nome_2} não está na lista!')"
      ],
      "metadata": {
        "id": "KfXxC9A537RP",
        "colab": {
          "base_uri": "https://localhost:8080/"
        },
        "outputId": "7ea030bf-8037-4cdc-a36f-d8c685631f66"
      },
      "execution_count": null,
      "outputs": [
        {
          "output_type": "stream",
          "name": "stdout",
          "text": [
            "Marcelo Nogueira não está na lista!\n"
          ]
        }
      ]
    },
    {
      "cell_type": "markdown",
      "source": [
        "### Lista de desafios - Aula 03"
      ],
      "metadata": {
        "id": "PyA2nesURR-A"
      }
    },
    {
      "cell_type": "code",
      "source": [
        "# 1) Escreva um programa que peça à pessoa usuária para fornecer dois números e exibir o número maior.\n",
        "num_1 = float(input(\"Insira um número: \"))\n",
        "num_2 = float(input(\"Insira um outro número: \"))\n",
        "if num_1 > num_2:\n",
        "    print(f\"O número {num_1} é maior que {num_2}\")\n",
        "else:\n",
        "    print(f\"O número {num_1} é menor que {num_2}\")"
      ],
      "metadata": {
        "colab": {
          "base_uri": "https://localhost:8080/"
        },
        "id": "Di0CNaEkRYT3",
        "outputId": "d73e0adb-f661-4959-84ba-c229062ea825"
      },
      "execution_count": null,
      "outputs": [
        {
          "output_type": "stream",
          "name": "stdout",
          "text": [
            "Insira um número: 10\n",
            "Insira um outro número: 11\n",
            "O número 10.0 é menor que 11.0\n"
          ]
        }
      ]
    },
    {
      "cell_type": "code",
      "source": [
        "# 2) Escreva um programa que solicite o percentual de crescimento de produção de uma empresa e informe se houve um crescimento\n",
        "# (porcentagem positiva) ou decrescimento (porcentagem negativa).\n",
        "percentual = float(input(\"Informe o percentual de crescimento da produção: \"))\n",
        "\n",
        "if percentual > 0:\n",
        "    print(f\"Crescimento de {percentual}% na produção.\")\n",
        "elif percentual < 0:\n",
        "    print(f\"Decrescimento de {abs(percentual)}% na produção.\")\n",
        "else:\n",
        "    print(\"Não houve variação na produção.\")\n"
      ],
      "metadata": {
        "colab": {
          "base_uri": "https://localhost:8080/"
        },
        "id": "MEAXH4_URb53",
        "outputId": "70c57d27-42c3-4bd0-a333-2a48159773f5"
      },
      "execution_count": null,
      "outputs": [
        {
          "output_type": "stream",
          "name": "stdout",
          "text": [
            "Informe o percentual de crescimento da produção: 5\n",
            "Crescimento de 5.0% na produção.\n"
          ]
        }
      ]
    },
    {
      "cell_type": "code",
      "source": [
        "# 3) Escreva um programa que determine se uma letra fornecida pela pessoa usuária é uma vogal ou consoante.\n",
        "letra = input(\"Insira uma letra: \").upper()\n",
        "vogais = [\"A\", \"E\", \"I\", \"O\", \"U\"]\n",
        "if letra in vogais:\n",
        "    print(f\"A letra {letra} é uma vogal!\")\n",
        "else:\n",
        "    print(f\"A letra {letra} não é uma vogal!\")"
      ],
      "metadata": {
        "colab": {
          "base_uri": "https://localhost:8080/"
        },
        "id": "2739lMzPRcBP",
        "outputId": "f00c6ddf-2a73-43d0-9039-385bae2672d3"
      },
      "execution_count": null,
      "outputs": [
        {
          "output_type": "stream",
          "name": "stdout",
          "text": [
            "Insira uma letra: b\n",
            "A letra B não é uma vogal!\n"
          ]
        }
      ]
    },
    {
      "cell_type": "code",
      "source": [
        "# 4) Escreva um programa que leia valores médios de preços de um modelo de carro por 3 anos consecutivos e exiba o valor mais alto e mais baixo entre esses três anos.\n",
        "print(\"Informe os preços médios do carro nos últimos 3 anos:\")\n",
        "\n",
        "preco1 = float(input(\"Ano 1: R$ \"))\n",
        "preco2 = float(input(\"Ano 2: R$ \"))\n",
        "preco3 = float(input(\"Ano 3: R$ \"))\n",
        "\n",
        "# Descobrir maior e menor valor\n",
        "maior_preco = max(preco1, preco2, preco3)\n",
        "menor_preco = min(preco1, preco2, preco3)\n",
        "\n",
        "# Exibir resultados\n",
        "print(f\"\\nMaior valor registrado: R$ {maior_preco:.2f}\")\n",
        "print(f\"Menor valor registrado: R$ {menor_preco:.2f}\")\n"
      ],
      "metadata": {
        "colab": {
          "base_uri": "https://localhost:8080/"
        },
        "id": "tjfuUwR8RcM3",
        "outputId": "5c2c7a92-733c-42e2-a598-ee33756ad4cb"
      },
      "execution_count": null,
      "outputs": [
        {
          "output_type": "stream",
          "name": "stdout",
          "text": [
            "Informe os preços médios do carro nos últimos 3 anos:\n",
            "Ano 1: R$ 100\n",
            "Ano 2: R$ 50\n",
            "Ano 3: R$ 350\n",
            "\n",
            "Maior valor registrado: R$ 350.00\n",
            "Menor valor registrado: R$ 50.00\n"
          ]
        }
      ]
    },
    {
      "cell_type": "code",
      "source": [
        "# 5) Escreva um programa que pergunte sobre o preço de três produtos e indique qual é o produto mais barato para comprar.\n",
        "print(\"Informe os preços dos três produtos:\")\n",
        "\n",
        "produto1 = float(input(\"Preço do Produto 1: R$ \"))\n",
        "produto2 = float(input(\"Preço do Produto 2: R$ \"))\n",
        "produto3 = float(input(\"Preço do Produto 3: R$ \"))\n",
        "\n",
        "# Determinar o mais barato\n",
        "if produto1 < produto2 and produto1 < produto3:\n",
        "    mais_barato = \"Produto 1\"\n",
        "    preco = produto1\n",
        "elif produto2 < produto1 and produto2 < produto3:\n",
        "    mais_barato = \"Produto 2\"\n",
        "    preco = produto2\n",
        "else:\n",
        "    mais_barato = \"Produto 3\"\n",
        "    preco = produto3\n",
        "\n",
        "# Exibir resultado\n",
        "print(f\"\\nO {mais_barato} é o mais barato. Valor: R$ {preco:.2f}\")\n"
      ],
      "metadata": {
        "colab": {
          "base_uri": "https://localhost:8080/"
        },
        "id": "3B6wdb5XRcSe",
        "outputId": "159c046d-284a-4d7c-8cf0-18c4f4bdef64"
      },
      "execution_count": null,
      "outputs": [
        {
          "output_type": "stream",
          "name": "stdout",
          "text": [
            "Informe os preços dos três produtos:\n",
            "Preço do Produto 1: R$ 10\n",
            "Preço do Produto 2: R$ 50\n",
            "Preço do Produto 3: R$ 6\n",
            "\n",
            "O Produto 3 é o mais barato. Valor: R$ 6.00\n"
          ]
        }
      ]
    },
    {
      "cell_type": "code",
      "source": [
        "# 6) Escreva um programa que leia três números e os exiba em ordem decrescente.\n",
        "print(\"Digite três números para ordená-los em ordem decrescente:\")\n",
        "\n",
        "n1 = float(input(\"Número 1: \"))\n",
        "n2 = float(input(\"Número 2: \"))\n",
        "n3 = float(input(\"Número 3: \"))\n",
        "\n",
        "# Coloca os números em uma lista\n",
        "numeros = [n1, n2, n3]\n",
        "\n",
        "# Ordena a lista de forma decrescente\n",
        "numeros.sort(reverse=True)\n",
        "\n",
        "# Exibe o resultado\n",
        "print(\"\\nNúmeros em ordem decrescente:\")\n",
        "for num in numeros:\n",
        "    print(num)\n"
      ],
      "metadata": {
        "colab": {
          "base_uri": "https://localhost:8080/"
        },
        "id": "H8Gm3iBrRcYS",
        "outputId": "ffa58d42-cfa2-4edd-a59a-c1b4e4abf932"
      },
      "execution_count": null,
      "outputs": [
        {
          "output_type": "stream",
          "name": "stdout",
          "text": [
            "Digite três números para ordená-los em ordem decrescente:\n",
            "Número 1: 50\n",
            "Número 2: 1\n",
            "Número 3: -6\n",
            "\n",
            "Números em ordem decrescente:\n",
            "50.0\n",
            "1.0\n",
            "-6.0\n"
          ]
        }
      ]
    },
    {
      "cell_type": "code",
      "source": [
        "# 7) Escreva um programa que pergunte em qual turno a pessoa usuária estuda (\"manhã\", \"tarde\" ou \"noite\")\n",
        "# e exiba a mensagem \"Bom Dia!\", \"Boa Tarde!\", \"Boa Noite!\", ou \"Valor Inválido!\", conforme o caso.\n",
        "turno = input(\"Qual turno você estuda? (manhã, tarde ou noite): \").strip().lower()\n",
        "\n",
        "if turno == \"manhã\":\n",
        "    print(\"Bom Dia!\")\n",
        "elif turno == \"tarde\":\n",
        "    print(\"Boa Tarde!\")\n",
        "elif turno == \"noite\":\n",
        "    print(\"Boa Noite!\")\n",
        "else:\n",
        "    print(\"Valor Inválido!\")\n"
      ],
      "metadata": {
        "colab": {
          "base_uri": "https://localhost:8080/"
        },
        "id": "mYyS3gFSRcif",
        "outputId": "0a5ff9e7-d164-41e7-86fb-916f37052c12"
      },
      "execution_count": null,
      "outputs": [
        {
          "output_type": "stream",
          "name": "stdout",
          "text": [
            "Qual turno você estuda? (manhã, tarde ou noite): Noite\n",
            "Boa Noite!\n"
          ]
        }
      ]
    },
    {
      "cell_type": "code",
      "source": [
        "# 8) Escreva um programa que peça um número inteiro à pessoa usuária e determine se ele é par ou ímpar. Dica: Você pode utilizar o operador módulo %.\n",
        "num = int(input(\"Insira um número: \"))\n",
        "calculo = num % 2\n",
        "if calculo == 0:\n",
        "    print(f\"O número {num} é par!\")\n",
        "else:\n",
        "    print(f\"O número {num} é impar!\")"
      ],
      "metadata": {
        "colab": {
          "base_uri": "https://localhost:8080/"
        },
        "id": "VuGdg4VhRcoG",
        "outputId": "c70a7d07-b610-4204-d50a-4b6266fb1724"
      },
      "execution_count": null,
      "outputs": [
        {
          "output_type": "stream",
          "name": "stdout",
          "text": [
            "Insira um número: 0\n",
            "O número 0 é par!\n"
          ]
        }
      ]
    },
    {
      "cell_type": "code",
      "source": [
        "# 9) Escreva um programa que peça um número à pessoa usuária e informe se ele é inteiro ou decimal.\n",
        "num = float(input(\"Digite um número: \"))\n",
        "\n",
        "if num.is_integer():\n",
        "    print(\"O número é inteiro.\")\n",
        "else:\n",
        "    print(\"O número é decimal.\")\n"
      ],
      "metadata": {
        "colab": {
          "base_uri": "https://localhost:8080/"
        },
        "id": "uT1Fms8IRct3",
        "outputId": "c5eaf86b-962c-4de3-9735-f1407c6b4e90"
      },
      "execution_count": null,
      "outputs": [
        {
          "output_type": "stream",
          "name": "stdout",
          "text": [
            "Digite um número: 10\n",
            "O número é inteiro.\n"
          ]
        }
      ]
    },
    {
      "cell_type": "code",
      "source": [
        "# 10) Um programa deve ser escrito para ler dois números e, em seguida, perguntar à pessoa usuária qual operação ele deseja realizar.\n",
        "# O resultado da operação deve incluir informações sobre o número - se é par ou ímpar, positivo ou negativo e inteiro ou decimal.\n",
        "\n",
        "# Leitura dos números\n",
        "num1 = float(input(\"Digite o primeiro número: \"))\n",
        "num2 = float(input(\"Digite o segundo número: \"))\n",
        "\n",
        "# Escolha da operação\n",
        "operacao = input(\"Escolha a operação (+, -, *, /): \")\n",
        "\n",
        "# Cálculo do resultado\n",
        "if operacao == \"+\":\n",
        "    resultado = num1 + num2\n",
        "elif operacao == \"-\":\n",
        "    resultado = num1 - num2\n",
        "elif operacao == \"*\":\n",
        "    resultado = num1 * num2\n",
        "elif operacao == \"/\":\n",
        "    if num2 == 0:\n",
        "        print(\"Erro: divisão por zero.\")\n",
        "        exit()\n",
        "    resultado = num1 / num2\n",
        "else:\n",
        "    print(\"Operação inválida.\")\n",
        "    exit()\n",
        "\n",
        "# Análise do resultado\n",
        "print(f\"\\nResultado da operação: {resultado}\")\n",
        "\n",
        "# Positivo ou Negativo\n",
        "if resultado > 0:\n",
        "    print(\"O número é positivo.\")\n",
        "elif resultado < 0:\n",
        "    print(\"O número é negativo.\")\n",
        "else:\n",
        "    print(\"O número é zero (neutro).\")\n",
        "\n",
        "# Inteiro ou Decimal\n",
        "if resultado.is_integer():\n",
        "    print(\"É um número inteiro.\")\n",
        "    # Par ou Ímpar (só faz sentido se for inteiro)\n",
        "    if int(resultado) % 2 == 0:\n",
        "        print(\"É um número par.\")\n",
        "    else:\n",
        "        print(\"É um número ímpar.\")\n",
        "else:\n",
        "    print(\"É um número decimal.\")\n"
      ],
      "metadata": {
        "colab": {
          "base_uri": "https://localhost:8080/"
        },
        "id": "FjJg9ugVRc3y",
        "outputId": "5c23dde2-e624-4260-8447-43f4c74ee7a3"
      },
      "execution_count": null,
      "outputs": [
        {
          "output_type": "stream",
          "name": "stdout",
          "text": [
            "Digite o primeiro número: 10\n",
            "Digite o segundo número: 5\n",
            "Escolha a operação (+, -, *, /): +\n",
            "\n",
            "Resultado da operação: 15.0\n",
            "O número é positivo.\n",
            "É um número inteiro.\n",
            "É um número ímpar.\n"
          ]
        }
      ]
    },
    {
      "cell_type": "code",
      "source": [
        "# 11) Escreva um programa que peça à pessoa usuária três números que representam os lados de um triângulo.\n",
        "# O programa deve informar se os valores podem ser utilizados para formar um triângulo e, caso afirmativo, se ele é equilátero, isósceles ou escaleno.\n",
        "# Tenha em mente algumas dicas:\n",
        "\n",
        "# Três lados formam um triângulo quando a soma de quaisquer dois lados for maior que o terceiro;\n",
        "# Triângulo Equilátero: três lados iguais;\n",
        "# Triângulo Isósceles: quaisquer dois lados iguais;\n",
        "# Triângulo Escaleno: três lados diferentes.\n",
        "\n",
        "print(\"Informe os três lados do triângulo:\")\n",
        "lado1 = float(input(\"Lado 1: \"))\n",
        "lado2 = float(input(\"Lado 2: \"))\n",
        "lado3 = float(input(\"Lado 3: \"))\n",
        "\n",
        "# Verifica se os lados formam um triângulo\n",
        "if (lado1 + lado2 > lado3) and (lado1 + lado3 > lado2) and (lado2 + lado3 > lado1):\n",
        "    print(\"Os lados podem formar um triângulo.\")\n",
        "\n",
        "    # Classificação do triângulo\n",
        "    if lado1 == lado2 == lado3:\n",
        "        print(\"Tipo: Triângulo Equilátero.\")\n",
        "    elif lado1 == lado2 or lado1 == lado3 or lado2 == lado3:\n",
        "        print(\"Tipo: Triângulo Isósceles.\")\n",
        "    else:\n",
        "        print(\"Tipo: Triângulo Escaleno.\")\n",
        "else:\n",
        "    print(\"Os valores informados **não podem formar** um triângulo.\")\n"
      ],
      "metadata": {
        "colab": {
          "base_uri": "https://localhost:8080/"
        },
        "id": "3zVUNUw0Rc9A",
        "outputId": "bb31895a-7ddd-4e95-d0c7-ee39a807932d"
      },
      "execution_count": null,
      "outputs": [
        {
          "output_type": "stream",
          "name": "stdout",
          "text": [
            "Informe os três lados do triângulo:\n",
            "Lado 1: 3\n",
            "Lado 2: 4\n",
            "Lado 3: 5\n",
            "Os lados podem formar um triângulo.\n",
            "Tipo: Triângulo Escaleno.\n"
          ]
        }
      ]
    },
    {
      "cell_type": "code",
      "source": [
        "# 12) Um estabelecimento está vendendo combustíveis com descontos variados.\n",
        "\n",
        "# Para o etanol, se a quantidade comprada for até 15 litros, o desconto será de 2% por litro. Caso contrário, será de 4% por litro.\n",
        "# Para o diesel, se a quantidade comprada for até 15 litros, o desconto será de 3% por litro. Caso contrário, será de 5% por litro.\n",
        "\n",
        "# O preço do litro de diesel é R$ 2,00 e o preço do litro de etanol é R$ 1,70.\n",
        "\n",
        "# Escreva um programa que leia a quantidade de litros vendidos e o tipo de combustível (E para etanol e D para diesel) e calcule o valor a ser pago pelo cliente.\n",
        "\n",
        "# Tenha em mente algumas dicas:\n",
        "# O do valor do desconto será a multiplicação entre preço do litro, quantidade de litros e o valor do desconto.\n",
        "# O valor a ser pago por um cliente será o resultado da multiplicação do preço do litro pela quantidade de litros menos o valor de desconto resultante do cálculo.\n",
        "\n",
        "# 1 - Identificar o Combustível usado e quantos litros foram comprados.\n",
        "combustivel = input(\"Insira D para Diesel ou E para Etanol: \").upper()\n",
        "qtd_litros = float(input(\"Insira quantos litros foram consumidos: \"))\n",
        "\n",
        "# Lógica de desconto.\n",
        "if combustivel == \"E\":\n",
        "    preco = 1.70\n",
        "    if qtd_litros <= 15:\n",
        "        desconto = 0.02\n",
        "    else:\n",
        "        desconto = 0.04\n",
        "elif combustivel == \"D\":\n",
        "    preco = 2.00\n",
        "    if qtd_litros <= 15:\n",
        "        desconto = 0.03\n",
        "    else:\n",
        "        desconto = 0.05\n",
        "else:\n",
        "    print(\"Tipo de combustível inválido. Use 'D' para Diesel ou 'E' para Etanol.\")\n",
        "    exit()\n",
        "\n",
        "# Cálculo do valor pago.\n",
        "valor_total = preco * qtd_litros\n",
        "valor_desconto = valor_total * desconto\n",
        "valor_final = valor_total - valor_desconto\n",
        "\n",
        "# Resultado formatado\n",
        "print(f\"\\n--- RESUMO DA VENDA ---\")\n",
        "print(f\"Combustível: {'Etanol' if combustivel == 'E' else 'Diesel'}\")\n",
        "print(f\"Quantidade: {qtd_litros} litros\")\n",
        "print(f\"Preço sem desconto: R${valor_total:.2f}\")\n",
        "print(f\"Desconto aplicado: R${valor_desconto:.2f}\")\n",
        "print(f\"Valor final a ser pago: R${valor_final:.2f}\")\n"
      ],
      "metadata": {
        "colab": {
          "base_uri": "https://localhost:8080/"
        },
        "id": "js20rsGBRdCu",
        "outputId": "2fa05a0c-96fb-4d1e-8ee5-5ede3c8ef9fd"
      },
      "execution_count": null,
      "outputs": [
        {
          "output_type": "stream",
          "name": "stdout",
          "text": [
            "Insira D para Diesel ou E para Etanol: E\n",
            "Insira quantos litros foram consumidos: 60\n",
            "\n",
            "--- RESUMO DA VENDA ---\n",
            "Combustível: Etanol\n",
            "Quantidade: 60.0 litros\n",
            "Preço sem desconto: R$102.00\n",
            "Desconto aplicado: R$4.08\n",
            "Valor final a ser pago: R$97.92\n"
          ]
        }
      ]
    },
    {
      "cell_type": "code",
      "source": [
        "# 13 - Em uma empresa de venda de imóveis você precisa criar um código que analise os dados de vendas anuais para ajudar a diretoria na tomada de decisão.\n",
        "# O código precisa coletar os dados de quantidade de venda durante os anos de 2022 e 2023 e fazer um cálculo de variação percentual.\n",
        "# A partir do valor da variação, deve ser enviada às seguintes sugestões:\n",
        "\n",
        "# - Para variação acima de 20%: bonificação para o time de vendas.\n",
        "# - Para variação entre 2% e 20%: pequena bonificação para time de vendas.\n",
        "# - Para variação entre 2% e -10%: planejamento de políticas de incentivo às vendas.\n",
        "# - Para bonificações abaixo de -10%: corte de gastos.\n",
        "\n",
        "# Coleta dos dados\n",
        "vendas_2022 = float(input(\"Insira o número de vendas em 2022: \"))\n",
        "vendas_2023 = float(input(\"Insira o número de vendas em 2023: \"))\n",
        "\n",
        "# Cálculo da variação percentual\n",
        "variacao_percentual = ((vendas_2023 - vendas_2022) / vendas_2022) * 100\n",
        "\n",
        "# Análise e sugestões\n",
        "if variacao_percentual > 20:\n",
        "    print(f\"Bonificação para o time de vendas! Crescimento de {variacao_percentual:.2f}% em relação a 2022.\")\n",
        "elif 2 < variacao_percentual <= 20:\n",
        "    print(f\"Pequena bonificação para o time de vendas. Crescimento de {variacao_percentual:.2f}% em relação a 2022.\")\n",
        "elif -10 <= variacao_percentual <= 2:\n",
        "    print(f\"Recomenda-se o planejamento de políticas de incentivo às vendas. Variação de apenas {variacao_percentual:.2f}%.\")\n",
        "elif variacao_percentual < -10:\n",
        "    print(f\"Alerta de desempenho: corte de gastos recomendado. Queda de {variacao_percentual:.2f}% nas vendas.\")\n"
      ],
      "metadata": {
        "colab": {
          "base_uri": "https://localhost:8080/"
        },
        "id": "ulfT6dn4RdJw",
        "outputId": "de365288-ccce-46da-93dc-0d07f6c7e186"
      },
      "execution_count": null,
      "outputs": [
        {
          "output_type": "stream",
          "name": "stdout",
          "text": [
            "Insira o número de vendas em 2022: 800\n",
            "Insira o número de vendas em 2023: 12\n",
            "Alerta de desempenho: corte de gastos recomendado. Queda de -98.50% nas vendas.\n"
          ]
        }
      ]
    },
    {
      "cell_type": "markdown",
      "source": [
        "# Estruturas de repetição"
      ],
      "metadata": {
        "id": "aL1vJPewvwvz"
      }
    },
    {
      "cell_type": "markdown",
      "source": [
        "Quando temos que executar um mesmo bloco de comandos por várias vezes não é muito interessante fazer isso à mão.\n",
        "\n",
        "Imaginemos a situação de termos que coletar e imprimir a média de duas notas de **3 estudantes**:"
      ],
      "metadata": {
        "id": "VcPfCa8d-84t"
      }
    },
    {
      "cell_type": "code",
      "source": [
        "nota_1 = float(input('Digite a 1° nota: '))\n",
        "nota_2 = float(input('Digite a 2° nota: '))\n",
        "\n",
        "print(f'Média: {(nota_1+nota_2)/2}')"
      ],
      "metadata": {
        "id": "LzPyN4Ad3qwy",
        "colab": {
          "base_uri": "https://localhost:8080/"
        },
        "outputId": "afff1a19-5bdb-4699-d409-799fffcafcb5"
      },
      "execution_count": null,
      "outputs": [
        {
          "output_type": "stream",
          "name": "stdout",
          "text": [
            "Digite a 1° nota: 10\n",
            "Digite a 2° nota: 5\n",
            "Média: 7.5\n"
          ]
        }
      ]
    },
    {
      "cell_type": "markdown",
      "source": [
        "Agora imaginemos uma situação em que não são apenas 3 estudantes, mas sim 100 estudantes. Não seria interessante repetir o mesmo código por 100 vezes, mas sim **executar o mesmo código 100 vezes**.\n",
        "\n",
        "Essa repetição conseguimos construir com laços de repetição!"
      ],
      "metadata": {
        "id": "9puIuvUbFSFX"
      }
    },
    {
      "cell_type": "markdown",
      "source": [
        "## `WHILE`"
      ],
      "metadata": {
        "id": "uLO9-aE4-wx8"
      }
    },
    {
      "cell_type": "markdown",
      "source": [
        "O laço `while` é uma estrutura de controle de repetição em Python que permite executar um bloco de código repetidamente enquanto uma determinada condição é verdadeira. Sua estrutura é:\n",
        "\n",
        "\n",
        "\n",
        "```\n",
        "while condição:\n",
        "    # bloco de código\n",
        "```\n",
        "\n",
        "Vamos construir um exemplo com um contador de 1 até 10.\n"
      ],
      "metadata": {
        "id": "rXZxDMiqHxm9"
      }
    },
    {
      "cell_type": "code",
      "source": [
        "contador = 1\n",
        "while contador <= 10:\n",
        "    print(contador)\n",
        "    contador += 1"
      ],
      "metadata": {
        "id": "6b_izu633j0O",
        "colab": {
          "base_uri": "https://localhost:8080/"
        },
        "outputId": "639c35ac-3870-4199-f87f-e26ad47a4cf7"
      },
      "execution_count": null,
      "outputs": [
        {
          "output_type": "stream",
          "name": "stdout",
          "text": [
            "1\n",
            "2\n",
            "3\n",
            "4\n",
            "5\n",
            "6\n",
            "7\n",
            "8\n",
            "9\n",
            "10\n"
          ]
        }
      ]
    },
    {
      "cell_type": "markdown",
      "source": [
        "Agora vamos coletar as notas e médias de cada aluno dentro do while. Faremos um exemplo com 3 médias."
      ],
      "metadata": {
        "id": "W4KZPBJuIrut"
      }
    },
    {
      "cell_type": "code",
      "source": [
        "c = 1\n",
        "while c <= 3:\n",
        "    nota_1 = float(input('Digite a 1° nota: '))\n",
        "    nota_2 = float(input('Digite a 2° nota: '))\n",
        "    nota_3 = float(input('Digite a 2° nota: '))\n",
        "    print(f'Média: {(nota_1 + nota_2 + nota_3) / 3: .2f}')\n",
        "    c += 1"
      ],
      "metadata": {
        "id": "aIeQ_CzW3jiP",
        "colab": {
          "base_uri": "https://localhost:8080/"
        },
        "outputId": "fa27112d-624c-4099-af98-c19fb7fa6d92"
      },
      "execution_count": null,
      "outputs": [
        {
          "output_type": "stream",
          "name": "stdout",
          "text": [
            "Digite a 1° nota: 10\n",
            "Digite a 2° nota: 7\n",
            "Digite a 2° nota: 3\n",
            "Média:  6.67\n",
            "Digite a 1° nota: 5\n",
            "Digite a 2° nota: 1\n",
            "Digite a 2° nota: 2\n",
            "Média:  2.67\n",
            "Digite a 1° nota: 3\n",
            "Digite a 2° nota: 6\n",
            "Digite a 2° nota: 4\n",
            "Média:  4.33\n"
          ]
        }
      ]
    },
    {
      "cell_type": "markdown",
      "source": [
        "## `FOR`"
      ],
      "metadata": {
        "id": "WgAIaENMMfCP"
      }
    },
    {
      "cell_type": "markdown",
      "source": [
        "O laço `for` é um tipo de estrutura de controle de fluxo em Python que permite iterar sobre um conjunto de elementos. A sua estrutura é:\n",
        "\n",
        "\n",
        "\n",
        "```\n",
        "for elemento in conjunto:\n",
        "    # código a ser executado para cada elemento\n",
        "```\n",
        "\n",
        "O laço for itera sobre cada elemento do conjunto especificado e executa o bloco de código dentro do laço para cada elemento. Quando o laço chega ao final do conjunto, ele é interrompido e o programa continua a execução após o laço.\n",
        "\n"
      ],
      "metadata": {
        "id": "HxrSZoRAMh-x"
      }
    },
    {
      "cell_type": "markdown",
      "source": [
        "O conjunto pode ser gerado com a função [`range()`](https://docs.python.org/3/library/functions.html#func-range). Que é uma função capaz de gerar uma sequência de números inteiros. A estrutura dessa função é:\n",
        "\n",
        "```\n",
        "range(inicio, fim, passo)\n",
        "```\n",
        "\n",
        "Segundo a documentação, o `range()` gera uma sequência de números inteiros a partir do valor do parâmetro `inicio` até o valor do parâmetro `fim`, de acordo com o valor do parâmetro `passo`. Se `inicio` não for especificado, o valor padrão é 0. Se `passo` não for especificado, o valor padrão é 1.\n",
        "\n",
        "\n"
      ],
      "metadata": {
        "id": "6VgjyoQtPHBM"
      }
    },
    {
      "cell_type": "markdown",
      "source": [
        "Vamos fazer o mesmo contador `while` agora com `for`."
      ],
      "metadata": {
        "id": "ryn0hfdlUwC8"
      }
    },
    {
      "cell_type": "code",
      "source": [
        "for contador in range(1,11):\n",
        "    print(contador)"
      ],
      "metadata": {
        "id": "t6qcdPyP3YgZ",
        "colab": {
          "base_uri": "https://localhost:8080/"
        },
        "outputId": "5edcfda1-f3dd-4681-9e05-775f6825db19"
      },
      "execution_count": null,
      "outputs": [
        {
          "output_type": "stream",
          "name": "stdout",
          "text": [
            "1\n",
            "2\n",
            "3\n",
            "4\n",
            "5\n",
            "6\n",
            "7\n",
            "8\n",
            "9\n",
            "10\n"
          ]
        }
      ]
    },
    {
      "cell_type": "code",
      "source": [
        "for i in range(1,4):\n",
        "    nota_1 = float(input('Digite a 1° nota: '))\n",
        "    nota_2 = float(input('Digite a 2° nota: '))\n",
        "    nota_3 = float(input('Digite a 2° nota: '))\n",
        "    print(f'Média: {(nota_1 + nota_2 + nota_3) / 3: .2f}')"
      ],
      "metadata": {
        "id": "KBeY8z573YWz",
        "colab": {
          "base_uri": "https://localhost:8080/"
        },
        "outputId": "59e4ac22-8193-482b-b6cb-265b0be6784b"
      },
      "execution_count": null,
      "outputs": [
        {
          "output_type": "stream",
          "name": "stdout",
          "text": [
            "Digite a 1° nota: 10\n",
            "Digite a 2° nota: 3\n",
            "Digite a 2° nota: 7\n",
            "Média:  6.67\n",
            "Digite a 1° nota: 5\n",
            "Digite a 2° nota: 6\n",
            "Digite a 2° nota: 7\n",
            "Média:  6.00\n",
            "Digite a 1° nota: 9\n",
            "Digite a 2° nota: 4\n",
            "Digite a 2° nota: 1\n",
            "Média:  4.67\n"
          ]
        }
      ]
    },
    {
      "cell_type": "markdown",
      "source": [
        "### Lista de desafios - Aula 04\n"
      ],
      "metadata": {
        "id": "c-oHvX77k2dO"
      }
    },
    {
      "cell_type": "code",
      "source": [
        "# 1) Escreva um programa que peça dois números inteiros e imprima todos os números inteiros entre eles.\n",
        "# Usando o for:\n",
        "num_1 = int(input(\"Insira um número: \"))\n",
        "num_2 = int(input(\"Insira um segundo número: \"))\n",
        "\n",
        "# Garantir ordem crescente\n",
        "if num_1 <= num_2:\n",
        "    for i in range(num_1, num_2 + 1):\n",
        "        print(i)\n",
        "else:\n",
        "    for i in range(num_1, num_2 - 1, -1):  # ordem decrescente\n",
        "        print(i)\n",
        "\n",
        "\n",
        "# Usando o while\n",
        "num_1 = int(input(\"Insira um número: \"))\n",
        "num_2 = int(input(\"Insira um segundo número: \"))\n",
        "\n",
        "if num_1 <= num_2:\n",
        "    while num_1 <= num_2:\n",
        "        print(num_1)\n",
        "        num_1 += 1\n",
        "else:\n",
        "    while num_1 >= num_2:\n",
        "        print(num_1)\n",
        "        num_1 -= 1\n"
      ],
      "metadata": {
        "colab": {
          "base_uri": "https://localhost:8080/"
        },
        "id": "q_2IrijAk6T8",
        "outputId": "85682c19-ffd4-4381-f281-59c7bd5b0cd8"
      },
      "execution_count": null,
      "outputs": [
        {
          "output_type": "stream",
          "name": "stdout",
          "text": [
            "Insira um número: 5\n",
            "Insira um segundo número: 10\n",
            "5\n",
            "6\n",
            "7\n",
            "8\n",
            "9\n",
            "10\n",
            "Insira um número: 5\n",
            "Insira um segundo número: 10\n",
            "5\n",
            "6\n",
            "7\n",
            "8\n",
            "9\n",
            "10\n"
          ]
        }
      ]
    },
    {
      "cell_type": "code",
      "source": [
        "# 2) Escreva um programa para calcular quantos dias levará para a colônia de uma bactéria A ultrapassar ou igualar a colônia de uma bactéria B,\n",
        "# com base nas taxas de crescimento de 3% e 1,5% respectivamente. Considere que a colônia A inicia com 4 elementos e a B com 10.\n",
        "\n",
        "bac_a = 4\n",
        "bac_b = 10\n",
        "dias = 0\n",
        "\n",
        "while bac_a < bac_b:\n",
        "    bac_a *= 1.03\n",
        "    bac_b *= 1.015\n",
        "    dias += 1\n",
        "print(f\"Demorou {dias} dias para as colonias se igualarem!\")\n",
        "print(f\"A colônia A chegou a {bac_a:.2f} elementos.\")\n",
        "print(f\"A colônia B chegou a {bac_b:.2f} elementos.\")\n"
      ],
      "metadata": {
        "id": "B9HqD6qrk71s",
        "colab": {
          "base_uri": "https://localhost:8080/"
        },
        "outputId": "b75913fb-354a-4a3d-e636-bcdb262a7871"
      },
      "execution_count": null,
      "outputs": [
        {
          "output_type": "stream",
          "name": "stdout",
          "text": [
            "Demorou 63 dias para as colonias se igualarem!\n",
            "A colônia A chegou a 25.75 elementos.\n",
            "A colônia B chegou a 25.55 elementos.\n"
          ]
        }
      ]
    },
    {
      "cell_type": "code",
      "source": [
        "# 3) Para tratar uma quantidade de 15 dados de avaliações de pessoas usuárias de um serviço da empresa, precisamos verificar se as notas são válidas.\n",
        "# Então, escreva um programa que vai receber a nota de 0 a 5 de todos os dados e verificar se é um valor válido.\n",
        "# Caso seja inserido uma nota acima de 5 ou abaixo de 0, repita até que a pessoa usuária insira um valor válido.\n",
        "\n",
        "lista_notas = []\n",
        "\n",
        "for i in range(5): # Coloquei apenas 5 para não ficar muito grande!\n",
        "    while True:\n",
        "        nota = int(input(f\"Pessoa {i+1} - Insira uma nota de 0 a 5: \"))\n",
        "        if 0 <= nota <= 5:\n",
        "            lista_notas.append(nota)\n",
        "            break  # Sai do while e vai para a próxima pessoa\n",
        "        else:\n",
        "            print(\"Nota inválida! Tente novamente.\")\n",
        "\n",
        "print(\"\\nNotas válidas registradas:\", lista_notas)"
      ],
      "metadata": {
        "id": "ItSw7D9uk75W",
        "colab": {
          "base_uri": "https://localhost:8080/"
        },
        "outputId": "f8f1b1d7-9db9-421a-b8b4-36d4277f87c2"
      },
      "execution_count": null,
      "outputs": [
        {
          "output_type": "stream",
          "name": "stdout",
          "text": [
            "Pessoa 1 - Insira uma nota de 0 a 5: 1\n",
            "Pessoa 2 - Insira uma nota de 0 a 5: 2\n",
            "Pessoa 3 - Insira uma nota de 0 a 5: 3\n",
            "Pessoa 4 - Insira uma nota de 0 a 5: 4\n",
            "Pessoa 5 - Insira uma nota de 0 a 5: 5\n",
            "\n",
            "Notas válidas registradas: [1, 2, 3, 4, 5]\n"
          ]
        }
      ]
    },
    {
      "cell_type": "code",
      "source": [
        "# 4) Desenvolva um programa que leia um conjunto indeterminado de temperaturas em Celsius e informe a média delas.\n",
        "# A leitura deve ser encerrada ao ser enviado o valor -273°C.\n",
        "\n",
        "temperaturas = []\n",
        "\n",
        "while True:\n",
        "    temp = float(input(\"Digite a temperatura em °C (ou -273 para encerrar): \"))\n",
        "    if temp == -273:\n",
        "        break\n",
        "    temperaturas.append(temp)\n",
        "\n",
        "# Verificação de lista vazia\n",
        "if temperaturas:\n",
        "    media = sum(temperaturas) / len(temperaturas)\n",
        "    print(f\"\\nTemperaturas registradas: {temperaturas}\")\n",
        "    print(f\"Média das temperaturas: {media:.2f}°C\")\n",
        "else:\n",
        "    print(\"Nenhuma temperatura foi registrada.\")\n"
      ],
      "metadata": {
        "id": "cMJEMICmk782",
        "colab": {
          "base_uri": "https://localhost:8080/"
        },
        "outputId": "b8cba26f-e86b-4ffb-c3b9-161e993b0fb3"
      },
      "execution_count": null,
      "outputs": [
        {
          "output_type": "stream",
          "name": "stdout",
          "text": [
            "Digite a temperatura em °C (ou -273 para encerrar): -273\n",
            "Nenhuma temperatura foi registrada.\n"
          ]
        }
      ]
    },
    {
      "cell_type": "code",
      "source": [
        "# 5) Escreva um programa que calcule o fatorial de um número inteiro fornecido pela pessoa usuária.\n",
        "# Lembrando que o fatorial de um número inteiro é a multiplicação desse número por todos os seus antecessores até o número 1.\n",
        "# Por exemplo, o fatorial de 5 é 5 x 4 x 3 x 2 x 1 = 120.\n",
        "\n",
        "n = int(input(\"Insira um número: \"))\n",
        "fatorial = 1\n",
        "fatores = []  # lista para guardar os fatores\n",
        "\n",
        "for i in range(n, 0, -1):\n",
        "    fatorial *= i\n",
        "    fatores.append(str(i))  # transforma em string para juntar depois\n",
        "\n",
        "# Montar a string da multiplicação\n",
        "expressao = \" x \".join(fatores)\n",
        "\n",
        "print(f\"{n}! é {expressao} = {fatorial}\")\n"
      ],
      "metadata": {
        "id": "Td6XeNeyk8Ag",
        "colab": {
          "base_uri": "https://localhost:8080/"
        },
        "outputId": "898943f6-dda8-4d68-9f2a-b84de42c98e2"
      },
      "execution_count": null,
      "outputs": [
        {
          "output_type": "stream",
          "name": "stdout",
          "text": [
            "Insira um número: 5\n",
            "5! é 5 x 4 x 3 x 2 x 1 = 120\n"
          ]
        }
      ]
    },
    {
      "cell_type": "code",
      "source": [
        "# 6) Escreva um programa que gere a tabuada de um número inteiro de 1 a 10, de acordo com a escolha da pessoa usuária.\n",
        "n = int(input(\"Insira um número: \"))\n",
        "print(f\"Tabuada do {n}\")\n",
        "\n",
        "multiplicador = 1\n",
        "for i in range(10):\n",
        "    resultado = n * multiplicador\n",
        "    print(f\"{n} x {multiplicador} = {resultado}\")\n",
        "    multiplicador += 1\n"
      ],
      "metadata": {
        "id": "W287YkkKk8Dn",
        "colab": {
          "base_uri": "https://localhost:8080/"
        },
        "outputId": "eb1c2364-1fdb-49fe-fb95-eee14a232ca6"
      },
      "execution_count": null,
      "outputs": [
        {
          "output_type": "stream",
          "name": "stdout",
          "text": [
            "Insira um número: 5\n",
            "Tabuada do 5\n",
            "5 x 1 = 5\n",
            "5 x 2 = 10\n",
            "5 x 3 = 15\n",
            "5 x 4 = 20\n",
            "5 x 5 = 25\n",
            "5 x 6 = 30\n",
            "5 x 7 = 35\n",
            "5 x 8 = 40\n",
            "5 x 9 = 45\n",
            "5 x 10 = 50\n"
          ]
        }
      ]
    },
    {
      "cell_type": "code",
      "source": [
        "# 7) Os números primos possuem várias aplicações dentro da Ciência de Dados em criptografia e segurança, por exemplo.\n",
        "# Um número primo é aquele que é divisível apenas por um e por ele mesmo.\n",
        "# Assim, faça um programa que peça um número inteiro e determine se ele é ou não um número primo.\n",
        "\n",
        "num = int(input(\"Insira um número: \"))\n",
        "if num <= 1:\n",
        "    print(\"Não é primo.\")\n",
        "eh_primo = True\n",
        "for i in range(2, num):\n",
        "    if num % i == 0:\n",
        "        eh_primo = False\n",
        "        break  # já achou um divisor, pode parar o laço\n",
        "if eh_primo:\n",
        "    print(\"É primo!\")\n",
        "else:\n",
        "    print(\"Não é primo.\")\n"
      ],
      "metadata": {
        "id": "3sLWqE6Bk8Go",
        "colab": {
          "base_uri": "https://localhost:8080/"
        },
        "outputId": "700755c2-12a3-4007-92c2-8f188ed376ad"
      },
      "execution_count": null,
      "outputs": [
        {
          "output_type": "stream",
          "name": "stdout",
          "text": [
            "Insira um número: 10\n",
            "Não é primo.\n"
          ]
        }
      ]
    },
    {
      "cell_type": "code",
      "source": [
        "# 8) Vamos entender a distribuição de idades de pensionistas de uma empresa de previdência.\n",
        "\n",
        "# Escreva um programa que leia as idades de uma quantidade não informada de clientes e mostre a distribuição em intervalos de [0-25], [26-50], [51-75] e [76-100].\n",
        "# Encerre a entrada de dados com um número negativo.\n",
        "\n",
        "faixa_1 = 0  # [0-25]\n",
        "faixa_2 = 0  # [26-50]\n",
        "faixa_3 = 0  # [51-75]\n",
        "faixa_4 = 0  # [76-100]\n",
        "\n",
        "while True:\n",
        "    idade = int(input(\"Insira uma idade (ou número negativo para encerrar): \"))\n",
        "    if idade < 0:\n",
        "        break\n",
        "    elif 0 <= idade <= 25:\n",
        "        faixa_1 += 1\n",
        "    elif 26 <= idade <= 50:\n",
        "        faixa_2 += 1\n",
        "    elif 51 <= idade <= 75:\n",
        "        faixa_3 += 1\n",
        "    elif 76 <= idade <= 100:\n",
        "        faixa_4 += 1\n",
        "    else:\n",
        "        print(\"Idade fora do intervalo considerado (0 a 100).\")\n",
        "\n",
        "# Cálculo total\n",
        "total = faixa_1 + faixa_2 + faixa_3 + faixa_4\n",
        "\n",
        "# Verifica se houve dados válidos\n",
        "if total == 0:\n",
        "    print(\"\\nNenhuma idade válida foi registrada.\")\n",
        "else:\n",
        "    # Exibir relatório formatado\n",
        "    print(\"\\n📊 Distribuição de Idades dos Pensionistas:\\n\")\n",
        "    print(f\"{'Faixa Etária':<20}{'Qtd.':>6}{'Percentual':>15}\")\n",
        "    print(\"-\" * 41)\n",
        "    print(f\"[0 – 25]       {'':<9}{faixa_1:>3}     {faixa_1 / total * 100:>10.2f}%\")\n",
        "    print(f\"[26 – 50]      {'':<9}{faixa_2:>3}     {faixa_2 / total * 100:>10.2f}%\")\n",
        "    print(f\"[51 – 75]      {'':<9}{faixa_3:>3}     {faixa_3 / total * 100:>10.2f}%\")\n",
        "    print(f\"[76 – 100]     {'':<9}{faixa_4:>3}     {faixa_4 / total * 100:>10.2f}%\")\n",
        "    print(\"-\" * 41)\n",
        "    print(f\"{'Total':<20}{total:>6}{'100.00%':>15}\")\n"
      ],
      "metadata": {
        "id": "55fCU1pjk8KQ",
        "colab": {
          "base_uri": "https://localhost:8080/"
        },
        "outputId": "0dc3a6ee-1874-4f2d-df3a-69c6b90fc997"
      },
      "execution_count": null,
      "outputs": [
        {
          "output_type": "stream",
          "name": "stdout",
          "text": [
            "Insira uma idade (ou número negativo para encerrar): 5\n",
            "Insira uma idade (ou número negativo para encerrar): 10\n",
            "Insira uma idade (ou número negativo para encerrar): 5\n",
            "Insira uma idade (ou número negativo para encerrar): 20\n",
            "Insira uma idade (ou número negativo para encerrar): 25\n",
            "Insira uma idade (ou número negativo para encerrar): 36\n",
            "Insira uma idade (ou número negativo para encerrar): 32\n",
            "Insira uma idade (ou número negativo para encerrar): 11\n",
            "Insira uma idade (ou número negativo para encerrar): 45\n",
            "Insira uma idade (ou número negativo para encerrar): 55\n",
            "Insira uma idade (ou número negativo para encerrar): 60\n",
            "Insira uma idade (ou número negativo para encerrar): 65\n",
            "Insira uma idade (ou número negativo para encerrar): 70\n",
            "Insira uma idade (ou número negativo para encerrar): 75\n",
            "Insira uma idade (ou número negativo para encerrar): 79\n",
            "Insira uma idade (ou número negativo para encerrar): 80\n",
            "Insira uma idade (ou número negativo para encerrar): 99\n",
            "Insira uma idade (ou número negativo para encerrar): 101\n",
            "Idade fora do intervalo considerado (0 a 100).\n",
            "Insira uma idade (ou número negativo para encerrar): 100\n",
            "Insira uma idade (ou número negativo para encerrar): 99\n",
            "Insira uma idade (ou número negativo para encerrar): 1\n",
            "Insira uma idade (ou número negativo para encerrar): -1\n",
            "\n",
            "📊 Distribuição de Idades dos Pensionistas:\n",
            "\n",
            "Faixa Etária          Qtd.     Percentual\n",
            "-----------------------------------------\n",
            "[0 – 25]                  7          35.00%\n",
            "[26 – 50]                 3          15.00%\n",
            "[51 – 75]                 5          25.00%\n",
            "[76 – 100]                5          25.00%\n",
            "-----------------------------------------\n",
            "Total                   20        100.00%\n"
          ]
        }
      ]
    },
    {
      "cell_type": "code",
      "source": [
        "# 9) Em uma eleição para gerência em uma empresa com 20 pessoas colaboradoras, existem quatro candidatos(as).\n",
        "# Escreva um programa que calcule o(a) vencedor(a) da eleição. A votação ocorreu da seguinte maneira:\n",
        "\n",
        "# - Cada colaborador(a) votou em uma das quatro pessoas candidatas (que representamos pelos números 1, 2, 3 e 4).\n",
        "# - Também foram contabilizados os votos nulos (representados pelo número 5) e os votos em branco (representados pelo número 6).\n",
        "\n",
        "# Ao final da votação, o programa deve exibir o número total de votos para cada candidato(a), os nulos e os votos em branco.\n",
        "# Além disso, deve calcular e exibir a porcentagem de votos nulos em relação ao total de votos e a porcentagem de votos em branco em relação ao total de votos.\n",
        "\n",
        "cand_1 = 0\n",
        "cand_2 = 0\n",
        "cand_3 = 0\n",
        "cand_4 = 0\n",
        "nulo_5 = 0\n",
        "branco_6 = 0\n",
        "\n",
        "print(\"🗳️ Início da votação para Gerência. Digite um número de 1 a 6:\")\n",
        "print(\"[1] Candidato(a) Alice\")\n",
        "print(\"[2] Candidato(a) Bruno\")\n",
        "print(\"[3] Candidato(a) Carla\")\n",
        "print(\"[4] Candidato(a) Diego\")\n",
        "print(\"[5] Voto Nulo\")\n",
        "print(\"[6] Voto em Branco\")\n",
        "\n",
        "for i in range(1, 21):\n",
        "    while True:\n",
        "        try:\n",
        "            voto = int(input(f\"\\nColaborador {i}, insira seu voto: \"))\n",
        "            if voto == 1:\n",
        "                cand_1 += 1\n",
        "                break\n",
        "            elif voto == 2:\n",
        "                cand_2 += 1\n",
        "                break\n",
        "            elif voto == 3:\n",
        "                cand_3 += 1\n",
        "                break\n",
        "            elif voto == 4:\n",
        "                cand_4 += 1\n",
        "                break\n",
        "            elif voto == 5:\n",
        "                nulo_5 += 1\n",
        "                break\n",
        "            elif voto == 6:\n",
        "                branco_6 += 1\n",
        "                break\n",
        "            else:\n",
        "                print(\"⚠️ Voto inválido. Digite um número entre 1 e 6.\")\n",
        "        except ValueError:\n",
        "            print(\"⚠️ Entrada inválida. Digite um número inteiro.\")\n",
        "\n",
        "# Total de votos válidos\n",
        "total_votos = 20\n",
        "porc_nulo = (nulo_5 / total_votos) * 100\n",
        "porc_branco = (branco_6 / total_votos) * 100\n",
        "\n",
        "# Determinar o vencedor\n",
        "candidatos = {\n",
        "    \"Alice\": cand_1,\n",
        "    \"Bruno\": cand_2,\n",
        "    \"Carla\": cand_3,\n",
        "    \"Diego\": cand_4\n",
        "}\n",
        "\n",
        "vencedor = max(candidatos, key=candidatos.get)\n",
        "votos_vencedor = candidatos[vencedor]\n",
        "\n",
        "# Exibição dos resultados\n",
        "print(\"\\n📋 Resultado Final da Eleição para Gerência:\")\n",
        "print(\"-\" * 45)\n",
        "print(f\"Alice  [1]: {cand_1} votos\")\n",
        "print(f\"Bruno  [2]: {cand_2} votos\")\n",
        "print(f\"Carla  [3]: {cand_3} votos\")\n",
        "print(f\"Diego  [4]: {cand_4} votos\")\n",
        "print(\"-\" * 45)\n",
        "print(f\"Votos Nulos  [5]: {nulo_5} votos ({porc_nulo:.2f}%)\")\n",
        "print(f\"Votos em Branco [6]: {branco_6} votos ({porc_branco:.2f}%)\")\n",
        "print(\"-\" * 45)\n",
        "print(f\"🏆 Candidato(a) eleito(a): {vencedor} com {votos_vencedor} votos!\")\n",
        "\n",
        "# Em caso de empate (extra)\n",
        "empatados = [nome for nome, votos in candidatos.items() if votos == votos_vencedor]\n",
        "if len(empatados) > 1:\n",
        "    print(f\"\\n⚠️ Empate entre: {', '.join(empatados)}\")\n"
      ],
      "metadata": {
        "id": "Wiq87UmKocm2",
        "colab": {
          "base_uri": "https://localhost:8080/"
        },
        "outputId": "a888ab6f-b981-4f18-cac5-6af1a75d3021"
      },
      "execution_count": null,
      "outputs": [
        {
          "output_type": "stream",
          "name": "stdout",
          "text": [
            "🗳️ Início da votação para Gerência. Digite um número de 1 a 6:\n",
            "[1] Candidato(a) Alice\n",
            "[2] Candidato(a) Bruno\n",
            "[3] Candidato(a) Carla\n",
            "[4] Candidato(a) Diego\n",
            "[5] Voto Nulo\n",
            "[6] Voto em Branco\n",
            "\n",
            "Colaborador 1, insira seu voto: 1\n",
            "\n",
            "Colaborador 2, insira seu voto: 5\n",
            "\n",
            "Colaborador 3, insira seu voto: 6\n",
            "\n",
            "Colaborador 4, insira seu voto: 4\n",
            "\n",
            "Colaborador 5, insira seu voto: 3\n",
            "\n",
            "Colaborador 6, insira seu voto: 2\n",
            "\n",
            "Colaborador 7, insira seu voto: 2\n",
            "\n",
            "Colaborador 8, insira seu voto: 1\n",
            "\n",
            "Colaborador 9, insira seu voto: 4\n",
            "\n",
            "Colaborador 10, insira seu voto: 5\n",
            "\n",
            "Colaborador 11, insira seu voto: 9\n",
            "⚠️ Voto inválido. Digite um número entre 1 e 6.\n",
            "\n",
            "Colaborador 11, insira seu voto: 5\n",
            "\n",
            "Colaborador 12, insira seu voto: 4\n",
            "\n",
            "Colaborador 13, insira seu voto: 1\n",
            "\n",
            "Colaborador 14, insira seu voto: 1\n",
            "\n",
            "Colaborador 15, insira seu voto: 2\n",
            "\n",
            "Colaborador 16, insira seu voto: 5\n",
            "\n",
            "Colaborador 17, insira seu voto: 6\n",
            "\n",
            "Colaborador 18, insira seu voto: 6\n",
            "\n",
            "Colaborador 19, insira seu voto: 5\n",
            "\n",
            "Colaborador 20, insira seu voto: 4\n",
            "\n",
            "📋 Resultado Final da Eleição para Gerência:\n",
            "---------------------------------------------\n",
            "Alice  [1]: 4 votos\n",
            "Bruno  [2]: 3 votos\n",
            "Carla  [3]: 1 votos\n",
            "Diego  [4]: 4 votos\n",
            "---------------------------------------------\n",
            "Votos Nulos  [5]: 5 votos (25.00%)\n",
            "Votos em Branco [6]: 3 votos (15.00%)\n",
            "---------------------------------------------\n",
            "🏆 Candidato(a) eleito(a): Alice com 4 votos!\n",
            "\n",
            "⚠️ Empate entre: Alice, Diego\n"
          ]
        }
      ]
    },
    {
      "cell_type": "markdown",
      "source": [
        "# Estruturas de dados"
      ],
      "metadata": {
        "id": "8noP8OJ0Vhux"
      }
    },
    {
      "cell_type": "markdown",
      "source": [
        "Um conjunto de elementos é uma coleção de itens, que são armazenados juntos de maneira organizada. Alguns exemplos de conjuntos de elementos em Python são listas, strings e dicionários."
      ],
      "metadata": {
        "id": "xpEUkefTu8fY"
      }
    },
    {
      "cell_type": "markdown",
      "source": [
        "## Listas"
      ],
      "metadata": {
        "id": "THSg4KYLwxIb"
      }
    },
    {
      "cell_type": "markdown",
      "source": [
        "As listas podem armazenar uma coleção de itens em ordem. Eles são delimitados por colchetes `[]` e os itens são separados por vírgulas.\n",
        "\n",
        "Elas também podem armazenar qualquer tipo de item, incluindo números, strings, objetos e outras listas. Elas também podem armazenar itens de tipos de dados diferentes juntos em uma única lista."
      ],
      "metadata": {
        "id": "dzpsiqrOyJcK"
      }
    },
    {
      "cell_type": "code",
      "source": [
        "lista = [\"Fabricio Daniel\", 9.5, 9.0, 8.0, True]\n",
        "lista"
      ],
      "metadata": {
        "id": "1NSzXfct3Lkw",
        "colab": {
          "base_uri": "https://localhost:8080/"
        },
        "outputId": "a9223ae5-ec66-4812-f0b2-e544639e494d"
      },
      "execution_count": null,
      "outputs": [
        {
          "output_type": "execute_result",
          "data": {
            "text/plain": [
              "['Fabricio Daniel', 9.5, 9.0, 8.0, True]"
            ]
          },
          "metadata": {},
          "execution_count": 93
        }
      ]
    },
    {
      "cell_type": "markdown",
      "source": [
        "As listas são organizadas em Python porque **cada elemento da lista tem um índice que indica sua posição na lista**. Os índices começam em 0 e vão até o tamanho da lista menos 1."
      ],
      "metadata": {
        "id": "qUz3sJNl6LgK"
      }
    },
    {
      "cell_type": "markdown",
      "source": [
        "Temos então 5 elementos com índices variando de 0 a 4, ordenadamente:\n",
        "\n",
        "```\n",
        "#             [0]           [1]   [2]   [3]    [4]\n",
        "lista = ['Fabricio Daniel', 9.5 , 9.0 , 8.0 , True]\n",
        "```\n",
        "\n",
        "Em Python temos também os índices **negativos** que se iniciam no último elemento com o valor de `-1` e depois avancam no universo dos negativos até chegar no 1° elemeno:\n",
        "\n",
        "```\n",
        "#             [-5]         [-4]  [-3]  [-2]   [-1]\n",
        "lista = ['Fabricio Daniel', 9.5 , 9.0 , 8.0 , True]\n",
        "```\n",
        "\n",
        "Conseguimos selecionar separadamente cada elemento através de seus respectivos índices. Colocando o nome da lista e em seguida o índice a ser selecionado."
      ],
      "metadata": {
        "id": "rLf-Qg526hFD"
      }
    },
    {
      "cell_type": "code",
      "source": [
        "lista[0]"
      ],
      "metadata": {
        "id": "S1lf1DWg3J7A",
        "colab": {
          "base_uri": "https://localhost:8080/",
          "height": 35
        },
        "outputId": "ea232bbf-0b60-43bd-8c0b-f59e9019af2c"
      },
      "execution_count": null,
      "outputs": [
        {
          "output_type": "execute_result",
          "data": {
            "text/plain": [
              "'Fabricio Daniel'"
            ],
            "application/vnd.google.colaboratory.intrinsic+json": {
              "type": "string"
            }
          },
          "metadata": {},
          "execution_count": 95
        }
      ]
    },
    {
      "cell_type": "code",
      "source": [
        "lista[3]"
      ],
      "metadata": {
        "id": "5MZu9F6S3JxS",
        "colab": {
          "base_uri": "https://localhost:8080/"
        },
        "outputId": "f8798fdd-1e48-41b7-8cfa-2b04745b2911"
      },
      "execution_count": null,
      "outputs": [
        {
          "output_type": "execute_result",
          "data": {
            "text/plain": [
              "8.0"
            ]
          },
          "metadata": {},
          "execution_count": 96
        }
      ]
    },
    {
      "cell_type": "code",
      "source": [
        "lista[-1]"
      ],
      "metadata": {
        "id": "9uLwwKom3Jmg",
        "colab": {
          "base_uri": "https://localhost:8080/"
        },
        "outputId": "97ad36de-c044-48b0-87c5-7eedfce7ba9c"
      },
      "execution_count": null,
      "outputs": [
        {
          "output_type": "execute_result",
          "data": {
            "text/plain": [
              "True"
            ]
          },
          "metadata": {},
          "execution_count": 97
        }
      ]
    },
    {
      "cell_type": "markdown",
      "source": [
        "Uma forma mais dinâmica de trabalhar item por item de uma lista é utilizando um laço for para leitura elemento a elemento."
      ],
      "metadata": {
        "id": "6TaE1ijmBTCd"
      }
    },
    {
      "cell_type": "code",
      "source": [
        "for i in lista:\n",
        "    print(i)"
      ],
      "metadata": {
        "id": "2GWvY7F-3IVP",
        "colab": {
          "base_uri": "https://localhost:8080/"
        },
        "outputId": "f97df486-133c-4b8d-f47f-98e372b39e6e"
      },
      "execution_count": null,
      "outputs": [
        {
          "output_type": "stream",
          "name": "stdout",
          "text": [
            "Fabricio Daniel\n",
            "9.5\n",
            "9.0\n",
            "8.0\n",
            "True\n"
          ]
        }
      ]
    },
    {
      "cell_type": "markdown",
      "source": [
        "A nota `8.0` de Fabricio Daniel precisa ser ajustada pois ganhou 2 pontos em sua ultima nota por fazer um trabalho de turma. Então é necessária fazer uma troca no valor do índice `3` de `8.0` para `10.0`."
      ],
      "metadata": {
        "id": "Dh1_HnIVvucY"
      }
    },
    {
      "cell_type": "code",
      "source": [
        "lista[3] = 10\n",
        "lista[0] = \"Fabricio Daniel Jr.\"\n",
        "lista"
      ],
      "metadata": {
        "id": "ffFiIlji3G7H",
        "colab": {
          "base_uri": "https://localhost:8080/"
        },
        "outputId": "15c944e3-1c84-4faf-a014-2b0ee8206c2a"
      },
      "execution_count": null,
      "outputs": [
        {
          "output_type": "execute_result",
          "data": {
            "text/plain": [
              "['Fabricio Daniel Jr.', 9.5, 9.0, 10, True]"
            ]
          },
          "metadata": {},
          "execution_count": 101
        }
      ]
    },
    {
      "cell_type": "markdown",
      "source": [
        "conseguimos calcular a média do aluno a partir dos dados que temos"
      ],
      "metadata": {
        "id": "53XduzXkycAf"
      }
    },
    {
      "cell_type": "code",
      "source": [
        "media = (lista[1] + lista[2] + lista[3])/3\n",
        "media"
      ],
      "metadata": {
        "id": "fRy9twzI3GFI",
        "colab": {
          "base_uri": "https://localhost:8080/"
        },
        "outputId": "1881c9df-8d30-4fa6-fd82-8ad0cb6437e1"
      },
      "execution_count": null,
      "outputs": [
        {
          "output_type": "execute_result",
          "data": {
            "text/plain": [
              "9.5"
            ]
          },
          "metadata": {},
          "execution_count": 102
        }
      ]
    },
    {
      "cell_type": "markdown",
      "source": [
        "## Manipulação de listas\n",
        "\n",
        "As listas são muito úteis em Python porque permitem armazenar e acessar uma coleção de itens de maneira organizada e rápida. Elas também oferecem muitos métodos úteis para manipular os itens armazenados, como adicionar, remover, classificar e pesquisar elementos."
      ],
      "metadata": {
        "id": "d-iYr10-y4qw"
      }
    },
    {
      "cell_type": "markdown",
      "source": [
        "#### Quantidade de elementos\n",
        "\n",
        "Usamos a função [`len()`](https://docs.python.org/3/library/functions.html#len) para descobrimos a quantidade de elementos de um conjunto."
      ],
      "metadata": {
        "id": "ZLqx9A97XVB_"
      }
    },
    {
      "cell_type": "code",
      "source": [
        "len(lista)"
      ],
      "metadata": {
        "id": "TOVGVubX3BI_",
        "colab": {
          "base_uri": "https://localhost:8080/"
        },
        "outputId": "b1e88f8c-fa74-4280-a3de-846263f509a6"
      },
      "execution_count": null,
      "outputs": [
        {
          "output_type": "execute_result",
          "data": {
            "text/plain": [
              "5"
            ]
          },
          "metadata": {},
          "execution_count": 103
        }
      ]
    },
    {
      "cell_type": "markdown",
      "source": [
        "#### Partição\n",
        "\n",
        "A partição de listas por indexação em Python é uma técnica muito útil para selecionar um subconjunto de elementos de uma lista. Ela é feita usando a sintaxe `lista[inicio:fim]`, onde `inicio` é o índice do primeiro elemento a ser incluído na partição e `fim` é o índice do primeiro elemento a ser excluído da partição."
      ],
      "metadata": {
        "id": "Z5tpstlHJss3"
      }
    },
    {
      "cell_type": "code",
      "source": [
        "lista[1:4]"
      ],
      "metadata": {
        "id": "Gm9RaTnG28uC",
        "colab": {
          "base_uri": "https://localhost:8080/"
        },
        "outputId": "9e4f0419-6d83-4630-a797-661ab7c6eb1b"
      },
      "execution_count": null,
      "outputs": [
        {
          "output_type": "execute_result",
          "data": {
            "text/plain": [
              "[9.5, 9.0, 10]"
            ]
          },
          "metadata": {},
          "execution_count": 105
        }
      ]
    },
    {
      "cell_type": "code",
      "source": [
        "lista[1:3]"
      ],
      "metadata": {
        "id": "LfitkLcQ26MO",
        "colab": {
          "base_uri": "https://localhost:8080/"
        },
        "outputId": "d932df29-812d-4266-dca6-8d2483ab0f9b"
      },
      "execution_count": null,
      "outputs": [
        {
          "output_type": "execute_result",
          "data": {
            "text/plain": [
              "[9.5, 9.0]"
            ]
          },
          "metadata": {},
          "execution_count": 104
        }
      ]
    },
    {
      "cell_type": "code",
      "source": [
        "lista[:3]"
      ],
      "metadata": {
        "id": "1-99Q09W28Bu",
        "colab": {
          "base_uri": "https://localhost:8080/"
        },
        "outputId": "f6805976-29b6-4d54-d58c-4e6c61e23e0c"
      },
      "execution_count": null,
      "outputs": [
        {
          "output_type": "execute_result",
          "data": {
            "text/plain": [
              "['Fabricio Daniel Jr.', 9.5, 9.0]"
            ]
          },
          "metadata": {},
          "execution_count": 109
        }
      ]
    },
    {
      "cell_type": "code",
      "source": [
        "lista[3:]"
      ],
      "metadata": {
        "id": "j23Uwma5226l",
        "colab": {
          "base_uri": "https://localhost:8080/"
        },
        "outputId": "e5aedd65-2744-48ff-8113-976f338c9567"
      },
      "execution_count": null,
      "outputs": [
        {
          "output_type": "execute_result",
          "data": {
            "text/plain": [
              "[10, True]"
            ]
          },
          "metadata": {},
          "execution_count": 107
        }
      ]
    },
    {
      "cell_type": "code",
      "source": [
        "lista[:]"
      ],
      "metadata": {
        "id": "zfMrd28_21_q",
        "colab": {
          "base_uri": "https://localhost:8080/"
        },
        "outputId": "20d3e856-abc2-41ff-c5f6-aab8a3debdbd"
      },
      "execution_count": null,
      "outputs": [
        {
          "output_type": "execute_result",
          "data": {
            "text/plain": [
              "['Fabricio Daniel Jr.', 9.5, 9.0, 10, True]"
            ]
          },
          "metadata": {},
          "execution_count": 111
        }
      ]
    },
    {
      "cell_type": "markdown",
      "source": [
        "#### [`append()`](https://docs.python.org/3/tutorial/datastructures.html#:~:text=of%20list%20objects%3A-,list.append(x),-Add%20an%20item)\n",
        "\n",
        "Adiciona um elemento ao final da lista."
      ],
      "metadata": {
        "id": "O0RRyabkRzZC"
      }
    },
    {
      "cell_type": "code",
      "source": [
        "lista.append(media)\n",
        "lista"
      ],
      "metadata": {
        "id": "Sr2BasZE20qF",
        "colab": {
          "base_uri": "https://localhost:8080/"
        },
        "outputId": "33ac34f0-c97e-4c5c-fa9c-9d99d7896378"
      },
      "execution_count": null,
      "outputs": [
        {
          "output_type": "execute_result",
          "data": {
            "text/plain": [
              "['Fabricio Daniel Jr.', 9.5, 9.0, 10, True, 9.5]"
            ]
          },
          "metadata": {},
          "execution_count": 112
        }
      ]
    },
    {
      "cell_type": "markdown",
      "source": [
        "#### [`extend()`](https://docs.python.org/3/tutorial/datastructures.html#:~:text=list.extend(iterable))\n",
        "\n",
        "Adiciona vários elementos ao final da lista.\n",
        "\n",
        "Adicionaremos as notas `[10.0,8.0,9.0]` na lista do Fabricio Daniel"
      ],
      "metadata": {
        "id": "uQV91XMsUOJD"
      }
    },
    {
      "cell_type": "code",
      "source": [
        "lista.extend([10.0, 8.0, 9.0])\n",
        "lista"
      ],
      "metadata": {
        "id": "b8a6wX2w2zrs",
        "colab": {
          "base_uri": "https://localhost:8080/"
        },
        "outputId": "b39afb06-9f32-4eb4-a0b1-f4cd4bed7fcd"
      },
      "execution_count": null,
      "outputs": [
        {
          "output_type": "execute_result",
          "data": {
            "text/plain": [
              "['Fabricio Daniel Jr.', 9.5, 9.0, 10, True, 9.5, 10.0, 8.0, 9.0]"
            ]
          },
          "metadata": {},
          "execution_count": 113
        }
      ]
    },
    {
      "cell_type": "markdown",
      "source": [
        "*Isso não é possivel ser feito com o* `append`."
      ],
      "metadata": {
        "id": "IVJvkTwNUk6M"
      }
    },
    {
      "cell_type": "code",
      "source": [
        "lista.append([10.0, 8.0, 9.0])\n",
        "lista"
      ],
      "metadata": {
        "id": "DyT9kWkB2yeB",
        "colab": {
          "base_uri": "https://localhost:8080/"
        },
        "outputId": "bfc8bee7-92a7-4ed9-ac8d-c0fa6c29626d"
      },
      "execution_count": null,
      "outputs": [
        {
          "output_type": "execute_result",
          "data": {
            "text/plain": [
              "['Fabricio Daniel Jr.',\n",
              " 9.5,\n",
              " 9.0,\n",
              " 10,\n",
              " True,\n",
              " 9.5,\n",
              " 10.0,\n",
              " 8.0,\n",
              " 9.0,\n",
              " [10.0, 8.0, 9.0]]"
            ]
          },
          "metadata": {},
          "execution_count": 114
        }
      ]
    },
    {
      "cell_type": "markdown",
      "source": [
        "#### [`remove()`](https://docs.python.org/3/tutorial/datastructures.html#:~:text=append(x).-,list.remove(x),-Remove%20the%20first)\n",
        "\n",
        "Remove um elemento específico da lista."
      ],
      "metadata": {
        "id": "dPGM5gpyUX1z"
      }
    },
    {
      "cell_type": "code",
      "source": [
        "lista.remove([10.0, 8.0, 9.0])\n",
        "lista"
      ],
      "metadata": {
        "id": "QgXraxZL2xZN",
        "colab": {
          "base_uri": "https://localhost:8080/"
        },
        "outputId": "1b9f48c6-44a0-4b34-d64d-120bc077ebc9"
      },
      "execution_count": null,
      "outputs": [
        {
          "output_type": "execute_result",
          "data": {
            "text/plain": [
              "['Fabricio Daniel Jr.', 9.5, 9.0, 10, True, 9.5, 10.0, 8.0, 9.0]"
            ]
          },
          "metadata": {},
          "execution_count": 116
        }
      ]
    },
    {
      "cell_type": "markdown",
      "source": [
        "## Dicionário"
      ],
      "metadata": {
        "id": "Rc22Vc08YDZ2"
      }
    },
    {
      "cell_type": "markdown",
      "source": [
        "Os dicionários são um tipo de estrutura de dados que armazenam pares de *chave-valor*. Eles são delimitados por chaves `{}` e os pares *chave-valor* são separados por vírgulas.\n",
        "\n",
        "```\n",
        "dicionário = {chave: valor}\n",
        "```\n",
        "\n",
        "A **chave** é um elemento único que identifica um valor no dicionário, enquanto o **valor** é o item que é armazenado para a chave. As chaves e os valores podem ser de **qualquer tipo de dado**.\n",
        "\n",
        "Os dicionários são úteis para armazenar e acessar dados de maneira organizada e rápida. Eles são um tipo de conjunto de elementos em Python, pois armazenam uma coleção de itens."
      ],
      "metadata": {
        "id": "PJ-cCKPjeWxL"
      }
    },
    {
      "cell_type": "code",
      "source": [
        "dicionario = {\"Chave_1\" : 1,\n",
        "              \"Chave_2\" : 2,\n",
        "              \"Chave_3\" : 3}\n",
        "print(dicionario)"
      ],
      "metadata": {
        "id": "fO6BSSP02lPY",
        "colab": {
          "base_uri": "https://localhost:8080/"
        },
        "outputId": "ccb6f3ee-20b6-4cd8-ce0c-052ed373192f"
      },
      "execution_count": null,
      "outputs": [
        {
          "output_type": "stream",
          "name": "stdout",
          "text": [
            "{'Chave_1': 1, 'Chave_2': 2, 'Chave_3': 3}\n"
          ]
        }
      ]
    },
    {
      "cell_type": "markdown",
      "source": [
        "---\n",
        "**Situação:**\n",
        "\n",
        "Vamos criar um conjunto de dados com informações de matricula de um estudante. Os dados são os seguintes:\n",
        "\n",
        "- matricula: 2000168933\n",
        "- dia de cadastro: 25\n",
        "- mês de cadastro: 10\n",
        "- turma: 2E"
      ],
      "metadata": {
        "id": "_JbQ3KMKfkXU"
      }
    },
    {
      "cell_type": "code",
      "source": [
        "matricula = {\"matricula\" : 2000168933,\n",
        "             \"dia do cadastro\" : 25,\n",
        "             \"mês de cadastro\" : 10,\n",
        "             \"turma\" : \"2E\"}\n",
        "matricula"
      ],
      "metadata": {
        "id": "Q1SKuEXQ2jkL",
        "colab": {
          "base_uri": "https://localhost:8080/"
        },
        "outputId": "301c957a-c49d-483f-886c-9fb22a8ec0ea"
      },
      "execution_count": null,
      "outputs": [
        {
          "output_type": "execute_result",
          "data": {
            "text/plain": [
              "{'matricula': 2000168933,\n",
              " 'dia do cadastro': 25,\n",
              " 'mês de cadastro': 10,\n",
              " 'turma': '2E'}"
            ]
          },
          "metadata": {},
          "execution_count": 123
        }
      ]
    },
    {
      "cell_type": "code",
      "source": [
        "matricula[\"matricula\"]"
      ],
      "metadata": {
        "id": "H7oT2M_a2jY5",
        "colab": {
          "base_uri": "https://localhost:8080/"
        },
        "outputId": "973fd3ec-b069-46ab-d5fb-bb8c16546e3e"
      },
      "execution_count": null,
      "outputs": [
        {
          "output_type": "execute_result",
          "data": {
            "text/plain": [
              "2000168933"
            ]
          },
          "metadata": {},
          "execution_count": 125
        }
      ]
    },
    {
      "cell_type": "code",
      "source": [
        "matricula[\"turma\"]"
      ],
      "metadata": {
        "id": "Mv8we96a2jPR",
        "colab": {
          "base_uri": "https://localhost:8080/",
          "height": 35
        },
        "outputId": "9c8f6615-0411-43e1-a18c-f617b6f79346"
      },
      "execution_count": null,
      "outputs": [
        {
          "output_type": "execute_result",
          "data": {
            "text/plain": [
              "'2E'"
            ],
            "application/vnd.google.colaboratory.intrinsic+json": {
              "type": "string"
            }
          },
          "metadata": {},
          "execution_count": 126
        }
      ]
    },
    {
      "cell_type": "markdown",
      "source": [
        "É possível substituir os valores dentro de uma chave. Por exemplo, recebemos a informação que a turma do estudante que cadastramos foi trocada para `'2G'` e agora precisamos trocar o valor da chave `'turma'`."
      ],
      "metadata": {
        "id": "8ex5pt2ykDd2"
      }
    },
    {
      "cell_type": "code",
      "source": [
        "matricula[\"turma\"] = \"2G\"\n",
        "matricula"
      ],
      "metadata": {
        "id": "WqZPkVop2hq-",
        "colab": {
          "base_uri": "https://localhost:8080/"
        },
        "outputId": "4d8a77ce-9f97-4347-8291-bb1ddb255488"
      },
      "execution_count": null,
      "outputs": [
        {
          "output_type": "execute_result",
          "data": {
            "text/plain": [
              "{'matricula': 2000168933,\n",
              " 'dia do cadastro': 25,\n",
              " 'mês de cadastro': 10,\n",
              " 'turma': '2G'}"
            ]
          },
          "metadata": {},
          "execution_count": 128
        }
      ]
    },
    {
      "cell_type": "markdown",
      "source": [
        "Podemos também adicionar outros dados ao dicionário. Vamos adicionar a informação de modalidade de ensino, nosso estudante atuará inicialmente em modalidade EAD.\n",
        "\n",
        "Então iremos definir uma chave chamada `'modalidade'` e o valor `'EAD'`."
      ],
      "metadata": {
        "id": "wB0qRb56mQvv"
      }
    },
    {
      "cell_type": "code",
      "source": [
        "matricula[\"modalidade\"] = \"EAD\"\n",
        "matricula"
      ],
      "metadata": {
        "id": "YDbsuNbw2gb2",
        "colab": {
          "base_uri": "https://localhost:8080/"
        },
        "outputId": "f96406f4-faa3-49c2-fe68-cd2dc7449569"
      },
      "execution_count": null,
      "outputs": [
        {
          "output_type": "execute_result",
          "data": {
            "text/plain": [
              "{'matricula': 2000168933,\n",
              " 'dia do cadastro': 25,\n",
              " 'mês de cadastro': 10,\n",
              " 'turma': '2G',\n",
              " 'modalidade': 'EAD'}"
            ]
          },
          "metadata": {},
          "execution_count": 129
        }
      ]
    },
    {
      "cell_type": "markdown",
      "source": [
        "## Aprofundando em dicionários"
      ],
      "metadata": {
        "id": "LJ3o_inroxg_"
      }
    },
    {
      "cell_type": "markdown",
      "source": [
        "#### [`pop()`](https://python-reference.readthedocs.io/en/latest/docs/dict/pop.html)\n",
        "Remove um item de um dicionário e o retorna."
      ],
      "metadata": {
        "id": "2N3GLlkSpBiu"
      }
    },
    {
      "cell_type": "code",
      "source": [
        "matricula.pop(\"turma\",\"2G\")"
      ],
      "metadata": {
        "id": "NJKPaN0N2d2G",
        "colab": {
          "base_uri": "https://localhost:8080/",
          "height": 35
        },
        "outputId": "4950f521-0760-4453-9a65-4641ddd88793"
      },
      "execution_count": null,
      "outputs": [
        {
          "output_type": "execute_result",
          "data": {
            "text/plain": [
              "'2G'"
            ],
            "application/vnd.google.colaboratory.intrinsic+json": {
              "type": "string"
            }
          },
          "metadata": {},
          "execution_count": 134
        }
      ]
    },
    {
      "cell_type": "code",
      "source": [
        "matricula"
      ],
      "metadata": {
        "id": "7XZ7Rl4R2cSF",
        "colab": {
          "base_uri": "https://localhost:8080/"
        },
        "outputId": "b5192e2a-671f-480d-a373-3bf3311aff95"
      },
      "execution_count": null,
      "outputs": [
        {
          "output_type": "execute_result",
          "data": {
            "text/plain": [
              "{'matricula': 2000168933,\n",
              " 'dia do cadastro': 25,\n",
              " 'mês de cadastro': 10,\n",
              " 'modalidade': 'EAD'}"
            ]
          },
          "metadata": {},
          "execution_count": 135
        }
      ]
    },
    {
      "cell_type": "markdown",
      "source": [
        "#### [`items()`](https://python-reference.readthedocs.io/en/latest/docs/dict/items.html)\n",
        "Retorna uma lista de pares chave-valor do dicionário."
      ],
      "metadata": {
        "id": "sYZGvJJYrW_y"
      }
    },
    {
      "cell_type": "code",
      "source": [
        "matricula.items()"
      ],
      "metadata": {
        "id": "rWJG9aZ72a0D",
        "colab": {
          "base_uri": "https://localhost:8080/"
        },
        "outputId": "b448c15d-62aa-4ca3-ef99-18a66ed52e67"
      },
      "execution_count": null,
      "outputs": [
        {
          "output_type": "execute_result",
          "data": {
            "text/plain": [
              "dict_items([('matricula', 2000168933), ('dia do cadastro', 25), ('mês de cadastro', 10)])"
            ]
          },
          "metadata": {},
          "execution_count": 139
        }
      ]
    },
    {
      "cell_type": "markdown",
      "source": [
        "#### [`keys()`](https://python-reference.readthedocs.io/en/latest/docs/dict/keys.html)\n",
        "Retorna uma lista das chaves do dicionário."
      ],
      "metadata": {
        "id": "Lb0utNFGrZBY"
      }
    },
    {
      "cell_type": "code",
      "source": [
        "matricula.keys()"
      ],
      "metadata": {
        "id": "H1WmQRaR2Z-l",
        "colab": {
          "base_uri": "https://localhost:8080/"
        },
        "outputId": "b006f54d-1e35-4fa3-a503-d0b8cbbba6f5"
      },
      "execution_count": null,
      "outputs": [
        {
          "output_type": "execute_result",
          "data": {
            "text/plain": [
              "dict_keys(['matricula', 'dia do cadastro', 'mês de cadastro'])"
            ]
          },
          "metadata": {},
          "execution_count": 140
        }
      ]
    },
    {
      "cell_type": "markdown",
      "source": [
        "#### [`values()`](https://python-reference.readthedocs.io/en/latest/docs/dict/values.html)\n",
        "Retorna uma lista dos valores do dicionário."
      ],
      "metadata": {
        "id": "qKyu3bf9rbtX"
      }
    },
    {
      "cell_type": "code",
      "source": [
        "matricula.values()"
      ],
      "metadata": {
        "id": "E5pgDcfQ2ZHH",
        "colab": {
          "base_uri": "https://localhost:8080/"
        },
        "outputId": "05bdd6e5-1d0e-48b7-80df-21789dbe7f02"
      },
      "execution_count": null,
      "outputs": [
        {
          "output_type": "execute_result",
          "data": {
            "text/plain": [
              "dict_values([2000168933, 25, 10])"
            ]
          },
          "metadata": {},
          "execution_count": 141
        }
      ]
    },
    {
      "cell_type": "markdown",
      "source": [
        "### Leitura de valores com `for`"
      ],
      "metadata": {
        "id": "e3XVjR8Frp75"
      }
    },
    {
      "cell_type": "code",
      "source": [
        "for chaves in matricula.keys():\n",
        "    print(matricula[chaves])"
      ],
      "metadata": {
        "id": "iwIY3hwV2XL5",
        "colab": {
          "base_uri": "https://localhost:8080/"
        },
        "outputId": "d866389c-540f-464e-a4fe-c709eb154853"
      },
      "execution_count": null,
      "outputs": [
        {
          "output_type": "stream",
          "name": "stdout",
          "text": [
            "2000168933\n",
            "25\n",
            "10\n",
            "EAD\n"
          ]
        }
      ]
    },
    {
      "cell_type": "code",
      "source": [
        "for valores in matricula.values():\n",
        "    print(valores)"
      ],
      "metadata": {
        "id": "KlEbYjKN2XCy",
        "colab": {
          "base_uri": "https://localhost:8080/"
        },
        "outputId": "d2801fe3-15f4-45e4-b169-b2894ad6f787"
      },
      "execution_count": null,
      "outputs": [
        {
          "output_type": "stream",
          "name": "stdout",
          "text": [
            "2000168933\n",
            "25\n",
            "10\n",
            "EAD\n"
          ]
        }
      ]
    },
    {
      "cell_type": "code",
      "source": [
        "for chaves, valores in matricula.items():\n",
        "    print(chaves, valores)"
      ],
      "metadata": {
        "id": "aiCgk-o42W6u",
        "colab": {
          "base_uri": "https://localhost:8080/"
        },
        "outputId": "64fa4324-6635-49dc-ea0a-06baf887482f"
      },
      "execution_count": null,
      "outputs": [
        {
          "output_type": "stream",
          "name": "stdout",
          "text": [
            "matricula 2000168933\n",
            "dia do cadastro 25\n",
            "mês de cadastro 10\n",
            "modalidade EAD\n"
          ]
        }
      ]
    },
    {
      "cell_type": "markdown",
      "source": [
        "### Lista de desafios - Aula 05\n"
      ],
      "metadata": {
        "id": "_0AKpuXA-Epc"
      }
    },
    {
      "cell_type": "code",
      "source": [
        "# 1) Faça um programa que tenha a seguinte lista contendo os valores de gastos de uma empresa de papel:\n",
        "# [2172.54, 3701.35, 3518.09, 3456.61, 3249.38, 2840.82, 3891.45, 3075.26, 2317.64, 3219.08].\n",
        "# Com esses valores, faça um programa que calcule a média de gastos. Dica: use as funções built-in sum() e len().\n",
        "\n",
        "lista = [2172.54, 3701.35, 3518.09, 3456.61, 3249.38, 2840.82, 3891.45, 3075.26, 2317.64, 3219.08]\n",
        "print(f\"A média dessa lista é {sum(lista) / len(lista):.2f}\")\n",
        "print(f\"Gasto máximo: R$ {max(lista):.2f}\")\n",
        "print(f\"Gasto mínimo: R$ {min(lista):.2f}\")\n"
      ],
      "metadata": {
        "id": "YtXdr9Hu-Iph",
        "colab": {
          "base_uri": "https://localhost:8080/"
        },
        "outputId": "d7a91459-5ca4-4021-841c-171d01972f04"
      },
      "execution_count": null,
      "outputs": [
        {
          "output_type": "stream",
          "name": "stdout",
          "text": [
            "A média dessa lista é 3144.22\n",
            "Gasto máximo: R$ 3891.45\n",
            "Gasto mínimo: R$ 2172.54\n"
          ]
        }
      ]
    },
    {
      "cell_type": "code",
      "source": [
        "# 2) Com os mesmos dados da questão anterior, defina quantas compras foram realizadas acima de 3000 reais e calcule a porcentagem quanto ao total de compras.\n",
        "lista = [2172.54, 3701.35, 3518.09, 3456.61, 3249.38, 2840.82, 3891.45, 3075.26, 2317.64, 3219.08]\n",
        "\n",
        "# Contar quantas são > 3000\n",
        "acima_3000 = [valor for valor in lista if valor > 3000]\n",
        "qtd = len(acima_3000)\n",
        "total = len(lista)\n",
        "porcentagem = (qtd / total) * 100\n",
        "\n",
        "# Exibir resultado\n",
        "print(f\"Compras acima de R$3000: {qtd}\")\n",
        "print(f\"Porcentagem: {porcentagem:.2f}%\")\n"
      ],
      "metadata": {
        "id": "mzr7IYdE-vV7",
        "colab": {
          "base_uri": "https://localhost:8080/"
        },
        "outputId": "83682ec3-a922-4905-aba2-4ad44b1e71c1"
      },
      "execution_count": null,
      "outputs": [
        {
          "output_type": "stream",
          "name": "stdout",
          "text": [
            "Compras acima de R$3000: 7\n",
            "Porcentagem: 70.00%\n"
          ]
        }
      ]
    },
    {
      "cell_type": "code",
      "source": [
        "# 3) Faça um código que colete em uma lista 5 números inteiros quaisquer e imprima a lista. Exemplo: [1,4,7,2,4].\n",
        "lista = []\n",
        "for i in range(5):\n",
        "    num = int(input(\"Insira um número: \"))\n",
        "    lista.append(num)\n",
        "print(lista)"
      ],
      "metadata": {
        "id": "_cZl1InR-v4b",
        "colab": {
          "base_uri": "https://localhost:8080/"
        },
        "outputId": "072a2a4c-503c-40c9-a189-7c84aa80e401"
      },
      "execution_count": null,
      "outputs": [
        {
          "output_type": "stream",
          "name": "stdout",
          "text": [
            "Insira um número: 5\n",
            "Insira um número: 5\n",
            "Insira um número: 5\n",
            "Insira um número: 5\n",
            "Insira um número: 1\n",
            "[5, 5, 5, 5, 1]\n"
          ]
        }
      ]
    },
    {
      "cell_type": "code",
      "source": [
        "# 4) Colete novamente 5 inteiros e imprima a lista em ordem inversa à enviada.\n",
        "lista = []\n",
        "for i in range(5):\n",
        "    num = int(input(\"Insira um número: \"))\n",
        "    lista.append(num)\n",
        "lista.reverse()\n",
        "print(lista)"
      ],
      "metadata": {
        "id": "VB5YP0o9_Z98",
        "colab": {
          "base_uri": "https://localhost:8080/"
        },
        "outputId": "257d3c40-fb0c-4455-c4dc-dc00edf14cb3"
      },
      "execution_count": null,
      "outputs": [
        {
          "output_type": "stream",
          "name": "stdout",
          "text": [
            "Insira um número: 1\n",
            "Insira um número: 2\n",
            "Insira um número: 3\n",
            "Insira um número: 4\n",
            "Insira um número: 5\n",
            "[5, 4, 3, 2, 1]\n"
          ]
        }
      ]
    },
    {
      "cell_type": "code",
      "source": [
        "# 5) Faça um programa que, ao inserir um número qualquer, cria uma lista contendo todos os números primos entre 1 e o número digitado.\n",
        "\n",
        "# Pedir ao usuário um número inteiro\n",
        "limite = int(input(\"Insira um número: \"))\n",
        "\n",
        "# Criar uma lista vazia para guardar os primos\n",
        "lista_primos = []\n",
        "\n",
        "# Para cada número 'n' entre 2 e o número digitado (inclusive)\n",
        "for n in range(2, limite + 1):\n",
        "    # Pressupõe que 'n' é primo\n",
        "    eh_primo = True\n",
        "\n",
        "    # Verifica se 'n' é divisível por algum número entre 2 e n-1\n",
        "    for i in range(2, int(n**0.5) + 1):  # otimização: até a raiz quadrada de n\n",
        "        if n % i == 0:\n",
        "            eh_primo = False\n",
        "            break  # se encontrar divisor, não é primo\n",
        "\n",
        "    # Se ainda for primo, adiciona à lista\n",
        "    if eh_primo:\n",
        "        lista_primos.append(n)\n",
        "\n",
        "# Exibir os primos na horizontal, separados por vírgula\n",
        "print(\"Números primos entre 1 e\", limite, \":\", \", \".join(str(p) for p in lista_primos))"
      ],
      "metadata": {
        "id": "rZfpWsLs_aAw",
        "colab": {
          "base_uri": "https://localhost:8080/"
        },
        "outputId": "f9a5299f-9f6f-427a-d1c2-be50a4718303"
      },
      "execution_count": null,
      "outputs": [
        {
          "output_type": "stream",
          "name": "stdout",
          "text": [
            "Insira um número: 100\n",
            "Números primos entre 1 e 100 : 2, 3, 5, 7, 11, 13, 17, 19, 23, 29, 31, 37, 41, 43, 47, 53, 59, 61, 67, 71, 73, 79, 83, 89, 97\n"
          ]
        }
      ]
    },
    {
      "cell_type": "code",
      "source": [
        "# 6) Escreva um programa que peça uma data informando o dia, mês e ano e determine se ela é válida para uma análise.\n",
        "from datetime import datetime\n",
        "\n",
        "# Solicita a data ao usuário\n",
        "dia = input(\"Digite o dia (DD): \")\n",
        "mes = input(\"Digite o mês (MM): \")\n",
        "ano = input(\"Digite o ano (AAAA): \")\n",
        "\n",
        "# Tenta converter a data para verificar se é válida\n",
        "try:\n",
        "    data = datetime(int(ano), int(mes), int(dia))\n",
        "    print(f\"A data {data.strftime('%d/%m/%Y')} é válida para análise.\")\n",
        "except ValueError:\n",
        "    print(\"Data inválida. Verifique os valores de dia, mês e ano.\")\n"
      ],
      "metadata": {
        "id": "u-n1an75_aD5",
        "colab": {
          "base_uri": "https://localhost:8080/"
        },
        "outputId": "11fdf5e6-48d9-4425-a2c1-4cbddf4f6c5f"
      },
      "execution_count": null,
      "outputs": [
        {
          "output_type": "stream",
          "name": "stdout",
          "text": [
            "Digite o dia (DD): 20\n",
            "Digite o mês (MM): 3\n",
            "Digite o ano (AAAA): 2015\n",
            "A data 20/03/2015 é válida para análise.\n"
          ]
        }
      ]
    },
    {
      "cell_type": "code",
      "source": [
        "# 7) Para um estudo envolvendo o nível de multiplicação de bactérias em uma colônia,\n",
        "# foi coletado o número de bactérias por dia (em milhares) e pode ser observado a seguir:\n",
        "\n",
        "bacterias = [1.2, 2.1, 3.3, 5.0, 7.8, 11.3, 16.6, 25.1, 37.8, 56.9]\n",
        "\n",
        "# Tendo esses valores, faça um código que gere uma lista contendo o percentual de crescimento de bactérias por dia,\n",
        "# comparando o número de bactérias em cada dia com o número de bactérias do dia anterior.\n",
        "\n",
        "# Dica: para calcular o percentual de crescimento usamos a seguinte equação: 100 * (amostra_atual - amostra_passada) / (amostra_passada).\n",
        "\n",
        "# Lista para guardar os percentuais\n",
        "crescimento_percentual = []\n",
        "\n",
        "# usar um laço que vai do segundo item até o último\n",
        "for i in range(1, len(bacterias)):\n",
        "    # pegar a amostra atual (bacterias[i])\n",
        "    amostra_atual = bacterias[i]\n",
        "    # pegar a amostra anterior (bacterias[i-1])\n",
        "    amostra_passada = bacterias[i - 1]\n",
        "    # aplicar a fórmula:\n",
        "    # crescimento = 100 * (atual - anterior) / anterior\n",
        "    crescimento = 100 * (amostra_atual - amostra_passada) / amostra_passada\n",
        "    # adicionar o crescimento à nova lista\n",
        "    crescimento_percentual.append(crescimento)\n",
        "\n",
        "# Exibir os resultados\n",
        "print(\"Crescimento percentual por dia:\")\n",
        "for i, crescimento in enumerate(crescimento_percentual, start=2):\n",
        "    print(f\"Dia {i}: {crescimento:.2f}%\")"
      ],
      "metadata": {
        "id": "M4H9mtIX_aGw",
        "colab": {
          "base_uri": "https://localhost:8080/"
        },
        "outputId": "6486e834-8099-4f0a-d5fd-10a40857f23d"
      },
      "execution_count": null,
      "outputs": [
        {
          "output_type": "stream",
          "name": "stdout",
          "text": [
            "Crescimento percentual por dia:\n",
            "Dia 2: 75.00%\n",
            "Dia 3: 57.14%\n",
            "Dia 4: 51.52%\n",
            "Dia 5: 56.00%\n",
            "Dia 6: 44.87%\n",
            "Dia 7: 46.90%\n",
            "Dia 8: 51.20%\n",
            "Dia 9: 50.60%\n",
            "Dia 10: 50.53%\n"
          ]
        }
      ]
    },
    {
      "cell_type": "code",
      "source": [
        "# 8) Para uma seleção de produtos alimentícios, precisamos separar o conjunto de IDs dados por números\n",
        "# inteiros sabendo que os produtos com ID par são doces e os com ID ímpar são amargos.\n",
        "# Monte um código que colete 10 IDs. Depois, calcule e mostre a quantidade de produtos doces e amargos.\n",
        "\n",
        "# Passo 1 – Criar as variáveis que vamos precisar\n",
        "ids = []\n",
        "doces = 0\n",
        "amargos = 0\n",
        "\n",
        "# Passo 2 – Criar um laço para coletar 10 IDs do usuário\n",
        "for i in range(10):\n",
        "    id_produto = int(input(f\"ID {i+1}: \"))\n",
        "    ids.append(id_produto)\n",
        "    # Passo 3 - Verificar se o ID é par (doce) ou ímpar (amargo)\n",
        "    if id_produto % 2 == 0:\n",
        "        doces += 1\n",
        "    else:\n",
        "        amargos += 1\n",
        "\n",
        "# Passo 4 – Imprimir os resultados finais\n",
        "print(\"\\nResumo da análise de produtos:\")\n",
        "print(f\"Total de produtos doces (ID par): {doces}\")\n",
        "print(f\"Total de produtos amargos (ID ímpar): {amargos}\")\n"
      ],
      "metadata": {
        "id": "KHBkVPEk_aJh",
        "colab": {
          "base_uri": "https://localhost:8080/"
        },
        "outputId": "7843b407-42ae-4af1-898c-e26afadc1bbc"
      },
      "execution_count": null,
      "outputs": [
        {
          "output_type": "stream",
          "name": "stdout",
          "text": [
            "ID 1: 10\n",
            "ID 2: 551\n",
            "ID 3: 32\n",
            "ID 4: 33\n",
            "ID 5: 44\n",
            "ID 6: 159\n",
            "ID 7: 56\n",
            "ID 8: 32\n",
            "ID 9: 3\n",
            "ID 10: 2\n",
            "\n",
            "Resumo da análise de produtos:\n",
            "Total de produtos doces (ID par): 6\n",
            "Total de produtos amargos (ID ímpar): 4\n"
          ]
        }
      ]
    },
    {
      "cell_type": "code",
      "source": [
        "# 9) Desenvolva um programa que informa a nota de um(a) aluno(a) de acordo com suas respostas.\n",
        "# Ele deve pedir a resposta desse(a) aluno(a) para cada questão e é preciso verificar se a resposta foi igual ao gabarito.\n",
        "# Cada questão vale um ponto e existem as alternativas A, B, C ou D.\n",
        "\n",
        "# Gabarito da prova:\n",
        "# 01 - D\n",
        "# 02 - A\n",
        "# 03 - C\n",
        "# 04 - B\n",
        "# 05 - A\n",
        "# 06 - D\n",
        "# 07 - C\n",
        "# 08 - C\n",
        "# 09 - A\n",
        "# 10 - B\n",
        "\n",
        "# 1. Criar uma lista com o gabarito oficial da prova\n",
        "gabarito_oficial = ['D', 'A', 'C', 'B', 'A', 'D', 'C', 'C', 'A', 'B']\n",
        "# 2. Criar uma variável para armazenar a pontuação do aluno (iniciar com 0)\n",
        "nota_final = 0\n",
        "\n",
        "# 3. Usar um laço de repetição (for com range de 10)\n",
        "for i in range(10):\n",
        "    # - Pedir a resposta do aluno para a questão i+1\n",
        "    resposta = input(f\"Insira a sua reposta para a questão 0{i+1}: \").upper()\n",
        "    # - Comparar a resposta do aluno com o gabarito correspondente\n",
        "    if resposta == gabarito_oficial[i]:\n",
        "    # - Se estiver certa, somar 1 ponto\n",
        "        nota_final += 1\n",
        "# 4. Exibir a pontuação total do aluno\n",
        "print(f\"\\nA sua nota final foi {nota_final}.\")"
      ],
      "metadata": {
        "id": "e-vXqwCY_aMq",
        "colab": {
          "base_uri": "https://localhost:8080/"
        },
        "outputId": "9cb86dd1-f992-4496-9dee-0a0ab61135e8"
      },
      "execution_count": null,
      "outputs": [
        {
          "output_type": "stream",
          "name": "stdout",
          "text": [
            "Insira a sua reposta para a questão 01: 5\n",
            "Insira a sua reposta para a questão 02: A\n",
            "Insira a sua reposta para a questão 03: C\n",
            "Insira a sua reposta para a questão 04: a\n",
            "Insira a sua reposta para a questão 05: a\n",
            "Insira a sua reposta para a questão 06: d\n",
            "Insira a sua reposta para a questão 07: c\n",
            "Insira a sua reposta para a questão 08: c\n",
            "Insira a sua reposta para a questão 09: c\n",
            "Insira a sua reposta para a questão 010: c\n",
            "\n",
            "A sua nota final foi 6.\n"
          ]
        }
      ]
    },
    {
      "cell_type": "code",
      "source": [
        "# 10) Um instituto de meteorologia deseja fazer um estudo de temperatura média de cada mês do ano.\n",
        "# Para isso, você precisa fazer um código que colete e armazene essas temperaturas médias em uma lista.\n",
        "# Depois, calcule a média anual das temperaturas e mostre todas as temperaturas acima da média anual e em que mês elas ocorreram,\n",
        "# mostrando os meses por extenso (Janeiro, Fevereiro, etc.).\n",
        "\n",
        "# 1. Lista com os meses do ano\n",
        "meses = [\"Janeiro\", \"Fevereiro\", \"Março\", \"Abril\", \"Maio\", \"Junho\",\n",
        "         \"Julho\", \"Agosto\", \"Setembro\", \"Outubro\", \"Novembro\", \"Dezembro\"]\n",
        "\n",
        "# 2. Lista vazia para armazenar as temperaturas\n",
        "temperaturas = []\n",
        "\n",
        "# 3. Coleta das 12 temperaturas\n",
        "for i in range(12):\n",
        "    temp = float(input(f\"Digite a temperatura média de {meses[i]}: \"))\n",
        "    temperaturas.append(temp)\n",
        "\n",
        "# 4. Cálculo da média anual\n",
        "media_anual = sum(temperaturas) / len(temperaturas)\n",
        "\n",
        "# 6. Imprimir média\n",
        "print(f\"\\nMédia anual das temperaturas: {media_anual:.2f}°C\")\n",
        "print(\"Meses com temperatura acima da média anual:\")\n",
        "\n",
        "# 5. Mostrar meses acima da média\n",
        "for i in range(12):\n",
        "    if temperaturas[i] > media_anual:\n",
        "        print(f\"{meses[i]}: {temperaturas[i]:.2f}°C\")\n"
      ],
      "metadata": {
        "id": "E5LHmGVp_aPg",
        "colab": {
          "base_uri": "https://localhost:8080/"
        },
        "outputId": "f5c84b49-bc9d-4474-f932-65b99d345158"
      },
      "execution_count": null,
      "outputs": [
        {
          "output_type": "stream",
          "name": "stdout",
          "text": [
            "Digite a temperatura média de Janeiro: 15\n",
            "Digite a temperatura média de Fevereiro: 23\n",
            "Digite a temperatura média de Março: 22\n",
            "Digite a temperatura média de Abril: 11\n",
            "Digite a temperatura média de Maio: 4\n",
            "Digite a temperatura média de Junho: 13\n",
            "Digite a temperatura média de Julho: 26\n",
            "Digite a temperatura média de Agosto: 54\n",
            "Digite a temperatura média de Setembro: 13\n",
            "Digite a temperatura média de Outubro: -44\n",
            "Digite a temperatura média de Novembro: -25\n",
            "Digite a temperatura média de Dezembro: 63\n",
            "\n",
            "Média anual das temperaturas: 14.58°C\n",
            "Meses com temperatura acima da média anual:\n",
            "Janeiro: 15.00°C\n",
            "Fevereiro: 23.00°C\n",
            "Março: 22.00°C\n",
            "Julho: 26.00°C\n",
            "Agosto: 54.00°C\n",
            "Dezembro: 63.00°C\n"
          ]
        }
      ]
    },
    {
      "cell_type": "code",
      "source": [
        "# 11) Uma empresa de e-commerce está interessada em analisar as vendas dos seus produtos. Os dados das vendas foram armazenados em um dicionário:\n",
        "# {'Produto A': 300, 'Produto B': 80, 'Produto C': 60, 'Produto D': 200, 'Produto E': 250, 'Produto F': 30}\n",
        "# Escreva um código que calcule o total de vendas e o produto mais vendido.\n",
        "\n",
        "# 1. Criar o dicionário com os produtos e suas respectivas vendas\n",
        "vendas = {\n",
        "    \"Produto A\": 300,\n",
        "    \"Produto B\": 80,\n",
        "    \"Produto C\": 60,\n",
        "    \"Produto D\": 200,\n",
        "    \"Produto E\": 250,\n",
        "    \"Produto F\": 30\n",
        "    }\n",
        "\n",
        "# 2. Calcular o total de vendas:\n",
        "total_vendas = sum(vendas.values())\n",
        "\n",
        "# 3. Encontrar o produto mais vendido:\n",
        "# - Usar max() com base nos valores do dicionário\n",
        "mais_vendido = max(vendas, key=vendas.get)\n",
        "quant_mais_vendido = vendas[mais_vendido]\n",
        "\n",
        "# 4. Exibir:\n",
        "print(f\"Total de vendas: {total_vendas} unidades\")\n",
        "print(f\"Produto mais vendido: {mais_vendido} ({quant_mais_vendido} unidades)\")\n"
      ],
      "metadata": {
        "id": "rUNh8PoG_aSR",
        "colab": {
          "base_uri": "https://localhost:8080/"
        },
        "outputId": "a838f287-34e7-4295-9bef-78cf34479635"
      },
      "execution_count": null,
      "outputs": [
        {
          "output_type": "stream",
          "name": "stdout",
          "text": [
            "Total de vendas: 920 unidades\n",
            "Produto mais vendido: Produto A (300 unidades)\n"
          ]
        }
      ]
    },
    {
      "cell_type": "code",
      "source": [
        "# 12) Uma pesquisa de mercado foi feita para decidir qual design de marca infantil mais agrada as crianças.\n",
        "# A pesquisa foi feita e o votos computados podem ser observados abaixo:\n",
        "\n",
        "'''\n",
        "Tabela de votos da marca\n",
        "Design 1 - 1334 votos\n",
        "Design 2 - 982 votos\n",
        "Design 3 - 1751 votos\n",
        "Design 4 - 210 votos\n",
        "Design 5 - 1811 votos\n",
        "'''\n",
        "\n",
        "# Adapte os dados fornecidos para uma estrutura de dicionário. A partir dele, informe o design vencedor e a porcentagem de votos recebidos.\n",
        "\n",
        "# 1. Dicionário com os votos dos designs\n",
        "tabela_votos = {\n",
        "    \"Design 1\": 1334,\n",
        "    \"Design 2\": 982,\n",
        "    \"Design 3\": 1751,\n",
        "    \"Design 4\": 210,\n",
        "    \"Design 5\": 1811\n",
        "}\n",
        "\n",
        "# 2. Calcular total de votos\n",
        "total_votos = sum(tabela_votos.values())\n",
        "\n",
        "# 3. Encontrar o design vencedor\n",
        "vencedor = max(tabela_votos, key=tabela_votos.get)\n",
        "\n",
        "# 4. Calcular a porcentagem do design vencedor\n",
        "votos_vencedor = tabela_votos[vencedor]\n",
        "porc_vencedor = (votos_vencedor / total_votos) * 100\n",
        "\n",
        "# 5. Exibir resultados\n",
        "print(f\"O design vencedor foi {vencedor}!\")\n",
        "print(f\"E o seu número de votos foi {votos_vencedor}!\")\n",
        "print(f\"Esse design recebeu {porc_vencedor:.2f}% dos votos.\")\n",
        "\n"
      ],
      "metadata": {
        "id": "tf5GDLGf_aVK",
        "colab": {
          "base_uri": "https://localhost:8080/"
        },
        "outputId": "1bf16ab6-f6ba-4cb5-c4b9-52030d34a7c1"
      },
      "execution_count": null,
      "outputs": [
        {
          "output_type": "stream",
          "name": "stdout",
          "text": [
            "O design vencedor foi Design 5!\n",
            "E o seu número de votos foi 1811!\n",
            "Esse design recebeu 29.75% dos votos.\n"
          ]
        }
      ]
    },
    {
      "cell_type": "code",
      "source": [
        "# 13) As pessoas colaboradoras de um setor da empresa que você trabalha vão receber um abono correspondente a 10% do salário devido ao ótimo desempenho do time.\n",
        "# O setor financeiro solicitou sua ajuda para a verificação das consequências financeiras que esse abono irá gerar nos recursos.\n",
        "# Assim, foi encaminhada para você uma lista com os salários que receberão o abono: [1172, 1644, 2617, 5130, 5532, 6341, 6650, 7238, 7685, 7782, 7903].\n",
        "# O abono de cada colaborador(a) não pode ser inferior a 200.\n",
        "\n",
        "# Em código, transforme cada um dos salários em chaves de um dicionário e o abono de cada salário no elemento.\n",
        "# Depois, informe o total de gastos com o abono, quantos(as) colaboradores(as) receberam o abono mínimo e qual o maior valor de abono fornecido.\n",
        "\n",
        "salarios = [1172, 1644, 2617, 5130, 5532, 6341, 6650, 7238, 7685, 7782, 7903] # 1. Criar uma lista com os salários fornecidos\n",
        "abonos = {} # 2. Criar um dicionário vazio para armazenar:\n",
        "\n",
        "# 3. Percorrer a lista com um for:\n",
        "for salario in salarios:\n",
        "    calculado = salario * 1.10     # - Calcular 10% do salário\n",
        "    if calculado < 200: # - Se o valor for menor que 200, o abono será 200\n",
        "        abono_final = 200\n",
        "    else:\n",
        "        abono_final = calculado # - Adicionar ao dicionário: salario -> abono\n",
        "abonos[salario] = abono_final\n",
        "\n",
        "# 4. Após o loop:\n",
        "total_abonos = sum(abonos.values()) # - Calcular o total de abonos com sum()\n",
        "quantidade_minimo = list(abonos.values()).count(200) # - Contar quantos colaboradores receberam exatamente 200\n",
        "maior_abono = max(abonos.values()) # - Encontrar o maior abono com max()\n",
        "\n",
        "# Resultados\n",
        "print(\"Resumo dos abonos:\")\n",
        "for salario, abono in abonos.items():\n",
        "    print(f\"Salário: R${salario:.2f} → Abono: R${abono:.2f}\")\n",
        "\n",
        "print(f\"\\nTotal gasto com abonos: R${total_abonos:.2f}\")\n",
        "print(f\"Colaboradores que receberam o abono mínimo de R$200: {quantidade_minimo}\")\n",
        "print(f\"Maior abono pago: R${maior_abono:.2f}\")"
      ],
      "metadata": {
        "id": "YsJtD0lz_aYS",
        "colab": {
          "base_uri": "https://localhost:8080/"
        },
        "outputId": "cf3c0ee1-bf07-4ccc-af7c-6214de64efcb"
      },
      "execution_count": 1,
      "outputs": [
        {
          "output_type": "stream",
          "name": "stdout",
          "text": [
            "Resumo dos abonos:\n",
            "Salário: R$7903.00 → Abono: R$8693.30\n",
            "\n",
            "Total gasto com abonos: R$8693.30\n",
            "Colaboradores que receberam o abono mínimo de R$200: 0\n",
            "Maior abono pago: R$8693.30\n"
          ]
        }
      ]
    },
    {
      "cell_type": "code",
      "source": [
        "# 14) Uma equipe de cientistas de dados está estudando a diversidade biológica em uma floresta.\n",
        "# A equipe fez a coleta de informações sobre o número de espécies de plantas e animais em cada área dessa floresta e armazenou essas informações em um dicionário.\n",
        "# Nele, a chave descreve a área dos dados e os valores nas listas correspondem às espécies de plantas e animais nas áreas, respectivamente.\n",
        "\n",
        "# Escreva um código para calcular a média de espécies por área e identificar a área com a maior diversidade biológica. Dica: use as funções built-in sum() e len().\n",
        "\n",
        "# 1. Criar o dicionário com os dados da floresta\n",
        "floresta = {\n",
        "    'Área Norte': [2819, 7236],\n",
        "    'Área Leste': [1440, 9492],\n",
        "    'Área Sul': [5969, 7496],\n",
        "    'Área Oeste': [14446, 49688],\n",
        "    'Área Centro': [22558, 45148]\n",
        "}\n",
        "\n",
        "# 2. Criar um novo dicionário (ou usar um loop) para calcular:\n",
        "medias_especies = {}\n",
        "\n",
        "for area, especies in floresta.items():\n",
        "    media = sum(especies) / 2\n",
        "    medias_especies[area] = media\n",
        "\n",
        "# 3. Usar max() para identificar a área com a maior diversidade:\n",
        "area_mais_diversa = max(floresta, key=lambda area: sum(floresta[area]))\n",
        "total_especies_mais_diversa = sum(floresta[area_mais_diversa])\n",
        "\n",
        "# 4. Mostrar:\n",
        "# 4. Mostrar resultados\n",
        "print(\"Média de espécies por área:\")\n",
        "for area, media in medias_especies.items():\n",
        "    print(f\"{area}: {media:.1f} espécies em média\")\n",
        "\n",
        "print(f\"\\nÁrea com maior diversidade biológica: {area_mais_diversa}\")\n",
        "print(f\"Número total de espécies: {total_especies_mais_diversa}\")\n"
      ],
      "metadata": {
        "id": "uyGw0eop_abK",
        "colab": {
          "base_uri": "https://localhost:8080/"
        },
        "outputId": "5de7079e-b919-4f5c-9862-4f8095c040ea"
      },
      "execution_count": 2,
      "outputs": [
        {
          "output_type": "stream",
          "name": "stdout",
          "text": [
            "Média de espécies por área:\n",
            "Área Norte: 5027.5 espécies em média\n",
            "Área Leste: 5466.0 espécies em média\n",
            "Área Sul: 6732.5 espécies em média\n",
            "Área Oeste: 32067.0 espécies em média\n",
            "Área Centro: 33853.0 espécies em média\n",
            "\n",
            "Área com maior diversidade biológica: Área Centro\n",
            "Número total de espécies: 67706\n"
          ]
        }
      ]
    },
    {
      "cell_type": "code",
      "source": [
        "# 15) O setor de RH da sua empresa te pediu uma ajuda para analisar as idades de colaboradores(as) de 4 setores da empresa.\n",
        "# Sabendo que cada setor tem 10 colaboradores(as), construa um código que calcule a média de idade de cada setor,\n",
        "# a idade média geral entre todos os setores e quantas pessoas estão acima da idade média geral.\n",
        "\n",
        "idades_setores = {\n",
        "    'Setor A': [22, 26, 30, 30, 35, 38, 40, 56, 57, 65],\n",
        "    'Setor B': [22, 24, 26, 33, 41, 49, 50, 54, 60, 64],\n",
        "    'Setor C': [23, 26, 26, 29, 34, 35, 36, 41, 52, 56],\n",
        "    'Setor D': [19, 20, 25, 27, 34, 39, 42, 44, 50, 65]\n",
        "}\n",
        "\n",
        "# 1 e 2. Média por setor\n",
        "print(\"Média de idade por setor:\")\n",
        "for setor, idades in idades_setores.items():\n",
        "    media = sum(idades) / len(idades)\n",
        "    print(f\"{setor}: {media:.2f} anos\")\n",
        "\n",
        "# 3. Unir todas as idades\n",
        "todas_idades = []\n",
        "for idades in idades_setores.values():\n",
        "    todas_idades.extend(idades)\n",
        "\n",
        "# 4. Média geral\n",
        "media_geral = sum(todas_idades) / len(todas_idades)\n",
        "print(f\"\\nMédia geral de idades: {media_geral:.2f} anos\")\n",
        "\n",
        "# 5. Contar acima da média\n",
        "acima_media = sum(1 for idade in todas_idades if idade > media_geral)\n",
        "print(f\"Pessoas com idade acima da média geral: {acima_media}\")\n"
      ],
      "metadata": {
        "id": "wigQIUFVAvHC",
        "colab": {
          "base_uri": "https://localhost:8080/"
        },
        "outputId": "6ddd4c98-8bbf-462e-f871-ffe31da6602d"
      },
      "execution_count": 3,
      "outputs": [
        {
          "output_type": "stream",
          "name": "stdout",
          "text": [
            "Média de idade por setor:\n",
            "Setor A: 39.90 anos\n",
            "Setor B: 42.30 anos\n",
            "Setor C: 35.80 anos\n",
            "Setor D: 36.50 anos\n",
            "\n",
            "Média geral de idades: 38.62 anos\n",
            "Pessoas com idade acima da média geral: 18\n"
          ]
        }
      ]
    }
  ]
}